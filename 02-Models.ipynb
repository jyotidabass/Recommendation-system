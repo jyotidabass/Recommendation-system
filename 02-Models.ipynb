{
 "cells": [
  {
   "cell_type": "code",
   "execution_count": 4,
   "metadata": {},
   "outputs": [],
   "source": [
    "import sys\n",
    "sys.path.append(\"../\")\n",
    "\n",
    "import warnings\n",
    "warnings.filterwarnings(\"ignore\")"
   ]
  },
  {
   "cell_type": "code",
   "execution_count": 122,
   "metadata": {},
   "outputs": [],
   "source": [
    "import time\n",
    "import h5py\n",
    "import os\n",
    "from spotlight.interactions import Interactions\n",
    "import hashlib\n",
    "import json\n",
    "import os\n",
    "import shutil\n",
    "import sys\n",
    "import numpy as np\n",
    "import torch\n",
    "from sklearn.model_selection import ParameterSampler\n",
    "from spotlight.cross_validation import user_based_train_test_split\n",
    "from spotlight.sequence.implicit import ImplicitSequenceModel\n",
    "from spotlight.sequence.representations import CNNNet\n",
    "from spotlight.evaluation import sequence_mrr_score\n",
    "import pandas as pd\n",
    "from sklearn.preprocessing import LabelEncoder\n",
    "random_state = np.random.RandomState(100)\n",
    "\n",
    "from spotlight.cross_validation import random_train_test_split\n",
    "from spotlight.evaluation import mrr_score\n",
    "from spotlight.factorization.implicit import ImplicitFactorizationModel\n",
    "from spotlight.evaluation import precision_recall_score"
   ]
  },
  {
   "cell_type": "code",
   "execution_count": 8,
   "metadata": {},
   "outputs": [],
   "source": [
    "from IPython.display import SVG, display\n",
    "import matplotlib.pyplot as plt\n",
    "import seaborn as sns\n",
    "from reco.preprocess import encode_user_item, random_split, user_split\n",
    "\n",
    "%matplotlib inline"
   ]
  },
  {
   "cell_type": "markdown",
   "metadata": {},
   "source": [
    "# Prepare the data"
   ]
  },
  {
   "cell_type": "code",
   "execution_count": 2,
   "metadata": {},
   "outputs": [],
   "source": [
    "df = pd.read_csv(\"/tf/notebooks/data/yoochoose/rating.csv\") "
   ]
  },
  {
   "cell_type": "code",
   "execution_count": 3,
   "metadata": {},
   "outputs": [
    {
     "data": {
      "text/html": [
       "<div>\n",
       "<style scoped>\n",
       "    .dataframe tbody tr th:only-of-type {\n",
       "        vertical-align: middle;\n",
       "    }\n",
       "\n",
       "    .dataframe tbody tr th {\n",
       "        vertical-align: top;\n",
       "    }\n",
       "\n",
       "    .dataframe thead th {\n",
       "        text-align: right;\n",
       "    }\n",
       "</style>\n",
       "<table border=\"1\" class=\"dataframe\">\n",
       "  <thead>\n",
       "    <tr style=\"text-align: right;\">\n",
       "      <th></th>\n",
       "      <th>SessionId</th>\n",
       "      <th>ItemId</th>\n",
       "      <th>ItemType</th>\n",
       "      <th>Action</th>\n",
       "      <th>Time</th>\n",
       "      <th>Rating</th>\n",
       "    </tr>\n",
       "  </thead>\n",
       "  <tbody>\n",
       "    <tr>\n",
       "      <td>0</td>\n",
       "      <td>87</td>\n",
       "      <td>214840483</td>\n",
       "      <td>NONE</td>\n",
       "      <td>BUY</td>\n",
       "      <td>1.396852e+09</td>\n",
       "      <td>5</td>\n",
       "    </tr>\n",
       "    <tr>\n",
       "      <td>1</td>\n",
       "      <td>87</td>\n",
       "      <td>214840483</td>\n",
       "      <td>NONE</td>\n",
       "      <td>BUY</td>\n",
       "      <td>1.396852e+09</td>\n",
       "      <td>5</td>\n",
       "    </tr>\n",
       "    <tr>\n",
       "      <td>2</td>\n",
       "      <td>87</td>\n",
       "      <td>214717286</td>\n",
       "      <td>NONE</td>\n",
       "      <td>CLICK</td>\n",
       "      <td>1.396852e+09</td>\n",
       "      <td>1</td>\n",
       "    </tr>\n",
       "    <tr>\n",
       "      <td>3</td>\n",
       "      <td>87</td>\n",
       "      <td>214558807</td>\n",
       "      <td>NONE</td>\n",
       "      <td>CLICK</td>\n",
       "      <td>1.396852e+09</td>\n",
       "      <td>1</td>\n",
       "    </tr>\n",
       "    <tr>\n",
       "      <td>4</td>\n",
       "      <td>87</td>\n",
       "      <td>214821300</td>\n",
       "      <td>NONE</td>\n",
       "      <td>CLICK</td>\n",
       "      <td>1.396852e+09</td>\n",
       "      <td>1</td>\n",
       "    </tr>\n",
       "  </tbody>\n",
       "</table>\n",
       "</div>"
      ],
      "text/plain": [
       "   SessionId     ItemId ItemType Action          Time  Rating\n",
       "0         87  214840483     NONE    BUY  1.396852e+09       5\n",
       "1         87  214840483     NONE    BUY  1.396852e+09       5\n",
       "2         87  214717286     NONE  CLICK  1.396852e+09       1\n",
       "3         87  214558807     NONE  CLICK  1.396852e+09       1\n",
       "4         87  214821300     NONE  CLICK  1.396852e+09       1"
      ]
     },
     "execution_count": 3,
     "metadata": {},
     "output_type": "execute_result"
    }
   ],
   "source": [
    "df.head()"
   ]
  },
  {
   "cell_type": "code",
   "execution_count": 9,
   "metadata": {},
   "outputs": [
    {
     "name": "stdout",
     "output_type": "stream",
     "text": [
      "Number of users:  42144\n",
      "Number of items:  5120\n"
     ]
    }
   ],
   "source": [
    "# Data Encoding\n",
    "DATA, user_encoder, item_encoder = encode_user_item(df, \"SessionId\", \"ItemId\", \"Rating\", \"Time\")"
   ]
  },
  {
   "cell_type": "code",
   "execution_count": 53,
   "metadata": {},
   "outputs": [],
   "source": [
    "# Spotlight requires encoders to begin from 1 (instead of 0). We will add 1 to the encoders \n",
    "# When doing inverse transform, remember to subtract 1.\n",
    "\n",
    "DATA.USER = DATA.USER + 1\n",
    "DATA.ITEM = DATA.ITEM + 1"
   ]
  },
  {
   "cell_type": "code",
   "execution_count": 55,
   "metadata": {},
   "outputs": [],
   "source": [
    "DATA.RATING = DATA.RATING.astype(np.int32)\n",
    "DATA.USER = DATA.USER.astype(np.int32)\n",
    "DATA.ITEM = DATA.ITEM.astype(np.int32)"
   ]
  },
  {
   "cell_type": "code",
   "execution_count": 56,
   "metadata": {},
   "outputs": [
    {
     "data": {
      "text/html": [
       "<div>\n",
       "<style scoped>\n",
       "    .dataframe tbody tr th:only-of-type {\n",
       "        vertical-align: middle;\n",
       "    }\n",
       "\n",
       "    .dataframe tbody tr th {\n",
       "        vertical-align: top;\n",
       "    }\n",
       "\n",
       "    .dataframe thead th {\n",
       "        text-align: right;\n",
       "    }\n",
       "</style>\n",
       "<table border=\"1\" class=\"dataframe\">\n",
       "  <thead>\n",
       "    <tr style=\"text-align: right;\">\n",
       "      <th></th>\n",
       "      <th>SessionId</th>\n",
       "      <th>ItemId</th>\n",
       "      <th>ItemType</th>\n",
       "      <th>Action</th>\n",
       "      <th>TIMESTAMP</th>\n",
       "      <th>RATING</th>\n",
       "      <th>USER</th>\n",
       "      <th>ITEM</th>\n",
       "    </tr>\n",
       "  </thead>\n",
       "  <tbody>\n",
       "    <tr>\n",
       "      <td>0</td>\n",
       "      <td>87</td>\n",
       "      <td>214840483</td>\n",
       "      <td>NONE</td>\n",
       "      <td>BUY</td>\n",
       "      <td>1.396852e+09</td>\n",
       "      <td>5</td>\n",
       "      <td>1</td>\n",
       "      <td>3844</td>\n",
       "    </tr>\n",
       "    <tr>\n",
       "      <td>1</td>\n",
       "      <td>87</td>\n",
       "      <td>214840483</td>\n",
       "      <td>NONE</td>\n",
       "      <td>BUY</td>\n",
       "      <td>1.396852e+09</td>\n",
       "      <td>5</td>\n",
       "      <td>1</td>\n",
       "      <td>3844</td>\n",
       "    </tr>\n",
       "    <tr>\n",
       "      <td>2</td>\n",
       "      <td>87</td>\n",
       "      <td>214717286</td>\n",
       "      <td>NONE</td>\n",
       "      <td>CLICK</td>\n",
       "      <td>1.396852e+09</td>\n",
       "      <td>1</td>\n",
       "      <td>1</td>\n",
       "      <td>2574</td>\n",
       "    </tr>\n",
       "    <tr>\n",
       "      <td>3</td>\n",
       "      <td>87</td>\n",
       "      <td>214558807</td>\n",
       "      <td>NONE</td>\n",
       "      <td>CLICK</td>\n",
       "      <td>1.396852e+09</td>\n",
       "      <td>1</td>\n",
       "      <td>1</td>\n",
       "      <td>703</td>\n",
       "    </tr>\n",
       "    <tr>\n",
       "      <td>4</td>\n",
       "      <td>87</td>\n",
       "      <td>214821300</td>\n",
       "      <td>NONE</td>\n",
       "      <td>CLICK</td>\n",
       "      <td>1.396852e+09</td>\n",
       "      <td>1</td>\n",
       "      <td>1</td>\n",
       "      <td>2990</td>\n",
       "    </tr>\n",
       "  </tbody>\n",
       "</table>\n",
       "</div>"
      ],
      "text/plain": [
       "   SessionId     ItemId ItemType Action     TIMESTAMP  RATING  USER  ITEM\n",
       "0         87  214840483     NONE    BUY  1.396852e+09       5     1  3844\n",
       "1         87  214840483     NONE    BUY  1.396852e+09       5     1  3844\n",
       "2         87  214717286     NONE  CLICK  1.396852e+09       1     1  2574\n",
       "3         87  214558807     NONE  CLICK  1.396852e+09       1     1   703\n",
       "4         87  214821300     NONE  CLICK  1.396852e+09       1     1  2990"
      ]
     },
     "execution_count": 56,
     "metadata": {},
     "output_type": "execute_result"
    }
   ],
   "source": [
    "DATA.head()"
   ]
  },
  {
   "cell_type": "code",
   "execution_count": 57,
   "metadata": {},
   "outputs": [],
   "source": [
    "df_for_interaction_matrix = (DATA.USER.values,DATA.ITEM.values,DATA.RATING,DATA.TIMESTAMP)"
   ]
  },
  {
   "cell_type": "code",
   "execution_count": 58,
   "metadata": {},
   "outputs": [],
   "source": [
    "df_interaction = Interactions(*df_for_interaction_matrix)"
   ]
  },
  {
   "cell_type": "markdown",
   "metadata": {},
   "source": [
    "# Create train, val and test dataset"
   ]
  },
  {
   "cell_type": "code",
   "execution_count": 86,
   "metadata": {},
   "outputs": [],
   "source": [
    "train_with_val, test = user_based_train_test_split(df_interaction,\n",
    "                                          random_state=random_state, test_percentage = 0.2)\n",
    "\n",
    "train, val = user_based_train_test_split(train_with_val, test_percentage=0.2, random_state=random_state)"
   ]
  },
  {
   "cell_type": "markdown",
   "metadata": {},
   "source": [
    "# Implicit Model"
   ]
  },
  {
   "cell_type": "code",
   "execution_count": 88,
   "metadata": {},
   "outputs": [],
   "source": [
    "model_implicit = ImplicitFactorizationModel(n_iter=3,\n",
    "                                   loss='bpr')"
   ]
  },
  {
   "cell_type": "code",
   "execution_count": 90,
   "metadata": {},
   "outputs": [
    {
     "name": "stdout",
     "output_type": "stream",
     "text": [
      "CPU times: user 6min 4s, sys: 7.6 s, total: 6min 11s\n",
      "Wall time: 1min 58s\n"
     ]
    }
   ],
   "source": [
    "%%time\n",
    "model_implicit.fit(train)"
   ]
  },
  {
   "cell_type": "markdown",
   "metadata": {},
   "source": [
    "### Prediction"
   ]
  },
  {
   "cell_type": "code",
   "execution_count": 111,
   "metadata": {},
   "outputs": [
    {
     "name": "stdout",
     "output_type": "stream",
     "text": [
      "2\n"
     ]
    }
   ],
   "source": [
    "user_for_reco = test.user_ids[0]\n",
    "print(user_for_reco)"
   ]
  },
  {
   "cell_type": "code",
   "execution_count": 112,
   "metadata": {},
   "outputs": [],
   "source": [
    "pred_for_user = model_implicit.predict(user_for_reco)"
   ]
  },
  {
   "cell_type": "code",
   "execution_count": 113,
   "metadata": {},
   "outputs": [
    {
     "data": {
      "text/plain": [
       "array([-3.3767548 ,  0.23255795, -1.3784684 , ...,  0.28644297,\n",
       "       -2.2947752 ,  1.0673456 ], dtype=float32)"
      ]
     },
     "execution_count": 113,
     "metadata": {},
     "output_type": "execute_result"
    }
   ],
   "source": [
    "pred_for_user"
   ]
  },
  {
   "cell_type": "code",
   "execution_count": 114,
   "metadata": {},
   "outputs": [],
   "source": [
    "rec_item_ids = (-pred).argsort()"
   ]
  },
  {
   "cell_type": "code",
   "execution_count": 115,
   "metadata": {},
   "outputs": [
    {
     "data": {
      "text/plain": [
       "array([2671, 4051, 4533, ..., 2755,  195, 2953])"
      ]
     },
     "execution_count": 115,
     "metadata": {},
     "output_type": "execute_result"
    }
   ],
   "source": [
    "rec_item_ids"
   ]
  },
  {
   "cell_type": "code",
   "execution_count": 117,
   "metadata": {},
   "outputs": [
    {
     "data": {
      "text/plain": [
       "3727"
      ]
     },
     "execution_count": 117,
     "metadata": {},
     "output_type": "execute_result"
    }
   ],
   "source": [
    "# ground truth\n",
    "target = test.item_ids[0]\n",
    "target"
   ]
  },
  {
   "cell_type": "code",
   "execution_count": 118,
   "metadata": {},
   "outputs": [
    {
     "data": {
      "text/plain": [
       "(array([2529]),)"
      ]
     },
     "execution_count": 118,
     "metadata": {},
     "output_type": "execute_result"
    }
   ],
   "source": [
    "np.where(rec_item_ids == target)"
   ]
  },
  {
   "cell_type": "markdown",
   "metadata": {},
   "source": [
    "### Evaluation"
   ]
  },
  {
   "cell_type": "code",
   "execution_count": 125,
   "metadata": {},
   "outputs": [
    {
     "name": "stdout",
     "output_type": "stream",
     "text": [
      "CPU times: user 21.4 s, sys: 68 ms, total: 21.4 s\n",
      "Wall time: 10.7 s\n"
     ]
    }
   ],
   "source": [
    "%%time\n",
    "implicit_mrr_score = mrr_score(model_implicit, test)"
   ]
  },
  {
   "cell_type": "code",
   "execution_count": 126,
   "metadata": {},
   "outputs": [
    {
     "data": {
      "text/plain": [
       "array([0.0239379 , 0.00208317, 0.06231011, ..., 0.00373766, 0.07114779,\n",
       "       0.00057579])"
      ]
     },
     "execution_count": 126,
     "metadata": {},
     "output_type": "execute_result"
    }
   ],
   "source": [
    "implicit_mrr_score"
   ]
  },
  {
   "cell_type": "code",
   "execution_count": 124,
   "metadata": {},
   "outputs": [
    {
     "name": "stdout",
     "output_type": "stream",
     "text": [
      "CPU times: user 18.7 s, sys: 64 ms, total: 18.8 s\n",
      "Wall time: 9.39 s\n"
     ]
    }
   ],
   "source": [
    "%%time\n",
    "(pk, rk) = precision_recall_score(model_implicit, test, k= 5)"
   ]
  },
  {
   "cell_type": "markdown",
   "metadata": {},
   "source": [
    "# Sequence Model"
   ]
  },
  {
   "cell_type": "code",
   "execution_count": 85,
   "metadata": {},
   "outputs": [],
   "source": [
    "max_sequence_length = 200\n",
    "min_sequence_length = 50\n",
    "step_size = 200"
   ]
  },
  {
   "cell_type": "code",
   "execution_count": 65,
   "metadata": {},
   "outputs": [],
   "source": [
    "train = train.to_sequence(max_sequence_length=max_sequence_length,\n",
    "                          min_sequence_length=min_sequence_length,\n",
    "                          step_size=step_size)\n",
    "test = test.to_sequence(max_sequence_length=max_sequence_length,\n",
    "                        min_sequence_length=min_sequence_length,\n",
    "                        step_size=step_size)\n",
    "val = val.to_sequence(max_sequence_length=max_sequence_length,\n",
    "                                    min_sequence_length=min_sequence_length,\n",
    "                                    step_size=step_size)"
   ]
  },
  {
   "cell_type": "code",
   "execution_count": 67,
   "metadata": {},
   "outputs": [
    {
     "name": "stdout",
     "output_type": "stream",
     "text": [
      "(1595, 200)\n",
      "(490, 200)\n",
      "(390, 200)\n"
     ]
    }
   ],
   "source": [
    "print(train.sequences.shape)\n",
    "print(test.sequences.shape)\n",
    "print(val.sequences.shape)"
   ]
  },
  {
   "cell_type": "code",
   "execution_count": 68,
   "metadata": {},
   "outputs": [],
   "source": [
    "net = CNNNet(train.num_items,\n",
    "             embedding_dim=128,\n",
    "             kernel_width=3,\n",
    "             dilation=[1,1,1,1],\n",
    "             num_layers=2,\n",
    "             nonlinearity=\"relu\",\n",
    "             residual_connections=False)"
   ]
  },
  {
   "cell_type": "code",
   "execution_count": 69,
   "metadata": {},
   "outputs": [],
   "source": [
    "model = ImplicitSequenceModel(loss=\"bpr\",\n",
    "                              representation=net,\n",
    "                              batch_size=32,\n",
    "                              learning_rate=0.1,\n",
    "                              l2=0.0,\n",
    "                              n_iter=2,\n",
    "                              random_state=random_state)"
   ]
  },
  {
   "cell_type": "code",
   "execution_count": 70,
   "metadata": {},
   "outputs": [
    {
     "name": "stdout",
     "output_type": "stream",
     "text": [
      "CPU times: user 2min 32s, sys: 200 ms, total: 2min 33s\n",
      "Wall time: 1min 16s\n"
     ]
    }
   ],
   "source": [
    "%%time\n",
    "model.fit(train)"
   ]
  },
  {
   "cell_type": "markdown",
   "metadata": {},
   "source": [
    "### Prediction"
   ]
  },
  {
   "cell_type": "code",
   "execution_count": 71,
   "metadata": {},
   "outputs": [
    {
     "name": "stdout",
     "output_type": "stream",
     "text": [
      "Shape of query is :  (199,)\n",
      "The value of target is :  2579\n"
     ]
    }
   ],
   "source": [
    "query = test.sequences[1][0:199]\n",
    "target = test.sequences[1][199]\n",
    "\n",
    "print(\"Shape of query is : \",query.shape)\n",
    "print(\"The value of target is : \",target)"
   ]
  },
  {
   "cell_type": "code",
   "execution_count": 72,
   "metadata": {},
   "outputs": [],
   "source": [
    "pred = model.predict(query)"
   ]
  },
  {
   "cell_type": "code",
   "execution_count": 73,
   "metadata": {},
   "outputs": [],
   "source": [
    "rec_item_ids = (-pred).argsort()"
   ]
  },
  {
   "cell_type": "code",
   "execution_count": 83,
   "metadata": {},
   "outputs": [],
   "source": [
    "# Prediction scores"
   ]
  },
  {
   "cell_type": "code",
   "execution_count": 74,
   "metadata": {},
   "outputs": [
    {
     "data": {
      "text/plain": [
       "array([      0.   , -105572.055,  -38352.793, ...,   10967.484,\n",
       "        -36471.242,  128064.086], dtype=float32)"
      ]
     },
     "execution_count": 74,
     "metadata": {},
     "output_type": "execute_result"
    }
   ],
   "source": [
    "pred"
   ]
  },
  {
   "cell_type": "code",
   "execution_count": 81,
   "metadata": {},
   "outputs": [],
   "source": [
    "# Sorted order of the recommendations"
   ]
  },
  {
   "cell_type": "code",
   "execution_count": 75,
   "metadata": {},
   "outputs": [
    {
     "data": {
      "text/plain": [
       "array([2671, 4051, 4533, ..., 2755,  195, 2953])"
      ]
     },
     "execution_count": 75,
     "metadata": {},
     "output_type": "execute_result"
    }
   ],
   "source": [
    "rec_item_ids"
   ]
  },
  {
   "cell_type": "code",
   "execution_count": 80,
   "metadata": {},
   "outputs": [],
   "source": [
    "### Finding the position of our actual ground truth in the prediction:"
   ]
  },
  {
   "cell_type": "code",
   "execution_count": 76,
   "metadata": {},
   "outputs": [
    {
     "data": {
      "text/plain": [
       "(array([1647]),)"
      ]
     },
     "execution_count": 76,
     "metadata": {},
     "output_type": "execute_result"
    }
   ],
   "source": [
    "np.where(rec_item_ids == target)"
   ]
  },
  {
   "cell_type": "code",
   "execution_count": 79,
   "metadata": {},
   "outputs": [],
   "source": [
    "### Item ID that is to be recommended :"
   ]
  },
  {
   "cell_type": "code",
   "execution_count": 78,
   "metadata": {},
   "outputs": [
    {
     "data": {
      "text/plain": [
       "214718379"
      ]
     },
     "execution_count": 78,
     "metadata": {},
     "output_type": "execute_result"
    }
   ],
   "source": [
    "item_encoder.inverse_transform([rec_item_ids[0]-1])[0]"
   ]
  },
  {
   "cell_type": "code",
   "execution_count": null,
   "metadata": {},
   "outputs": [],
   "source": []
  }
 ],
 "metadata": {
  "kernelspec": {
   "display_name": "Python 3",
   "language": "python",
   "name": "python3"
  },
  "language_info": {
   "codemirror_mode": {
    "name": "ipython",
    "version": 3
   },
   "file_extension": ".py",
   "mimetype": "text/x-python",
   "name": "python",
   "nbconvert_exporter": "python",
   "pygments_lexer": "ipython3",
   "version": "3.6.8"
  }
 },
 "nbformat": 4,
 "nbformat_minor": 4
}
