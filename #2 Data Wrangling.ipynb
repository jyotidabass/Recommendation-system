{
 "cells": [
  {
   "cell_type": "markdown",
   "metadata": {},
   "source": [
    "# Acquire & Refine the Data\n"
   ]
  },
  {
   "cell_type": "markdown",
   "metadata": {},
   "source": [
    "## Items, Users, Signal\n",
    "\n",
    "- **Items**: Objects to be recommended\n",
    "- **Users**: Target of the recommendation\n",
    "- **Signal**: Explicit or Implicit feedback between Items and users\n",
    "\n",
    "In our context\n",
    "- Items are **stories** posted on HN\n",
    "- Users are **users** commenting or posting stories\n",
    "- Signal are **comments** on the stories by the user signalling interest"
   ]
  },
  {
   "cell_type": "markdown",
   "metadata": {},
   "source": [
    "## Source of Data \n",
    "\n",
    "Lets see the sources for getting historical information posted on HackerNews\n",
    "\n",
    "- **HackerNews API** - YCombinator provides an official hackernew api through Firebase. This is a near real-time database and provides both an *items* (stories and comments) as well as an *users* api.  It is available at https://github.com/HackerNews/API\n",
    "\n",
    "- **BigQuery** : Google Big Query has a daily updated HackerNews public dataset available (from 2006 to date). It only has *items* information. It is available at https://bigquery.cloud.google.com/table/bigquery-public-data:hacker_news.full"
   ]
  },
  {
   "cell_type": "markdown",
   "metadata": {},
   "source": [
    "## Items (Stories) \n",
    "\n",
    "The schema for the Big Query table is\n",
    "\n",
    "| Field       | Type      | Description                           |\n",
    "|:------------|----------:|:--------------------------------------|\n",
    "| by          | STRING    | The username of the item's author.    |\n",
    "| score       | INTEGER   | Story score                           |\n",
    "| time        | INTEGER   | Unix time                             |\n",
    "| timestamp   | TIMESTAMP | Timestamp for the unix time           |\n",
    "| title       | STRING    | Story title                           |\n",
    "| type        | STRING    | Type of details (comment, story, ...) |\n",
    "| url         | STRING    | Story url                             |\n",
    "| text        | STRING    | Story or comment text                 |\n",
    "| parent      | INTEGER   | Parent comment ID                     |\n",
    "| deleted     | BOOLEAN   | Is deleted?                           |\n",
    "| dead        | BOOLEAN   | Is dead?                              |\n",
    "| descendants | INTEGER   | Number of story or poll descendants   |\n",
    "| id          | INTEGER   | The item's unique id.                 |\n",
    "| ranking     | INTEGER   | Comment ranking                       |\n",
    "\n",
    "\n",
    "- Get all the stories posted on HackerNews in **2017 (till date)**. \n",
    "- To ensure a relevant set, we will limit the stories which have atleast have **score of 5 points or more** on them. \n",
    "\n",
    "We will can use the BigQuery Web Interface to do this. (We can also use the python api for doing it...)\n",
    "\n",
    "```SQL\n",
    "#standardSQL\n",
    "SELECT * \n",
    "FROM `bigquery-public-data.hacker_news.full`\n",
    "WHERE type=\"story\" AND score > 4 AND EXTRACT(YEAR FROM timestamp)=2017\n",
    "```\n",
    "\n",
    "This dataset is available in `data\\stories2017score5.gzip`"
   ]
  },
  {
   "cell_type": "code",
   "execution_count": 1,
   "metadata": {
    "collapsed": true,
    "jupyter": {
     "outputs_hidden": true
    }
   },
   "outputs": [],
   "source": [
    "import numpy as np\n",
    "import pandas as pd\n",
    "import matplotlib.pyplot as plt\n",
    "plt.style.use('ggplot')"
   ]
  },
  {
   "cell_type": "code",
   "execution_count": 2,
   "metadata": {
    "collapsed": true,
    "jupyter": {
     "outputs_hidden": true
    }
   },
   "outputs": [],
   "source": [
    "%matplotlib inline"
   ]
  },
  {
   "cell_type": "code",
   "execution_count": 3,
   "metadata": {
    "collapsed": true,
    "jupyter": {
     "outputs_hidden": true
    }
   },
   "outputs": [],
   "source": [
    "# Read the gzip file into memory\n",
    "stories_all = pd.read_csv(\"data/stories2017score5.csv.gzip\", compression='gzip', low_memory=False)"
   ]
  },
  {
   "cell_type": "code",
   "execution_count": 4,
   "metadata": {},
   "outputs": [
    {
     "data": {
      "text/plain": [
       "(56757, 14)"
      ]
     },
     "execution_count": 4,
     "metadata": {},
     "output_type": "execute_result"
    }
   ],
   "source": [
    "# Lets see the number of records\n",
    "stories_all.shape"
   ]
  },
  {
   "cell_type": "code",
   "execution_count": 5,
   "metadata": {},
   "outputs": [
    {
     "data": {
      "text/html": [
       "<div>\n",
       "<table border=\"1\" class=\"dataframe\">\n",
       "  <thead>\n",
       "    <tr style=\"text-align: right;\">\n",
       "      <th></th>\n",
       "      <th>by</th>\n",
       "      <th>score</th>\n",
       "      <th>time</th>\n",
       "      <th>timestamp</th>\n",
       "      <th>title</th>\n",
       "      <th>type</th>\n",
       "      <th>url</th>\n",
       "      <th>text</th>\n",
       "      <th>parent</th>\n",
       "      <th>deleted</th>\n",
       "      <th>dead</th>\n",
       "      <th>descendants</th>\n",
       "      <th>id</th>\n",
       "      <th>ranking</th>\n",
       "    </tr>\n",
       "  </thead>\n",
       "  <tbody>\n",
       "    <tr>\n",
       "      <th>0</th>\n",
       "      <td>edsouza</td>\n",
       "      <td>5</td>\n",
       "      <td>1510895219</td>\n",
       "      <td>2017-11-17 05:06:59 UTC</td>\n",
       "      <td>Meet the Tesla Semitruck</td>\n",
       "      <td>story</td>\n",
       "      <td>https://www.wired.com/story/tesla-truck-revealed/</td>\n",
       "      <td>NaN</td>\n",
       "      <td>NaN</td>\n",
       "      <td>NaN</td>\n",
       "      <td>True</td>\n",
       "      <td>NaN</td>\n",
       "      <td>15719098</td>\n",
       "      <td>NaN</td>\n",
       "    </tr>\n",
       "    <tr>\n",
       "      <th>1</th>\n",
       "      <td>mathchick</td>\n",
       "      <td>5</td>\n",
       "      <td>1495226520</td>\n",
       "      <td>2017-05-19 20:42:00 UTC</td>\n",
       "      <td>Raising Rebel Girls</td>\n",
       "      <td>story</td>\n",
       "      <td>https://code.likeagirl.io/raising-rebel-girls-...</td>\n",
       "      <td>NaN</td>\n",
       "      <td>NaN</td>\n",
       "      <td>NaN</td>\n",
       "      <td>True</td>\n",
       "      <td>NaN</td>\n",
       "      <td>14379186</td>\n",
       "      <td>NaN</td>\n",
       "    </tr>\n",
       "    <tr>\n",
       "      <th>2</th>\n",
       "      <td>jscholes</td>\n",
       "      <td>5</td>\n",
       "      <td>1498940583</td>\n",
       "      <td>2017-07-01 20:23:03 UTC</td>\n",
       "      <td>Woman accidentally kills her boyfriend in atte...</td>\n",
       "      <td>story</td>\n",
       "      <td>https://arstechnica.com/tech-policy/2017/06/in...</td>\n",
       "      <td>NaN</td>\n",
       "      <td>NaN</td>\n",
       "      <td>NaN</td>\n",
       "      <td>True</td>\n",
       "      <td>NaN</td>\n",
       "      <td>14678802</td>\n",
       "      <td>NaN</td>\n",
       "    </tr>\n",
       "    <tr>\n",
       "      <th>3</th>\n",
       "      <td>huangc10</td>\n",
       "      <td>5</td>\n",
       "      <td>1510186454</td>\n",
       "      <td>2017-11-09 00:14:14 UTC</td>\n",
       "      <td>Coinbase is Down</td>\n",
       "      <td>story</td>\n",
       "      <td>https://www.coinbase.com/</td>\n",
       "      <td>NaN</td>\n",
       "      <td>NaN</td>\n",
       "      <td>NaN</td>\n",
       "      <td>True</td>\n",
       "      <td>NaN</td>\n",
       "      <td>15658508</td>\n",
       "      <td>NaN</td>\n",
       "    </tr>\n",
       "    <tr>\n",
       "      <th>4</th>\n",
       "      <td>calebgarling</td>\n",
       "      <td>5</td>\n",
       "      <td>1513012293</td>\n",
       "      <td>2017-12-11 17:11:33 UTC</td>\n",
       "      <td>Was Donald Trump a Robot?</td>\n",
       "      <td>story</td>\n",
       "      <td>https://shorterletter.com/was-donald-trump-a-r...</td>\n",
       "      <td>NaN</td>\n",
       "      <td>NaN</td>\n",
       "      <td>NaN</td>\n",
       "      <td>True</td>\n",
       "      <td>NaN</td>\n",
       "      <td>15898391</td>\n",
       "      <td>NaN</td>\n",
       "    </tr>\n",
       "  </tbody>\n",
       "</table>\n",
       "</div>"
      ],
      "text/plain": [
       "             by  score        time                timestamp  \\\n",
       "0       edsouza      5  1510895219  2017-11-17 05:06:59 UTC   \n",
       "1     mathchick      5  1495226520  2017-05-19 20:42:00 UTC   \n",
       "2      jscholes      5  1498940583  2017-07-01 20:23:03 UTC   \n",
       "3      huangc10      5  1510186454  2017-11-09 00:14:14 UTC   \n",
       "4  calebgarling      5  1513012293  2017-12-11 17:11:33 UTC   \n",
       "\n",
       "                                               title   type  \\\n",
       "0                           Meet the Tesla Semitruck  story   \n",
       "1                                Raising Rebel Girls  story   \n",
       "2  Woman accidentally kills her boyfriend in atte...  story   \n",
       "3                                   Coinbase is Down  story   \n",
       "4                          Was Donald Trump a Robot?  story   \n",
       "\n",
       "                                                 url text  parent  deleted  \\\n",
       "0  https://www.wired.com/story/tesla-truck-revealed/  NaN     NaN      NaN   \n",
       "1  https://code.likeagirl.io/raising-rebel-girls-...  NaN     NaN      NaN   \n",
       "2  https://arstechnica.com/tech-policy/2017/06/in...  NaN     NaN      NaN   \n",
       "3                          https://www.coinbase.com/  NaN     NaN      NaN   \n",
       "4  https://shorterletter.com/was-donald-trump-a-r...  NaN     NaN      NaN   \n",
       "\n",
       "   dead  descendants        id  ranking  \n",
       "0  True          NaN  15719098      NaN  \n",
       "1  True          NaN  14379186      NaN  \n",
       "2  True          NaN  14678802      NaN  \n",
       "3  True          NaN  15658508      NaN  \n",
       "4  True          NaN  15898391      NaN  "
      ]
     },
     "execution_count": 5,
     "metadata": {},
     "output_type": "execute_result"
    }
   ],
   "source": [
    "stories_all.head()"
   ]
  },
  {
   "cell_type": "code",
   "execution_count": 6,
   "metadata": {},
   "outputs": [
    {
     "data": {
      "text/plain": [
       "<matplotlib.axes._subplots.AxesSubplot at 0x7f463ae21a90>"
      ]
     },
     "execution_count": 6,
     "metadata": {},
     "output_type": "execute_result"
    },
    {
     "data": {
      "image/png": "[encoded data removed]",
      "text/plain": [
       "<matplotlib.figure.Figure at 0x7f46389b36d8>"
      ]
     },
     "metadata": {},
     "output_type": "display_data"
    }
   ],
   "source": [
    "# Plotting the Score\n",
    "np.log(stories_all.score).hist()"
   ]
  },
  {
   "cell_type": "markdown",
   "metadata": {},
   "source": [
    "### Most Popular Stories\n",
    "\n",
    "For this exercise:\n",
    "- Let us choose the most popular stories with a score > 500 over the last year\n",
    "- Lets keep the columns - user (by), userId (id), score (score), title (title)\n"
   ]
  },
  {
   "cell_type": "code",
   "execution_count": 18,
   "metadata": {},
   "outputs": [],
   "source": [
    "# Get stories with score > 500\n",
    "stories = stories_all[stories_all.score > 500].copy()"
   ]
  },
  {
   "cell_type": "code",
   "execution_count": 19,
   "metadata": {},
   "outputs": [],
   "source": [
    "# Sort by score and select columns\n",
    "stories.sort_values('score', ascending=False)\n",
    "stories = stories[['id', 'title' , 'score', 'by']]"
   ]
  },
  {
   "cell_type": "code",
   "execution_count": 20,
   "metadata": {},
   "outputs": [],
   "source": [
    "# Change column names\n",
    "stories_column = ['story', 'title',  'score', 'user']\n",
    "stories.columns = stories_column"
   ]
  },
  {
   "cell_type": "code",
   "execution_count": 21,
   "metadata": {},
   "outputs": [
    {
     "data": {
      "text/html": [
       "<div>\n",
       "<table border=\"1\" class=\"dataframe\">\n",
       "  <thead>\n",
       "    <tr style=\"text-align: right;\">\n",
       "      <th></th>\n",
       "      <th>story</th>\n",
       "      <th>title</th>\n",
       "      <th>score</th>\n",
       "      <th>user</th>\n",
       "    </tr>\n",
       "  </thead>\n",
       "  <tbody>\n",
       "    <tr>\n",
       "      <th>1908</th>\n",
       "      <td>14274033</td>\n",
       "      <td>Uber is valued at $70B, you can get it at $999</td>\n",
       "      <td>503</td>\n",
       "      <td>appoets</td>\n",
       "    </tr>\n",
       "    <tr>\n",
       "      <th>15284</th>\n",
       "      <td>14107522</td>\n",
       "      <td>Jeff Bezos’ Annual Letter</td>\n",
       "      <td>547</td>\n",
       "      <td>djyaz1200</td>\n",
       "    </tr>\n",
       "    <tr>\n",
       "      <th>15291</th>\n",
       "      <td>13647190</td>\n",
       "      <td>India has banned disposable plastic in Delhi</td>\n",
       "      <td>671</td>\n",
       "      <td>SimplyUseless</td>\n",
       "    </tr>\n",
       "    <tr>\n",
       "      <th>15296</th>\n",
       "      <td>13309610</td>\n",
       "      <td>Startup Puts Everything You Need for a Two-Acr...</td>\n",
       "      <td>511</td>\n",
       "      <td>kungfudoi</td>\n",
       "    </tr>\n",
       "    <tr>\n",
       "      <th>15297</th>\n",
       "      <td>13860890</td>\n",
       "      <td>The Uber Bombshell About to Drop</td>\n",
       "      <td>1089</td>\n",
       "      <td>dantiberian</td>\n",
       "    </tr>\n",
       "  </tbody>\n",
       "</table>\n",
       "</div>"
      ],
      "text/plain": [
       "          story                                              title  score  \\\n",
       "1908   14274033     Uber is valued at $70B, you can get it at $999    503   \n",
       "15284  14107522                          Jeff Bezos’ Annual Letter    547   \n",
       "15291  13647190       India has banned disposable plastic in Delhi    671   \n",
       "15296  13309610  Startup Puts Everything You Need for a Two-Acr...    511   \n",
       "15297  13860890                   The Uber Bombshell About to Drop   1089   \n",
       "\n",
       "                user  \n",
       "1908         appoets  \n",
       "15284      djyaz1200  \n",
       "15291  SimplyUseless  \n",
       "15296      kungfudoi  \n",
       "15297    dantiberian  "
      ]
     },
     "execution_count": 21,
     "metadata": {},
     "output_type": "execute_result"
    }
   ],
   "source": [
    "stories.head()"
   ]
  },
  {
   "cell_type": "code",
   "execution_count": 65,
   "metadata": {},
   "outputs": [],
   "source": [
    "# Write to disk\n",
    "stories.to_csv('data/stories.csv', index=False)"
   ]
  },
  {
   "cell_type": "markdown",
   "metadata": {},
   "source": [
    "## Item (Story) - User - Signal (Comment)\n",
    "\n",
    "Lets get all the comments from the database (using BigQuery) and keep only the user and story information\n",
    "\n",
    "```SQL\n",
    "#standardSQL\n",
    "SELECT  parent, by\n",
    "FROM `bigquery-public-data.hacker_news.full`\n",
    "WHERE type=\"comment\" AND parent IN \n",
    " (SELECT id\n",
    "  FROM `bigquery-public-data.hacker_news.full`\n",
    "  WHERE type=\"story\" AND score > 4 AND EXTRACT(YEAR FROM timestamp)=2017)\n",
    "```  \n"
   ]
  },
  {
   "cell_type": "code",
   "execution_count": 22,
   "metadata": {
    "collapsed": true,
    "jupyter": {
     "outputs_hidden": true
    }
   },
   "outputs": [],
   "source": [
    "# Lets load the compressed data\n",
    "comments_all = pd.read_csv(\"data/bycomments2017score5.csv.gz\", compression='gzip', low_memory=False)"
   ]
  },
  {
   "cell_type": "code",
   "execution_count": 23,
   "metadata": {},
   "outputs": [
    {
     "data": {
      "text/plain": [
       "(450884, 2)"
      ]
     },
     "execution_count": 23,
     "metadata": {},
     "output_type": "execute_result"
    }
   ],
   "source": [
    "# Lets see the size\n",
    "comments_all.shape"
   ]
  },
  {
   "cell_type": "code",
   "execution_count": 24,
   "metadata": {},
   "outputs": [
    {
     "data": {
      "text/html": [
       "<div>\n",
       "<table border=\"1\" class=\"dataframe\">\n",
       "  <thead>\n",
       "    <tr style=\"text-align: right;\">\n",
       "      <th></th>\n",
       "      <th>by</th>\n",
       "      <th>parent</th>\n",
       "    </tr>\n",
       "  </thead>\n",
       "  <tbody>\n",
       "    <tr>\n",
       "      <th>0</th>\n",
       "      <td>NaN</td>\n",
       "      <td>15332819</td>\n",
       "    </tr>\n",
       "    <tr>\n",
       "      <th>1</th>\n",
       "      <td>NaN</td>\n",
       "      <td>15361981</td>\n",
       "    </tr>\n",
       "    <tr>\n",
       "      <th>2</th>\n",
       "      <td>NaN</td>\n",
       "      <td>13939068</td>\n",
       "    </tr>\n",
       "    <tr>\n",
       "      <th>3</th>\n",
       "      <td>NaN</td>\n",
       "      <td>15773920</td>\n",
       "    </tr>\n",
       "    <tr>\n",
       "      <th>4</th>\n",
       "      <td>NaN</td>\n",
       "      <td>15824599</td>\n",
       "    </tr>\n",
       "  </tbody>\n",
       "</table>\n",
       "</div>"
      ],
      "text/plain": [
       "    by    parent\n",
       "0  NaN  15332819\n",
       "1  NaN  15361981\n",
       "2  NaN  13939068\n",
       "3  NaN  15773920\n",
       "4  NaN  15824599"
      ]
     },
     "execution_count": 24,
     "metadata": {},
     "output_type": "execute_result"
    }
   ],
   "source": [
    "comments_all.head()"
   ]
  },
  {
   "cell_type": "code",
   "execution_count": 25,
   "metadata": {},
   "outputs": [],
   "source": [
    "# Remove the NAs and Change the column names\n",
    "comments_all.dropna(inplace = True)\n",
    "comments_all.columns = ['user', 'story']"
   ]
  },
  {
   "cell_type": "code",
   "execution_count": 26,
   "metadata": {},
   "outputs": [
    {
     "data": {
      "text/html": [
       "<div>\n",
       "<table border=\"1\" class=\"dataframe\">\n",
       "  <thead>\n",
       "    <tr style=\"text-align: right;\">\n",
       "      <th></th>\n",
       "      <th>user</th>\n",
       "      <th>story</th>\n",
       "      <th>comment</th>\n",
       "    </tr>\n",
       "  </thead>\n",
       "  <tbody>\n",
       "    <tr>\n",
       "      <th>13153</th>\n",
       "      <td>05</td>\n",
       "      <td>15878548</td>\n",
       "      <td>1</td>\n",
       "    </tr>\n",
       "    <tr>\n",
       "      <th>13154</th>\n",
       "      <td>0a</td>\n",
       "      <td>13850516</td>\n",
       "      <td>1</td>\n",
       "    </tr>\n",
       "    <tr>\n",
       "      <th>13155</th>\n",
       "      <td>1k</td>\n",
       "      <td>15783427</td>\n",
       "      <td>1</td>\n",
       "    </tr>\n",
       "    <tr>\n",
       "      <th>13156</th>\n",
       "      <td>1k</td>\n",
       "      <td>14602595</td>\n",
       "      <td>1</td>\n",
       "    </tr>\n",
       "    <tr>\n",
       "      <th>13157</th>\n",
       "      <td>21</td>\n",
       "      <td>14192353</td>\n",
       "      <td>1</td>\n",
       "    </tr>\n",
       "  </tbody>\n",
       "</table>\n",
       "</div>"
      ],
      "text/plain": [
       "      user     story  comment\n",
       "13153   05  15878548        1\n",
       "13154   0a  13850516        1\n",
       "13155   1k  15783427        1\n",
       "13156   1k  14602595        1\n",
       "13157   21  14192353        1"
      ]
     },
     "execution_count": 26,
     "metadata": {},
     "output_type": "execute_result"
    }
   ],
   "source": [
    "# Lets add a comment fields as 1 (as one comment was made)\n",
    "comments_all['comment'] = 1\n",
    "comments_all.head()"
   ]
  },
  {
   "cell_type": "markdown",
   "metadata": {},
   "source": [
    "Lets keep the `story - user` combination for only the stories we are interested to recommend"
   ]
  },
  {
   "cell_type": "code",
   "execution_count": 27,
   "metadata": {},
   "outputs": [],
   "source": [
    "# Lets select comments for the our list of recommended stories\n",
    "story_user_comment = comments_all[comments_all['story'].isin(stories.story)]"
   ]
  },
  {
   "cell_type": "code",
   "execution_count": 28,
   "metadata": {},
   "outputs": [
    {
     "data": {
      "text/plain": [
       "(52460, 3)"
      ]
     },
     "execution_count": 28,
     "metadata": {},
     "output_type": "execute_result"
    }
   ],
   "source": [
    "# Size of the list\n",
    "story_user_comment.shape"
   ]
  },
  {
   "cell_type": "code",
   "execution_count": 66,
   "metadata": {
    "collapsed": true,
    "jupyter": {
     "outputs_hidden": true
    }
   },
   "outputs": [],
   "source": [
    "story_user_comment.to_csv('data/story_user_comment.csv', index=False)"
   ]
  },
  {
   "cell_type": "markdown",
   "metadata": {},
   "source": [
    "## Users \n",
    "\n",
    "We need to get the details for all the users that have made comments in our list of stories.\n",
    "\n",
    "Also, we are interested in their details\n",
    "- How long have they been on the HN platform? (Created)\n",
    "- How active they are? (# of comments)?\n",
    "- How good they are to the HN community (karma)?\n"
   ]
  },
  {
   "cell_type": "code",
   "execution_count": 29,
   "metadata": {
    "collapsed": true,
    "jupyter": {
     "outputs_hidden": true
    }
   },
   "outputs": [],
   "source": [
    "# All the users that have commented on the top stories\n",
    "users_list = story_user_comment.user.unique()"
   ]
  },
  {
   "cell_type": "code",
   "execution_count": 183,
   "metadata": {},
   "outputs": [
    {
     "data": {
      "text/plain": [
       "23230"
      ]
     },
     "execution_count": 183,
     "metadata": {},
     "output_type": "execute_result"
    }
   ],
   "source": [
    "len(users_list)"
   ]
  },
  {
   "cell_type": "markdown",
   "metadata": {},
   "source": [
    "We will need to get the User Information from HN\n",
    "\n",
    "- **Hacker News API**: Official API hosted on Firebase - https://github.com/HackerNews/API\n",
    "- **Haxor**: Unofficial HN Python API c- https://github.com/avinassh/haxor\n",
    "- **Ascynio-HN**: A very fast async Python API for HackerNews - https://github.com/itielshwartz/asyncio-hn\n",
    "\n",
    "Lets use the HackerNews API"
   ]
  },
  {
   "cell_type": "code",
   "execution_count": 38,
   "metadata": {},
   "outputs": [],
   "source": [
    "import requests"
   ]
  },
  {
   "cell_type": "code",
   "execution_count": 84,
   "metadata": {},
   "outputs": [
    {
     "name": "stdout",
     "output_type": "stream",
     "text": [
      "['21', 1454365382, 2189, 583]\n"
     ]
    }
   ],
   "source": [
    "# Lets get the first user\n",
    "user = users_list[0]\n",
    "\n",
    "# Lets get karma, created date and number of comments\n",
    "r = requests.get(\"https://hacker-news.firebaseio.com/v0/user/\" + user + \".json\")\n",
    "created = r.json()['created']\n",
    "karma = r.json()['karma']\n",
    "submitted = len(r.json()['submitted'])\n",
    "print([user, created, karma, comments_num])"
   ]
  },
  {
   "cell_type": "markdown",
   "metadata": {},
   "source": [
    "Lets create a function to get the same detail from a list of users"
   ]
  },
  {
   "cell_type": "code",
   "execution_count": 43,
   "metadata": {
    "collapsed": true,
    "jupyter": {
     "outputs_hidden": true
    }
   },
   "outputs": [],
   "source": [
    "def getUserData(users): \n",
    "    '''\n",
    "    Function to get user details from the HackerNews API\n",
    "    And store in a dataframe\n",
    "    '''\n",
    "    column_names = ['user', 'created', 'karma', 'submitted']\n",
    "    userDf = pd.DataFrame(columns = column_names)\n",
    "\n",
    "    for index, user in enumerate(users):\n",
    "        \n",
    "        #Get User Details\n",
    "        try: \n",
    "            r = requests.get(\"https://hacker-news.firebaseio.com/v0/user/\"+ user +\".json\")\n",
    "            userDetails = r.json()            \n",
    "        \n",
    "            # Get details\n",
    "            created = userDetails['created']\n",
    "            karma = userDetails['karma']\n",
    "            submitted = len(userDetails['submitted'])\n",
    "\n",
    "            #Store in the DataFrame\n",
    "            userDf.loc[index] = [user, created, karma, submitted] \n",
    "            #print([user, created, karma, submitted] )\n",
    "            \n",
    "            #Print every hundred records to check progress\n",
    "            if index%100 == 0:\n",
    "                print(index)\n",
    "            \n",
    "        except:\n",
    "            continue\n",
    "     \n",
    "    return userDf"
   ]
  },
  {
   "cell_type": "code",
   "execution_count": 102,
   "metadata": {},
   "outputs": [],
   "source": [
    "def downloadUserAll(users_list): \n",
    "    total = len(users_list)\n",
    "    turn = int(total/20)\n",
    "    start = 0\n",
    "    end = turn\n",
    "    \n",
    "    for i in range(1, 21):\n",
    "        user_df_step = getUserData(users_list[start:end])\n",
    "        user_df_step.to_csv(\"data/users\" + str(i) + \".csv\", index=False)\n",
    "        print(start, end, \"data/users\" + str(i) + \".csv\")\n",
    "        start = end\n",
    "        end = min(end + turn, total)\n",
    "    "
   ]
  },
  {
   "cell_type": "code",
   "execution_count": 103,
   "metadata": {},
   "outputs": [],
   "source": [
    "# Lets dowload all the user data \n",
    "# Note: This takes about an hour to run... so use the already downloaded files\n",
    "\n",
    "# downloadUserAll(users_list)"
   ]
  },
  {
   "cell_type": "code",
   "execution_count": 104,
   "metadata": {},
   "outputs": [
    {
     "name": "stdout",
     "output_type": "stream",
     "text": [
      "1\n",
      "2\n",
      "3\n",
      "4\n",
      "5\n",
      "6\n",
      "7\n",
      "8\n",
      "9\n",
      "10\n",
      "11\n",
      "12\n",
      "13\n",
      "14\n",
      "15\n",
      "16\n",
      "17\n",
      "18\n",
      "19\n",
      "20\n"
     ]
    }
   ],
   "source": [
    "# Lets create the users database\n",
    "column_names = ['user', 'created', 'karma', 'submitted']\n",
    "users = pd.DataFrame(columns = column_names)\n",
    "\n",
    "for i in range(1,21):\n",
    "    print(i)\n",
    "    user_df_step = pd.read_csv(\"data/users\" + str(i) + \".csv\")\n",
    "    users = pd.concat([users, user_df_step], ignore_index=True)\n"
   ]
  },
  {
   "cell_type": "code",
   "execution_count": 118,
   "metadata": {},
   "outputs": [
    {
     "data": {
      "text/plain": [
       "(['throwaway198411',\n",
       "  'throwaway292939',\n",
       "  'throwawaymaroon',\n",
       "  'throwyfoundr134',\n",
       "  'trumpownsyou420'],\n",
       " array(['throwaway198411', 'throwaway292939', 'throwawaymaroon',\n",
       "        'throwyfoundr134', 'trumpownsyou420'], dtype=object))"
      ]
     },
     "execution_count": 118,
     "metadata": {},
     "output_type": "execute_result"
    }
   ],
   "source": [
    "# Lets confirm we have all the data\n",
    "list(users.tail().user), users_list[-5:]"
   ]
  },
  {
   "cell_type": "code",
   "execution_count": 119,
   "metadata": {},
   "outputs": [],
   "source": [
    "# Lets save the users matrix\n",
    "users.to_csv('data/users.csv', index=False)"
   ]
  },
  {
   "cell_type": "code",
   "execution_count": null,
   "metadata": {
    "collapsed": true,
    "jupyter": {
     "outputs_hidden": true
    }
   },
   "outputs": [],
   "source": []
  }
 ],
 "metadata": {
  "anaconda-cloud": {},
  "kernelspec": {
   "display_name": "Python 3",
   "language": "python",
   "name": "python3"
  },
  "language_info": {
   "codemirror_mode": {
    "name": "ipython",
    "version": 3
   },
   "file_extension": ".py",
   "mimetype": "text/x-python",
   "name": "python",
   "nbconvert_exporter": "python",
   "pygments_lexer": "ipython3",
   "version": "3.7.3"
  }
 },
 "nbformat": 4,
 "nbformat_minor": 4
}
