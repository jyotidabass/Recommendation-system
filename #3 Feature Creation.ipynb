{
 "cells": [
  {
   "cell_type": "markdown",
   "metadata": {},
   "source": [
    "# Transform (Feature Creation)"
   ]
  },
  {
   "cell_type": "markdown",
   "metadata": {},
   "source": [
    "How do we create the user-item matrix for the HackerNews Dataset\n",
    "- OneHot Encoding\n",
    "- Sparse Matrix (for scalability)"
   ]
  },
  {
   "cell_type": "markdown",
   "metadata": {},
   "source": [
    "## Creating the User-Item Matrix"
   ]
  },
  {
   "cell_type": "code",
   "execution_count": 41,
   "metadata": {},
   "outputs": [],
   "source": [
    "import numpy as np\n",
    "import pandas as pd\n",
    "import scipy.sparse as sparse"
   ]
  },
  {
   "cell_type": "code",
   "execution_count": 29,
   "metadata": {},
   "outputs": [],
   "source": [
    "story_user_comment = pd.read_csv(\"data/story_user_comment.csv\", low_memory=True)"
   ]
  },
  {
   "cell_type": "code",
   "execution_count": 30,
   "metadata": {},
   "outputs": [
    {
     "data": {
      "text/html": [
       "<div>\n",
       "<style scoped>\n",
       "    .dataframe tbody tr th:only-of-type {\n",
       "        vertical-align: middle;\n",
       "    }\n",
       "\n",
       "    .dataframe tbody tr th {\n",
       "        vertical-align: top;\n",
       "    }\n",
       "\n",
       "    .dataframe thead th {\n",
       "        text-align: right;\n",
       "    }\n",
       "</style>\n",
       "<table border=\"1\" class=\"dataframe\">\n",
       "  <thead>\n",
       "    <tr style=\"text-align: right;\">\n",
       "      <th></th>\n",
       "      <th>user</th>\n",
       "      <th>story</th>\n",
       "      <th>comment</th>\n",
       "    </tr>\n",
       "  </thead>\n",
       "  <tbody>\n",
       "    <tr>\n",
       "      <th>0</th>\n",
       "      <td>21</td>\n",
       "      <td>14356377</td>\n",
       "      <td>1</td>\n",
       "    </tr>\n",
       "    <tr>\n",
       "      <th>1</th>\n",
       "      <td>21</td>\n",
       "      <td>15131370</td>\n",
       "      <td>1</td>\n",
       "    </tr>\n",
       "    <tr>\n",
       "      <th>2</th>\n",
       "      <td>21</td>\n",
       "      <td>15196309</td>\n",
       "      <td>1</td>\n",
       "    </tr>\n",
       "    <tr>\n",
       "      <th>3</th>\n",
       "      <td>47</td>\n",
       "      <td>15601729</td>\n",
       "      <td>1</td>\n",
       "    </tr>\n",
       "    <tr>\n",
       "      <th>4</th>\n",
       "      <td>47</td>\n",
       "      <td>14023198</td>\n",
       "      <td>1</td>\n",
       "    </tr>\n",
       "  </tbody>\n",
       "</table>\n",
       "</div>"
      ],
      "text/plain": [
       "  user     story  comment\n",
       "0   21  14356377        1\n",
       "1   21  15131370        1\n",
       "2   21  15196309        1\n",
       "3   47  15601729        1\n",
       "4   47  14023198        1"
      ]
     },
     "execution_count": 30,
     "metadata": {},
     "output_type": "execute_result"
    }
   ],
   "source": [
    "story_user_comment.head()"
   ]
  },
  {
   "cell_type": "markdown",
   "metadata": {},
   "source": [
    "### Using One Hot Transaction"
   ]
  },
  {
   "cell_type": "code",
   "execution_count": 31,
   "metadata": {},
   "outputs": [],
   "source": [
    "# ! pip install mlxtend"
   ]
  },
  {
   "cell_type": "code",
   "execution_count": 32,
   "metadata": {},
   "outputs": [],
   "source": [
    "from mlxtend.preprocessing import OnehotTransactions"
   ]
  },
  {
   "cell_type": "code",
   "execution_count": 33,
   "metadata": {},
   "outputs": [],
   "source": [
    "def OHE_Matrix( df ) :\n",
    "\n",
    "    g2 = df.groupby([\"user\"], as_index = False)\n",
    "    \n",
    "    Itemset = []\n",
    "    user = []\n",
    "    for item in list(g2.groups.keys()) :\n",
    "        Itemset.append( list(g2.get_group(item)[\"story\"]))\n",
    "        user.append(item) \n",
    "        \n",
    "    oht = OnehotTransactions()\n",
    "    u = oht.fit(Itemset).transform(Itemset)\n",
    "    \n",
    "    Matrix = pd.DataFrame(u, columns = oht.columns_)\n",
    "    Matrix[\"user\"] = user\n",
    "    Matrix = Matrix.set_index(\"user\")\n",
    "    \n",
    "    return Matrix"
   ]
  },
  {
   "cell_type": "code",
   "execution_count": 34,
   "metadata": {},
   "outputs": [],
   "source": [
    "matrix1 = OHE_Matrix(story_user_comment)"
   ]
  },
  {
   "cell_type": "code",
   "execution_count": 35,
   "metadata": {},
   "outputs": [
    {
     "data": {
      "text/html": [
       "<div>\n",
       "<style scoped>\n",
       "    .dataframe tbody tr th:only-of-type {\n",
       "        vertical-align: middle;\n",
       "    }\n",
       "\n",
       "    .dataframe tbody tr th {\n",
       "        vertical-align: top;\n",
       "    }\n",
       "\n",
       "    .dataframe thead th {\n",
       "        text-align: right;\n",
       "    }\n",
       "</style>\n",
       "<table border=\"1\" class=\"dataframe\">\n",
       "  <thead>\n",
       "    <tr style=\"text-align: right;\">\n",
       "      <th></th>\n",
       "      <th>13296502</th>\n",
       "      <th>13297792</th>\n",
       "      <th>13301832</th>\n",
       "      <th>13309025</th>\n",
       "      <th>13309610</th>\n",
       "      <th>13312629</th>\n",
       "      <th>13317902</th>\n",
       "      <th>13319904</th>\n",
       "      <th>13326535</th>\n",
       "      <th>13326792</th>\n",
       "      <th>...</th>\n",
       "      <th>15897809</th>\n",
       "      <th>15900551</th>\n",
       "      <th>15902054</th>\n",
       "      <th>15904265</th>\n",
       "      <th>15905048</th>\n",
       "      <th>15908812</th>\n",
       "      <th>15909395</th>\n",
       "      <th>15913250</th>\n",
       "      <th>15916121</th>\n",
       "      <th>15919115</th>\n",
       "    </tr>\n",
       "    <tr>\n",
       "      <th>user</th>\n",
       "      <th></th>\n",
       "      <th></th>\n",
       "      <th></th>\n",
       "      <th></th>\n",
       "      <th></th>\n",
       "      <th></th>\n",
       "      <th></th>\n",
       "      <th></th>\n",
       "      <th></th>\n",
       "      <th></th>\n",
       "      <th></th>\n",
       "      <th></th>\n",
       "      <th></th>\n",
       "      <th></th>\n",
       "      <th></th>\n",
       "      <th></th>\n",
       "      <th></th>\n",
       "      <th></th>\n",
       "      <th></th>\n",
       "      <th></th>\n",
       "      <th></th>\n",
       "    </tr>\n",
       "  </thead>\n",
       "  <tbody>\n",
       "    <tr>\n",
       "      <th>0003</th>\n",
       "      <td>0</td>\n",
       "      <td>0</td>\n",
       "      <td>0</td>\n",
       "      <td>0</td>\n",
       "      <td>0</td>\n",
       "      <td>0</td>\n",
       "      <td>0</td>\n",
       "      <td>0</td>\n",
       "      <td>0</td>\n",
       "      <td>0</td>\n",
       "      <td>...</td>\n",
       "      <td>0</td>\n",
       "      <td>0</td>\n",
       "      <td>0</td>\n",
       "      <td>0</td>\n",
       "      <td>0</td>\n",
       "      <td>0</td>\n",
       "      <td>0</td>\n",
       "      <td>0</td>\n",
       "      <td>0</td>\n",
       "      <td>0</td>\n",
       "    </tr>\n",
       "    <tr>\n",
       "      <th>01000001</th>\n",
       "      <td>0</td>\n",
       "      <td>0</td>\n",
       "      <td>0</td>\n",
       "      <td>0</td>\n",
       "      <td>0</td>\n",
       "      <td>0</td>\n",
       "      <td>0</td>\n",
       "      <td>0</td>\n",
       "      <td>0</td>\n",
       "      <td>0</td>\n",
       "      <td>...</td>\n",
       "      <td>0</td>\n",
       "      <td>0</td>\n",
       "      <td>0</td>\n",
       "      <td>0</td>\n",
       "      <td>0</td>\n",
       "      <td>0</td>\n",
       "      <td>0</td>\n",
       "      <td>0</td>\n",
       "      <td>0</td>\n",
       "      <td>0</td>\n",
       "    </tr>\n",
       "    <tr>\n",
       "      <th>010001001010</th>\n",
       "      <td>0</td>\n",
       "      <td>0</td>\n",
       "      <td>0</td>\n",
       "      <td>0</td>\n",
       "      <td>0</td>\n",
       "      <td>0</td>\n",
       "      <td>0</td>\n",
       "      <td>0</td>\n",
       "      <td>0</td>\n",
       "      <td>0</td>\n",
       "      <td>...</td>\n",
       "      <td>0</td>\n",
       "      <td>0</td>\n",
       "      <td>0</td>\n",
       "      <td>0</td>\n",
       "      <td>0</td>\n",
       "      <td>0</td>\n",
       "      <td>0</td>\n",
       "      <td>0</td>\n",
       "      <td>0</td>\n",
       "      <td>0</td>\n",
       "    </tr>\n",
       "    <tr>\n",
       "      <th>01096232042</th>\n",
       "      <td>0</td>\n",
       "      <td>0</td>\n",
       "      <td>0</td>\n",
       "      <td>0</td>\n",
       "      <td>0</td>\n",
       "      <td>0</td>\n",
       "      <td>0</td>\n",
       "      <td>0</td>\n",
       "      <td>0</td>\n",
       "      <td>0</td>\n",
       "      <td>...</td>\n",
       "      <td>0</td>\n",
       "      <td>0</td>\n",
       "      <td>0</td>\n",
       "      <td>0</td>\n",
       "      <td>0</td>\n",
       "      <td>0</td>\n",
       "      <td>0</td>\n",
       "      <td>0</td>\n",
       "      <td>0</td>\n",
       "      <td>0</td>\n",
       "    </tr>\n",
       "    <tr>\n",
       "      <th>010a</th>\n",
       "      <td>0</td>\n",
       "      <td>0</td>\n",
       "      <td>0</td>\n",
       "      <td>0</td>\n",
       "      <td>0</td>\n",
       "      <td>0</td>\n",
       "      <td>0</td>\n",
       "      <td>0</td>\n",
       "      <td>0</td>\n",
       "      <td>0</td>\n",
       "      <td>...</td>\n",
       "      <td>0</td>\n",
       "      <td>0</td>\n",
       "      <td>0</td>\n",
       "      <td>0</td>\n",
       "      <td>0</td>\n",
       "      <td>0</td>\n",
       "      <td>0</td>\n",
       "      <td>0</td>\n",
       "      <td>0</td>\n",
       "      <td>0</td>\n",
       "    </tr>\n",
       "  </tbody>\n",
       "</table>\n",
       "<p>5 rows × 969 columns</p>\n",
       "</div>"
      ],
      "text/plain": [
       "              13296502  13297792  13301832  13309025  13309610  13312629  \\\n",
       "user                                                                       \n",
       "0003                 0         0         0         0         0         0   \n",
       "01000001             0         0         0         0         0         0   \n",
       "010001001010         0         0         0         0         0         0   \n",
       "01096232042          0         0         0         0         0         0   \n",
       "010a                 0         0         0         0         0         0   \n",
       "\n",
       "              13317902  13319904  13326535  13326792    ...     15897809  \\\n",
       "user                                                    ...                \n",
       "0003                 0         0         0         0    ...            0   \n",
       "01000001             0         0         0         0    ...            0   \n",
       "010001001010         0         0         0         0    ...            0   \n",
       "01096232042          0         0         0         0    ...            0   \n",
       "010a                 0         0         0         0    ...            0   \n",
       "\n",
       "              15900551  15902054  15904265  15905048  15908812  15909395  \\\n",
       "user                                                                       \n",
       "0003                 0         0         0         0         0         0   \n",
       "01000001             0         0         0         0         0         0   \n",
       "010001001010         0         0         0         0         0         0   \n",
       "01096232042          0         0         0         0         0         0   \n",
       "010a                 0         0         0         0         0         0   \n",
       "\n",
       "              15913250  15916121  15919115  \n",
       "user                                        \n",
       "0003                 0         0         0  \n",
       "01000001             0         0         0  \n",
       "010001001010         0         0         0  \n",
       "01096232042          0         0         0  \n",
       "010a                 0         0         0  \n",
       "\n",
       "[5 rows x 969 columns]"
      ]
     },
     "execution_count": 35,
     "metadata": {},
     "output_type": "execute_result"
    }
   ],
   "source": [
    "matrix1.head()"
   ]
  },
  {
   "cell_type": "markdown",
   "metadata": {},
   "source": [
    "### Using Sparse Matrix"
   ]
  },
  {
   "cell_type": "markdown",
   "metadata": {},
   "source": [
    "Typically, these matrices are sparse matrix and require us to use sparse data structures to stores them"
   ]
  },
  {
   "cell_type": "code",
   "execution_count": 36,
   "metadata": {},
   "outputs": [],
   "source": [
    "n_users = story_user_comment.user.unique().shape[0]\n",
    "n_stories = story_user_comment.story.unique().shape[0]"
   ]
  },
  {
   "cell_type": "code",
   "execution_count": 37,
   "metadata": {},
   "outputs": [
    {
     "name": "stdout",
     "output_type": "stream",
     "text": [
      "Number of users: 23230\n",
      "Number of stories: 969\n",
      "Sparsity: 0.002%\n"
     ]
    }
   ],
   "source": [
    "print('Number of users: {}'.format(n_users))\n",
    "print('Number of stories: {}'.format(n_stories))\n",
    "print('Sparsity: {:4.3f}%'.format(float(story_user_comment.shape[0]) / float(n_users*n_stories)))"
   ]
  },
  {
   "cell_type": "code",
   "execution_count": 44,
   "metadata": {},
   "outputs": [],
   "source": [
    "def Sparse_Matrix(df):\n",
    "    \n",
    "    # Create mappings\n",
    "    user_to_index = {}\n",
    "    index_to_user = {}\n",
    "    for (index, user) in enumerate(df.user.unique().tolist()):\n",
    "        user_to_index[user] = index\n",
    "        index_to_user[index] = user\n",
    "\n",
    "    story_to_index = {}\n",
    "    index_to_story = {}\n",
    "    for (index, story) in enumerate(df.story.unique().tolist()):\n",
    "        story_to_index[story] = index\n",
    "        index_to_story[index] = story\n",
    "        \n",
    "    # Create a map id function\n",
    "    def map_ids(row, mapper):\n",
    "        return mapper[row]\n",
    "    \n",
    "    # Apply the map id function \n",
    "    I = df.user.apply(map_ids, args=[user_to_index]).as_matrix()\n",
    "    J = df.story.apply(map_ids, args=[story_to_index]).as_matrix()\n",
    "    V = np.ones(I.shape[0])\n",
    "    \n",
    "    # Create the Matrix\n",
    "    story_user = sparse.coo_matrix((V, (I, J)), dtype=np.float64)\n",
    "    story_user_matrix = story_user.tocsr()\n",
    "    \n",
    "    return story_user_matrix"
   ]
  },
  {
   "cell_type": "code",
   "execution_count": 45,
   "metadata": {},
   "outputs": [],
   "source": [
    "matrix2 = Sparse_Matrix(story_user_comment)"
   ]
  },
  {
   "cell_type": "code",
   "execution_count": 46,
   "metadata": {},
   "outputs": [
    {
     "data": {
      "text/plain": [
       "<23230x969 sparse matrix of type '<class 'numpy.float64'>'\n",
       "\twith 50975 stored elements in Compressed Sparse Row format>"
      ]
     },
     "execution_count": 46,
     "metadata": {},
     "output_type": "execute_result"
    }
   ],
   "source": [
    "matrix2"
   ]
  },
  {
   "cell_type": "code",
   "execution_count": null,
   "metadata": {},
   "outputs": [],
   "source": []
  }
 ],
 "metadata": {
  "anaconda-cloud": {},
  "kernelspec": {
   "display_name": "Python 3",
   "language": "python",
   "name": "python3"
  },
  "language_info": {
   "codemirror_mode": {
    "name": "ipython",
    "version": 3
   },
   "file_extension": ".py",
   "mimetype": "text/x-python",
   "name": "python",
   "nbconvert_exporter": "python",
   "pygments_lexer": "ipython3",
   "version": "3.7.3"
  }
 },
 "nbformat": 4,
 "nbformat_minor": 4
}
