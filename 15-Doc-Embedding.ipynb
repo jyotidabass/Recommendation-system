{
 "cells": [
  {
   "cell_type": "markdown",
   "metadata": {},
   "source": [
    "# Refine the Data"
   ]
  },
  {
   "cell_type": "markdown",
   "metadata": {},
   "source": [
    "Create the items, users and interaction matrix\n",
    "\n",
    "- **Items**: item id + metadata features\n",
    "- **Users**: User id + metadata features\n",
    "- **Interaction**: Explicit Matrix, Implicit Matrix"
   ]
  },
  {
   "cell_type": "code",
   "execution_count": 1,
   "metadata": {},
   "outputs": [],
   "source": [
    "import sys\n",
    "sys.path.append(\"../\")\n",
    "\n",
    "import warnings\n",
    "warnings.filterwarnings(\"ignore\")"
   ]
  },
  {
   "cell_type": "code",
   "execution_count": 2,
   "metadata": {},
   "outputs": [],
   "source": [
    "import numpy as np\n",
    "import pandas as pd\n",
    "import re"
   ]
  },
  {
   "cell_type": "markdown",
   "metadata": {},
   "source": [
    "## Items\n",
    "\n",
    "For the items, we will keep the following:\n",
    "- From `items_raw` dataframe\n",
    "  - movie_id\n",
    "  - title\n",
    "  - year (release)\n",
    "  - genre categories\n",
    "- From `item_features` dataframe\n",
    "  - overview\n",
    "  - language (original_language)\n",
    "  - runtime\n",
    "  - vote_average\n",
    "  - vote_count"
   ]
  },
  {
   "cell_type": "code",
   "execution_count": 3,
   "metadata": {},
   "outputs": [],
   "source": [
    "items_raw = pd.read_csv(\"data/items_raw.csv\")\n",
    "item_features = pd.read_csv(\"data/item_features.csv\")"
   ]
  },
  {
   "cell_type": "markdown",
   "metadata": {},
   "source": [
    "*1. Get `year` from `release_title`* "
   ]
  },
  {
   "cell_type": "code",
   "execution_count": 4,
   "metadata": {},
   "outputs": [],
   "source": [
    "items_raw[\"release_date\"] = pd.to_datetime(items_raw.release_date, infer_datetime_format=True)\n",
    "items_raw[\"year\"] = items_raw.release_date.apply(lambda x: str(x.year))"
   ]
  },
  {
   "cell_type": "markdown",
   "metadata": {},
   "source": [
    "*2. Drop `imdb_url`,  `video_release_date` & `release_date`*"
   ]
  },
  {
   "cell_type": "code",
   "execution_count": 5,
   "metadata": {},
   "outputs": [],
   "source": [
    "items_main = items_raw.drop(['video_release_date', 'release_date', 'imdb_url'], axis=1).copy()"
   ]
  },
  {
   "cell_type": "code",
   "execution_count": 6,
   "metadata": {},
   "outputs": [],
   "source": [
    "# Match Whitespace + ( + YEAR + )\n",
    "# regex_year = re.compile(r'\\s\\(\\d{4}\\)')\n",
    "# items[\"movie\"] = items.title.str.replace(regex_year, \"\")\n",
    "# items[\"movie\"] = items.movie.str.strip()"
   ]
  },
  {
   "cell_type": "markdown",
   "metadata": {},
   "source": [
    "*3. Get the additional features from the item_features*"
   ]
  },
  {
   "cell_type": "code",
   "execution_count": 7,
   "metadata": {},
   "outputs": [],
   "source": [
    "items_addtl = item_features[['overview', 'original_language', 'runtime', 'vote_average', 'vote_count', \"movie_id\"]].copy()"
   ]
  },
  {
   "cell_type": "markdown",
   "metadata": {},
   "source": [
    "*4. Merge the two dataframes*"
   ]
  },
  {
   "cell_type": "code",
   "execution_count": 8,
   "metadata": {},
   "outputs": [],
   "source": [
    "items = pd.merge(left=items_main, right=items_addtl, on=\"movie_id\", how=\"left\")"
   ]
  },
  {
   "cell_type": "code",
   "execution_count": 9,
   "metadata": {},
   "outputs": [
    {
     "data": {
      "text/html": [
       "<div>\n",
       "<style scoped>\n",
       "    .dataframe tbody tr th:only-of-type {\n",
       "        vertical-align: middle;\n",
       "    }\n",
       "\n",
       "    .dataframe tbody tr th {\n",
       "        vertical-align: top;\n",
       "    }\n",
       "\n",
       "    .dataframe thead th {\n",
       "        text-align: right;\n",
       "    }\n",
       "</style>\n",
       "<table border=\"1\" class=\"dataframe\">\n",
       "  <thead>\n",
       "    <tr style=\"text-align: right;\">\n",
       "      <th></th>\n",
       "      <th>movie_id</th>\n",
       "      <th>title</th>\n",
       "      <th>genre_unknown</th>\n",
       "      <th>Action</th>\n",
       "      <th>Adventure</th>\n",
       "      <th>Animation</th>\n",
       "      <th>Children</th>\n",
       "      <th>Comedy</th>\n",
       "      <th>Crime</th>\n",
       "      <th>Documentary</th>\n",
       "      <th>...</th>\n",
       "      <th>SciFi</th>\n",
       "      <th>Thriller</th>\n",
       "      <th>War</th>\n",
       "      <th>Western</th>\n",
       "      <th>year</th>\n",
       "      <th>overview</th>\n",
       "      <th>original_language</th>\n",
       "      <th>runtime</th>\n",
       "      <th>vote_average</th>\n",
       "      <th>vote_count</th>\n",
       "    </tr>\n",
       "  </thead>\n",
       "  <tbody>\n",
       "    <tr>\n",
       "      <td>0</td>\n",
       "      <td>1</td>\n",
       "      <td>Toy Story (1995)</td>\n",
       "      <td>0</td>\n",
       "      <td>0</td>\n",
       "      <td>0</td>\n",
       "      <td>1</td>\n",
       "      <td>1</td>\n",
       "      <td>1</td>\n",
       "      <td>0</td>\n",
       "      <td>0</td>\n",
       "      <td>...</td>\n",
       "      <td>0</td>\n",
       "      <td>0</td>\n",
       "      <td>0</td>\n",
       "      <td>0</td>\n",
       "      <td>1995</td>\n",
       "      <td>Led by Woody, Andy's toys live happily in his ...</td>\n",
       "      <td>en</td>\n",
       "      <td>81.0</td>\n",
       "      <td>7.9</td>\n",
       "      <td>10878.0</td>\n",
       "    </tr>\n",
       "    <tr>\n",
       "      <td>1</td>\n",
       "      <td>2</td>\n",
       "      <td>GoldenEye (1995)</td>\n",
       "      <td>0</td>\n",
       "      <td>1</td>\n",
       "      <td>1</td>\n",
       "      <td>0</td>\n",
       "      <td>0</td>\n",
       "      <td>0</td>\n",
       "      <td>0</td>\n",
       "      <td>0</td>\n",
       "      <td>...</td>\n",
       "      <td>0</td>\n",
       "      <td>1</td>\n",
       "      <td>0</td>\n",
       "      <td>0</td>\n",
       "      <td>1995</td>\n",
       "      <td>James Bond must unmask the mysterious head of ...</td>\n",
       "      <td>en</td>\n",
       "      <td>130.0</td>\n",
       "      <td>6.8</td>\n",
       "      <td>2037.0</td>\n",
       "    </tr>\n",
       "    <tr>\n",
       "      <td>2</td>\n",
       "      <td>3</td>\n",
       "      <td>Four Rooms (1995)</td>\n",
       "      <td>0</td>\n",
       "      <td>0</td>\n",
       "      <td>0</td>\n",
       "      <td>0</td>\n",
       "      <td>0</td>\n",
       "      <td>0</td>\n",
       "      <td>0</td>\n",
       "      <td>0</td>\n",
       "      <td>...</td>\n",
       "      <td>0</td>\n",
       "      <td>1</td>\n",
       "      <td>0</td>\n",
       "      <td>0</td>\n",
       "      <td>1995</td>\n",
       "      <td>It's Ted the Bellhop's first night on the job....</td>\n",
       "      <td>en</td>\n",
       "      <td>98.0</td>\n",
       "      <td>6.1</td>\n",
       "      <td>1251.0</td>\n",
       "    </tr>\n",
       "    <tr>\n",
       "      <td>3</td>\n",
       "      <td>4</td>\n",
       "      <td>Get Shorty (1995)</td>\n",
       "      <td>0</td>\n",
       "      <td>1</td>\n",
       "      <td>0</td>\n",
       "      <td>0</td>\n",
       "      <td>0</td>\n",
       "      <td>1</td>\n",
       "      <td>0</td>\n",
       "      <td>0</td>\n",
       "      <td>...</td>\n",
       "      <td>0</td>\n",
       "      <td>0</td>\n",
       "      <td>0</td>\n",
       "      <td>0</td>\n",
       "      <td>1995</td>\n",
       "      <td>Chili Palmer is a Miami mobster who gets sent ...</td>\n",
       "      <td>en</td>\n",
       "      <td>105.0</td>\n",
       "      <td>6.5</td>\n",
       "      <td>501.0</td>\n",
       "    </tr>\n",
       "    <tr>\n",
       "      <td>4</td>\n",
       "      <td>5</td>\n",
       "      <td>Copycat (1995)</td>\n",
       "      <td>0</td>\n",
       "      <td>0</td>\n",
       "      <td>0</td>\n",
       "      <td>0</td>\n",
       "      <td>0</td>\n",
       "      <td>0</td>\n",
       "      <td>1</td>\n",
       "      <td>0</td>\n",
       "      <td>...</td>\n",
       "      <td>0</td>\n",
       "      <td>1</td>\n",
       "      <td>0</td>\n",
       "      <td>0</td>\n",
       "      <td>1995</td>\n",
       "      <td>An agoraphobic psychologist and a female detec...</td>\n",
       "      <td>en</td>\n",
       "      <td>124.0</td>\n",
       "      <td>6.5</td>\n",
       "      <td>424.0</td>\n",
       "    </tr>\n",
       "  </tbody>\n",
       "</table>\n",
       "<p>5 rows × 27 columns</p>\n",
       "</div>"
      ],
      "text/plain": [
       "   movie_id              title  genre_unknown  Action  Adventure  Animation  \\\n",
       "0         1   Toy Story (1995)              0       0          0          1   \n",
       "1         2   GoldenEye (1995)              0       1          1          0   \n",
       "2         3  Four Rooms (1995)              0       0          0          0   \n",
       "3         4  Get Shorty (1995)              0       1          0          0   \n",
       "4         5     Copycat (1995)              0       0          0          0   \n",
       "\n",
       "   Children  Comedy  Crime  Documentary  ...  SciFi  Thriller  War  Western  \\\n",
       "0         1       1      0            0  ...      0         0    0        0   \n",
       "1         0       0      0            0  ...      0         1    0        0   \n",
       "2         0       0      0            0  ...      0         1    0        0   \n",
       "3         0       1      0            0  ...      0         0    0        0   \n",
       "4         0       0      1            0  ...      0         1    0        0   \n",
       "\n",
       "   year                                           overview  original_language  \\\n",
       "0  1995  Led by Woody, Andy's toys live happily in his ...                 en   \n",
       "1  1995  James Bond must unmask the mysterious head of ...                 en   \n",
       "2  1995  It's Ted the Bellhop's first night on the job....                 en   \n",
       "3  1995  Chili Palmer is a Miami mobster who gets sent ...                 en   \n",
       "4  1995  An agoraphobic psychologist and a female detec...                 en   \n",
       "\n",
       "   runtime  vote_average  vote_count  \n",
       "0     81.0           7.9     10878.0  \n",
       "1    130.0           6.8      2037.0  \n",
       "2     98.0           6.1      1251.0  \n",
       "3    105.0           6.5       501.0  \n",
       "4    124.0           6.5       424.0  \n",
       "\n",
       "[5 rows x 27 columns]"
      ]
     },
     "execution_count": 9,
     "metadata": {},
     "output_type": "execute_result"
    }
   ],
   "source": [
    "items.head()"
   ]
  },
  {
   "cell_type": "code",
   "execution_count": 10,
   "metadata": {},
   "outputs": [
    {
     "data": {
      "text/plain": [
       "18"
      ]
     },
     "execution_count": 10,
     "metadata": {},
     "output_type": "execute_result"
    }
   ],
   "source": [
    "items.overview.isna().sum()"
   ]
  },
  {
   "cell_type": "code",
   "execution_count": 11,
   "metadata": {},
   "outputs": [],
   "source": [
    "items.overview.fillna(\"None\", inplace=True)"
   ]
  },
  {
   "cell_type": "markdown",
   "metadata": {},
   "source": [
    "### Getting the sentence vector"
   ]
  },
  {
   "cell_type": "code",
   "execution_count": 12,
   "metadata": {},
   "outputs": [],
   "source": [
    "import spacy\n",
    "nlp = spacy.load('en_core_web_lg')"
   ]
  },
  {
   "cell_type": "code",
   "execution_count": 13,
   "metadata": {},
   "outputs": [],
   "source": [
    "doc = nlp(items[\"overview\"][0])"
   ]
  },
  {
   "cell_type": "code",
   "execution_count": 14,
   "metadata": {},
   "outputs": [
    {
     "data": {
      "text/plain": [
       "array([ 2.49380805e-02,  1.74549282e-01, -9.29457471e-02, -4.02068421e-02,\n",
       "        2.45584920e-02,  2.10599136e-02,  4.59955782e-02, -1.43892854e-01,\n",
       "        2.23628674e-02,  2.10939479e+00, -1.11910768e-01, -7.78442621e-02,\n",
       "       -5.78953363e-02, -5.18039986e-02, -4.90232185e-02, -3.90546210e-02,\n",
       "       -1.63908191e-02,  7.56938040e-01, -1.07308537e-01, -1.58448797e-02,\n",
       "       -3.28326374e-02, -4.18951176e-02, -2.36957222e-02, -4.90324982e-02,\n",
       "        3.45998853e-02, -5.01969596e-04, -7.33386278e-02,  8.14125240e-02,\n",
       "        1.23276107e-03, -3.94272059e-02, -4.45753373e-02,  9.23748016e-02,\n",
       "       -1.85925841e-01,  1.29784733e-01,  6.92790821e-02, -8.13476965e-02,\n",
       "        3.25000323e-02,  8.13459679e-02, -4.94984947e-02, -1.00935347e-01,\n",
       "        8.89295489e-02,  2.81169247e-02,  8.77274945e-03, -3.19957659e-02,\n",
       "        7.94582665e-02,  9.91719663e-02, -1.07840024e-01, -5.39268330e-02,\n",
       "       -3.52545083e-02,  1.26066720e-02,  3.39749381e-02, -7.42770284e-02,\n",
       "       -5.82755692e-02, -1.30071901e-02,  1.19160498e-02, -1.35870194e-02,\n",
       "       -1.78068727e-02, -9.48667806e-03,  2.97575556e-02, -3.18520553e-02,\n",
       "        3.66915353e-02,  5.60751110e-02, -1.36265270e-02,  1.13357849e-01,\n",
       "       -2.69335415e-02, -5.34967892e-02, -7.20366789e-03,  2.75940225e-02,\n",
       "        3.67909595e-02,  4.67444360e-02,  3.30437496e-02,  4.04331051e-02,\n",
       "        1.73971221e-01,  4.13115136e-02,  1.75533667e-02, -1.29324356e-02,\n",
       "        4.12065722e-02, -1.11237943e-01,  3.08210235e-02,  5.94174527e-02,\n",
       "        3.55116203e-02,  1.48013353e-01, -9.46868211e-02, -4.25080732e-02,\n",
       "       -1.28046388e-03, -1.46020666e-01,  7.03696683e-02, -5.24604134e-03,\n",
       "        1.15707107e-01,  7.86921680e-02, -1.31001294e-01,  2.76524853e-02,\n",
       "        5.00690788e-02, -2.80503687e-02,  1.00494489e-01, -8.36951211e-02,\n",
       "        4.47433665e-02, -6.00561313e-02, -1.38791323e-01,  2.03356124e-03,\n",
       "        1.56791031e-03,  3.10956091e-02, -1.08301364e-01, -7.68136084e-02,\n",
       "        3.44603173e-02, -6.35453343e-01,  1.42761052e-01,  4.76435870e-02,\n",
       "        8.36234912e-02,  5.04480638e-02,  1.00114949e-01, -5.61890639e-02,\n",
       "        4.36153933e-02, -2.62603611e-02,  7.34726572e-03, -9.50351823e-03,\n",
       "        5.92024699e-02, -1.60762873e-02,  4.18284237e-02,  3.98228019e-02,\n",
       "        2.74946205e-02,  4.57785800e-02,  6.75140694e-02,  1.57908350e-02,\n",
       "       -8.92472174e-03,  2.52385754e-02,  1.82540175e-02, -3.90037000e-02,\n",
       "       -6.00915216e-03, -2.85856482e-02, -8.16426203e-02, -1.22568138e-01,\n",
       "        2.87163537e-02, -2.15264820e-02,  4.90538701e-02,  2.40933467e-02,\n",
       "        3.76863517e-02,  1.91837046e-02,  3.51095274e-02,  5.43203391e-03,\n",
       "       -1.34338939e+00,  2.13359892e-02,  6.11385480e-02,  4.45495881e-02,\n",
       "       -4.12293002e-02,  7.42981881e-02, -9.62456036e-03,  2.87025310e-02,\n",
       "        3.33890989e-02, -4.93944064e-02,  6.24390766e-02, -1.91591047e-02,\n",
       "        1.49361968e-01,  2.61607161e-03, -7.31155723e-02, -1.38072640e-01,\n",
       "       -9.38843042e-02, -4.10678722e-02, -7.57334158e-02,  2.30891891e-02,\n",
       "       -3.43037657e-02,  4.28277329e-02,  2.52398252e-02, -5.86681701e-02,\n",
       "       -1.13262966e-01, -1.07604422e-01,  4.17827405e-02,  7.39086606e-03,\n",
       "        1.80579528e-01,  1.88987795e-02,  2.58597396e-02, -3.02606132e-02,\n",
       "       -3.00975256e-02,  1.88559163e-02, -2.17776466e-02,  2.97021233e-02,\n",
       "        1.94686875e-02,  1.70205603e-04,  5.39285317e-02, -5.30279763e-02,\n",
       "        7.36322999e-02, -1.01865426e-01,  6.13055825e-02, -2.40589702e-03,\n",
       "        2.04451550e-02,  4.98781726e-02, -1.61054526e-02, -1.84193756e-02,\n",
       "        4.18049023e-02, -9.89547148e-02,  1.30839581e-02,  7.58162439e-02,\n",
       "       -9.62423608e-02,  1.05205745e-01, -4.51771915e-02,  8.55872706e-02,\n",
       "       -1.61108524e-02, -8.25733021e-02, -8.48585963e-02,  1.45106301e-01,\n",
       "       -9.57992449e-02, -9.63525549e-02, -7.57834986e-02,  4.75082733e-02,\n",
       "        1.38577908e-01,  4.82671149e-02,  3.91680077e-02, -2.39246823e-02,\n",
       "       -1.03417281e-02, -6.32237196e-02, -1.87812865e-01, -5.77720813e-02,\n",
       "        3.79180908e-02, -4.52999249e-02, -1.76426638e-02,  1.30635262e-01,\n",
       "        5.33553101e-02, -2.62757624e-03, -7.92993903e-02, -1.12591069e-02,\n",
       "        7.53737986e-02, -3.82996574e-02, -3.77822891e-02, -2.66383905e-02,\n",
       "       -7.43916407e-02, -9.91136883e-04,  8.68573226e-03,  7.12070093e-02,\n",
       "        6.85049370e-02,  7.14480951e-02,  2.83677951e-02,  4.16570976e-02,\n",
       "       -5.22646382e-02,  5.77973835e-02, -1.28328159e-01, -6.75787628e-02,\n",
       "       -1.00833602e-01,  1.57901514e-02, -1.86641549e-03,  2.12709773e-02,\n",
       "        5.00835553e-02,  2.60344427e-02, -1.01904936e-01,  6.81978911e-02,\n",
       "        2.16800515e-02, -5.06161824e-02, -8.49545226e-02, -6.56067729e-02,\n",
       "       -1.01418018e-01,  6.34343773e-02,  3.40266116e-02, -1.99704301e-02,\n",
       "       -4.24233414e-02, -2.81879753e-02,  4.03021313e-02,  1.39157504e-01,\n",
       "        3.94213945e-02, -7.21855834e-02, -6.91358466e-03, -3.45275477e-02,\n",
       "        2.26380620e-02,  7.26328865e-02, -3.28238355e-03,  4.98669334e-02,\n",
       "        7.32209310e-02, -8.64540711e-02, -6.74599260e-02, -6.73039332e-02,\n",
       "        9.02898610e-02,  4.94937338e-02,  2.18849797e-02,  3.57504897e-02,\n",
       "       -3.36863548e-02, -1.78150862e-01, -1.11450247e-01, -7.47131109e-02,\n",
       "       -1.84525270e-02,  1.38913929e-01, -5.10796253e-03,  2.00496569e-01,\n",
       "        1.16952114e-01,  2.53427792e-02, -2.05444805e-02, -5.28491996e-02,\n",
       "       -6.91545308e-02, -7.21018538e-02,  1.55422643e-01,  1.51666347e-03,\n",
       "        5.11241779e-02, -1.41429409e-01, -1.64213538e-01,  7.32535943e-02,\n",
       "        7.10657015e-02,  5.86983375e-03, -4.76205908e-02, -5.11476770e-03,\n",
       "        2.59261336e-02, -3.54196578e-02, -5.96407987e-02, -4.32100380e-03],\n",
       "      dtype=float32)"
      ]
     },
     "execution_count": 14,
     "metadata": {},
     "output_type": "execute_result"
    }
   ],
   "source": [
    "doc.vector"
   ]
  },
  {
   "cell_type": "code",
   "execution_count": 15,
   "metadata": {},
   "outputs": [],
   "source": [
    "def word_vec(sentence):\n",
    "    doc = nlp(sentence)\n",
    "    return doc.vector"
   ]
  },
  {
   "cell_type": "code",
   "execution_count": 16,
   "metadata": {},
   "outputs": [
    {
     "name": "stdout",
     "output_type": "stream",
     "text": [
      "CPU times: user 24.7 s, sys: 57.9 ms, total: 24.8 s\n",
      "Wall time: 24.8 s\n"
     ]
    }
   ],
   "source": [
    "%%time\n",
    "overview_embedding = items[\"overview\"].apply(word_vec)"
   ]
  },
  {
   "cell_type": "code",
   "execution_count": 17,
   "metadata": {},
   "outputs": [],
   "source": [
    "overview_embedding = overview_embedding.to_list()"
   ]
  },
  {
   "cell_type": "code",
   "execution_count": 18,
   "metadata": {},
   "outputs": [],
   "source": [
    "overview_embedding_list = []\n",
    "for vec in overview_embedding:\n",
    "    overview_embedding_list.append(vec.tolist())"
   ]
  },
  {
   "cell_type": "code",
   "execution_count": 19,
   "metadata": {},
   "outputs": [
    {
     "data": {
      "text/plain": [
       "1746"
      ]
     },
     "execution_count": 19,
     "metadata": {},
     "output_type": "execute_result"
    }
   ],
   "source": [
    "len(overview_embedding_list)"
   ]
  },
  {
   "cell_type": "code",
   "execution_count": 20,
   "metadata": {},
   "outputs": [],
   "source": [
    "overview_embedding_df = pd.DataFrame(overview_embedding_list)"
   ]
  },
  {
   "cell_type": "code",
   "execution_count": 21,
   "metadata": {},
   "outputs": [
    {
     "data": {
      "text/html": [
       "<div>\n",
       "<style scoped>\n",
       "    .dataframe tbody tr th:only-of-type {\n",
       "        vertical-align: middle;\n",
       "    }\n",
       "\n",
       "    .dataframe tbody tr th {\n",
       "        vertical-align: top;\n",
       "    }\n",
       "\n",
       "    .dataframe thead th {\n",
       "        text-align: right;\n",
       "    }\n",
       "</style>\n",
       "<table border=\"1\" class=\"dataframe\">\n",
       "  <thead>\n",
       "    <tr style=\"text-align: right;\">\n",
       "      <th></th>\n",
       "      <th>0</th>\n",
       "      <th>1</th>\n",
       "      <th>2</th>\n",
       "      <th>3</th>\n",
       "      <th>4</th>\n",
       "      <th>5</th>\n",
       "      <th>6</th>\n",
       "      <th>7</th>\n",
       "      <th>8</th>\n",
       "      <th>9</th>\n",
       "      <th>...</th>\n",
       "      <th>290</th>\n",
       "      <th>291</th>\n",
       "      <th>292</th>\n",
       "      <th>293</th>\n",
       "      <th>294</th>\n",
       "      <th>295</th>\n",
       "      <th>296</th>\n",
       "      <th>297</th>\n",
       "      <th>298</th>\n",
       "      <th>299</th>\n",
       "    </tr>\n",
       "  </thead>\n",
       "  <tbody>\n",
       "    <tr>\n",
       "      <td>0</td>\n",
       "      <td>0.024938</td>\n",
       "      <td>0.174549</td>\n",
       "      <td>-0.092946</td>\n",
       "      <td>-0.040207</td>\n",
       "      <td>0.024558</td>\n",
       "      <td>0.021060</td>\n",
       "      <td>0.045996</td>\n",
       "      <td>-0.143893</td>\n",
       "      <td>0.022363</td>\n",
       "      <td>2.109395</td>\n",
       "      <td>...</td>\n",
       "      <td>-0.164214</td>\n",
       "      <td>0.073254</td>\n",
       "      <td>0.071066</td>\n",
       "      <td>0.005870</td>\n",
       "      <td>-0.047621</td>\n",
       "      <td>-0.005115</td>\n",
       "      <td>0.025926</td>\n",
       "      <td>-0.035420</td>\n",
       "      <td>-0.059641</td>\n",
       "      <td>-0.004321</td>\n",
       "    </tr>\n",
       "    <tr>\n",
       "      <td>1</td>\n",
       "      <td>-0.148743</td>\n",
       "      <td>0.054975</td>\n",
       "      <td>-0.012735</td>\n",
       "      <td>0.003243</td>\n",
       "      <td>-0.082071</td>\n",
       "      <td>-0.177124</td>\n",
       "      <td>-0.135892</td>\n",
       "      <td>0.036500</td>\n",
       "      <td>-0.000987</td>\n",
       "      <td>1.804925</td>\n",
       "      <td>...</td>\n",
       "      <td>-0.193255</td>\n",
       "      <td>0.056461</td>\n",
       "      <td>0.038040</td>\n",
       "      <td>-0.049742</td>\n",
       "      <td>-0.059125</td>\n",
       "      <td>0.078672</td>\n",
       "      <td>0.028826</td>\n",
       "      <td>0.006573</td>\n",
       "      <td>-0.070430</td>\n",
       "      <td>-0.000461</td>\n",
       "    </tr>\n",
       "    <tr>\n",
       "      <td>2</td>\n",
       "      <td>0.024798</td>\n",
       "      <td>0.201679</td>\n",
       "      <td>-0.035214</td>\n",
       "      <td>-0.044371</td>\n",
       "      <td>0.065224</td>\n",
       "      <td>0.011609</td>\n",
       "      <td>-0.008056</td>\n",
       "      <td>-0.141306</td>\n",
       "      <td>0.003372</td>\n",
       "      <td>2.377326</td>\n",
       "      <td>...</td>\n",
       "      <td>-0.125685</td>\n",
       "      <td>0.043005</td>\n",
       "      <td>0.087619</td>\n",
       "      <td>-0.073365</td>\n",
       "      <td>0.035089</td>\n",
       "      <td>-0.006726</td>\n",
       "      <td>-0.003821</td>\n",
       "      <td>-0.012937</td>\n",
       "      <td>-0.014347</td>\n",
       "      <td>0.046458</td>\n",
       "    </tr>\n",
       "    <tr>\n",
       "      <td>3</td>\n",
       "      <td>-0.044721</td>\n",
       "      <td>0.126973</td>\n",
       "      <td>-0.104857</td>\n",
       "      <td>-0.019217</td>\n",
       "      <td>0.138141</td>\n",
       "      <td>0.091052</td>\n",
       "      <td>0.026251</td>\n",
       "      <td>-0.202099</td>\n",
       "      <td>0.047526</td>\n",
       "      <td>2.029502</td>\n",
       "      <td>...</td>\n",
       "      <td>-0.125688</td>\n",
       "      <td>0.038220</td>\n",
       "      <td>0.011013</td>\n",
       "      <td>0.041688</td>\n",
       "      <td>0.000462</td>\n",
       "      <td>-0.014254</td>\n",
       "      <td>-0.015342</td>\n",
       "      <td>-0.110975</td>\n",
       "      <td>-0.009556</td>\n",
       "      <td>0.053125</td>\n",
       "    </tr>\n",
       "    <tr>\n",
       "      <td>4</td>\n",
       "      <td>0.080059</td>\n",
       "      <td>-0.017512</td>\n",
       "      <td>-0.176883</td>\n",
       "      <td>0.082077</td>\n",
       "      <td>0.056057</td>\n",
       "      <td>-0.022036</td>\n",
       "      <td>-0.042583</td>\n",
       "      <td>-0.109661</td>\n",
       "      <td>0.073444</td>\n",
       "      <td>2.139982</td>\n",
       "      <td>...</td>\n",
       "      <td>-0.184866</td>\n",
       "      <td>0.007139</td>\n",
       "      <td>0.070511</td>\n",
       "      <td>0.089315</td>\n",
       "      <td>0.028993</td>\n",
       "      <td>-0.071459</td>\n",
       "      <td>0.047445</td>\n",
       "      <td>-0.044927</td>\n",
       "      <td>-0.102735</td>\n",
       "      <td>-0.100472</td>\n",
       "    </tr>\n",
       "  </tbody>\n",
       "</table>\n",
       "<p>5 rows × 300 columns</p>\n",
       "</div>"
      ],
      "text/plain": [
       "        0         1         2         3         4         5         6    \\\n",
       "0  0.024938  0.174549 -0.092946 -0.040207  0.024558  0.021060  0.045996   \n",
       "1 -0.148743  0.054975 -0.012735  0.003243 -0.082071 -0.177124 -0.135892   \n",
       "2  0.024798  0.201679 -0.035214 -0.044371  0.065224  0.011609 -0.008056   \n",
       "3 -0.044721  0.126973 -0.104857 -0.019217  0.138141  0.091052  0.026251   \n",
       "4  0.080059 -0.017512 -0.176883  0.082077  0.056057 -0.022036 -0.042583   \n",
       "\n",
       "        7         8         9    ...       290       291       292       293  \\\n",
       "0 -0.143893  0.022363  2.109395  ... -0.164214  0.073254  0.071066  0.005870   \n",
       "1  0.036500 -0.000987  1.804925  ... -0.193255  0.056461  0.038040 -0.049742   \n",
       "2 -0.141306  0.003372  2.377326  ... -0.125685  0.043005  0.087619 -0.073365   \n",
       "3 -0.202099  0.047526  2.029502  ... -0.125688  0.038220  0.011013  0.041688   \n",
       "4 -0.109661  0.073444  2.139982  ... -0.184866  0.007139  0.070511  0.089315   \n",
       "\n",
       "        294       295       296       297       298       299  \n",
       "0 -0.047621 -0.005115  0.025926 -0.035420 -0.059641 -0.004321  \n",
       "1 -0.059125  0.078672  0.028826  0.006573 -0.070430 -0.000461  \n",
       "2  0.035089 -0.006726 -0.003821 -0.012937 -0.014347  0.046458  \n",
       "3  0.000462 -0.014254 -0.015342 -0.110975 -0.009556  0.053125  \n",
       "4  0.028993 -0.071459  0.047445 -0.044927 -0.102735 -0.100472  \n",
       "\n",
       "[5 rows x 300 columns]"
      ]
     },
     "execution_count": 21,
     "metadata": {},
     "output_type": "execute_result"
    }
   ],
   "source": [
    "overview_embedding_df.head()"
   ]
  },
  {
   "cell_type": "code",
   "execution_count": 22,
   "metadata": {},
   "outputs": [
    {
     "data": {
      "text/plain": [
       "Index(['movie_id', 'title', 'genre_unknown', 'Action', 'Adventure',\n",
       "       'Animation', 'Children', 'Comedy', 'Crime', 'Documentary', 'Drama',\n",
       "       'Fantasy', 'FilmNoir', 'Horror', 'Musical', 'Mystery', 'Romance',\n",
       "       'SciFi', 'Thriller', 'War', 'Western', 'year', 'overview',\n",
       "       'original_language', 'runtime', 'vote_average', 'vote_count'],\n",
       "      dtype='object')"
      ]
     },
     "execution_count": 22,
     "metadata": {},
     "output_type": "execute_result"
    }
   ],
   "source": [
    "items.columns"
   ]
  },
  {
   "cell_type": "code",
   "execution_count": 23,
   "metadata": {},
   "outputs": [],
   "source": [
    "item_similarity_df = pd.concat([\n",
    "    items[['movie_id', 'genre_unknown', 'Action', 'Adventure',\n",
    "       'Animation', 'Children', 'Comedy', 'Crime', 'Documentary', 'Drama',\n",
    "       'Fantasy', 'FilmNoir', 'Horror', 'Musical', 'Mystery', 'Romance',\n",
    "       'SciFi', 'Thriller', 'War', 'Western']], \n",
    "    overview_embedding_df],\n",
    "    axis=1)"
   ]
  },
  {
   "cell_type": "code",
   "execution_count": 24,
   "metadata": {},
   "outputs": [
    {
     "data": {
      "text/html": [
       "<div>\n",
       "<style scoped>\n",
       "    .dataframe tbody tr th:only-of-type {\n",
       "        vertical-align: middle;\n",
       "    }\n",
       "\n",
       "    .dataframe tbody tr th {\n",
       "        vertical-align: top;\n",
       "    }\n",
       "\n",
       "    .dataframe thead th {\n",
       "        text-align: right;\n",
       "    }\n",
       "</style>\n",
       "<table border=\"1\" class=\"dataframe\">\n",
       "  <thead>\n",
       "    <tr style=\"text-align: right;\">\n",
       "      <th></th>\n",
       "      <th>movie_id</th>\n",
       "      <th>genre_unknown</th>\n",
       "      <th>Action</th>\n",
       "      <th>Adventure</th>\n",
       "      <th>Animation</th>\n",
       "      <th>Children</th>\n",
       "      <th>Comedy</th>\n",
       "      <th>Crime</th>\n",
       "      <th>Documentary</th>\n",
       "      <th>Drama</th>\n",
       "      <th>...</th>\n",
       "      <th>290</th>\n",
       "      <th>291</th>\n",
       "      <th>292</th>\n",
       "      <th>293</th>\n",
       "      <th>294</th>\n",
       "      <th>295</th>\n",
       "      <th>296</th>\n",
       "      <th>297</th>\n",
       "      <th>298</th>\n",
       "      <th>299</th>\n",
       "    </tr>\n",
       "  </thead>\n",
       "  <tbody>\n",
       "    <tr>\n",
       "      <td>0</td>\n",
       "      <td>1</td>\n",
       "      <td>0</td>\n",
       "      <td>0</td>\n",
       "      <td>0</td>\n",
       "      <td>1</td>\n",
       "      <td>1</td>\n",
       "      <td>1</td>\n",
       "      <td>0</td>\n",
       "      <td>0</td>\n",
       "      <td>0</td>\n",
       "      <td>...</td>\n",
       "      <td>-0.164214</td>\n",
       "      <td>0.073254</td>\n",
       "      <td>0.071066</td>\n",
       "      <td>0.005870</td>\n",
       "      <td>-0.047621</td>\n",
       "      <td>-0.005115</td>\n",
       "      <td>0.025926</td>\n",
       "      <td>-0.035420</td>\n",
       "      <td>-0.059641</td>\n",
       "      <td>-0.004321</td>\n",
       "    </tr>\n",
       "    <tr>\n",
       "      <td>1</td>\n",
       "      <td>2</td>\n",
       "      <td>0</td>\n",
       "      <td>1</td>\n",
       "      <td>1</td>\n",
       "      <td>0</td>\n",
       "      <td>0</td>\n",
       "      <td>0</td>\n",
       "      <td>0</td>\n",
       "      <td>0</td>\n",
       "      <td>0</td>\n",
       "      <td>...</td>\n",
       "      <td>-0.193255</td>\n",
       "      <td>0.056461</td>\n",
       "      <td>0.038040</td>\n",
       "      <td>-0.049742</td>\n",
       "      <td>-0.059125</td>\n",
       "      <td>0.078672</td>\n",
       "      <td>0.028826</td>\n",
       "      <td>0.006573</td>\n",
       "      <td>-0.070430</td>\n",
       "      <td>-0.000461</td>\n",
       "    </tr>\n",
       "    <tr>\n",
       "      <td>2</td>\n",
       "      <td>3</td>\n",
       "      <td>0</td>\n",
       "      <td>0</td>\n",
       "      <td>0</td>\n",
       "      <td>0</td>\n",
       "      <td>0</td>\n",
       "      <td>0</td>\n",
       "      <td>0</td>\n",
       "      <td>0</td>\n",
       "      <td>0</td>\n",
       "      <td>...</td>\n",
       "      <td>-0.125685</td>\n",
       "      <td>0.043005</td>\n",
       "      <td>0.087619</td>\n",
       "      <td>-0.073365</td>\n",
       "      <td>0.035089</td>\n",
       "      <td>-0.006726</td>\n",
       "      <td>-0.003821</td>\n",
       "      <td>-0.012937</td>\n",
       "      <td>-0.014347</td>\n",
       "      <td>0.046458</td>\n",
       "    </tr>\n",
       "    <tr>\n",
       "      <td>3</td>\n",
       "      <td>4</td>\n",
       "      <td>0</td>\n",
       "      <td>1</td>\n",
       "      <td>0</td>\n",
       "      <td>0</td>\n",
       "      <td>0</td>\n",
       "      <td>1</td>\n",
       "      <td>0</td>\n",
       "      <td>0</td>\n",
       "      <td>1</td>\n",
       "      <td>...</td>\n",
       "      <td>-0.125688</td>\n",
       "      <td>0.038220</td>\n",
       "      <td>0.011013</td>\n",
       "      <td>0.041688</td>\n",
       "      <td>0.000462</td>\n",
       "      <td>-0.014254</td>\n",
       "      <td>-0.015342</td>\n",
       "      <td>-0.110975</td>\n",
       "      <td>-0.009556</td>\n",
       "      <td>0.053125</td>\n",
       "    </tr>\n",
       "    <tr>\n",
       "      <td>4</td>\n",
       "      <td>5</td>\n",
       "      <td>0</td>\n",
       "      <td>0</td>\n",
       "      <td>0</td>\n",
       "      <td>0</td>\n",
       "      <td>0</td>\n",
       "      <td>0</td>\n",
       "      <td>1</td>\n",
       "      <td>0</td>\n",
       "      <td>1</td>\n",
       "      <td>...</td>\n",
       "      <td>-0.184866</td>\n",
       "      <td>0.007139</td>\n",
       "      <td>0.070511</td>\n",
       "      <td>0.089315</td>\n",
       "      <td>0.028993</td>\n",
       "      <td>-0.071459</td>\n",
       "      <td>0.047445</td>\n",
       "      <td>-0.044927</td>\n",
       "      <td>-0.102735</td>\n",
       "      <td>-0.100472</td>\n",
       "    </tr>\n",
       "  </tbody>\n",
       "</table>\n",
       "<p>5 rows × 320 columns</p>\n",
       "</div>"
      ],
      "text/plain": [
       "   movie_id  genre_unknown  Action  Adventure  Animation  Children  Comedy  \\\n",
       "0         1              0       0          0          1         1       1   \n",
       "1         2              0       1          1          0         0       0   \n",
       "2         3              0       0          0          0         0       0   \n",
       "3         4              0       1          0          0         0       1   \n",
       "4         5              0       0          0          0         0       0   \n",
       "\n",
       "   Crime  Documentary  Drama  ...       290       291       292       293  \\\n",
       "0      0            0      0  ... -0.164214  0.073254  0.071066  0.005870   \n",
       "1      0            0      0  ... -0.193255  0.056461  0.038040 -0.049742   \n",
       "2      0            0      0  ... -0.125685  0.043005  0.087619 -0.073365   \n",
       "3      0            0      1  ... -0.125688  0.038220  0.011013  0.041688   \n",
       "4      1            0      1  ... -0.184866  0.007139  0.070511  0.089315   \n",
       "\n",
       "        294       295       296       297       298       299  \n",
       "0 -0.047621 -0.005115  0.025926 -0.035420 -0.059641 -0.004321  \n",
       "1 -0.059125  0.078672  0.028826  0.006573 -0.070430 -0.000461  \n",
       "2  0.035089 -0.006726 -0.003821 -0.012937 -0.014347  0.046458  \n",
       "3  0.000462 -0.014254 -0.015342 -0.110975 -0.009556  0.053125  \n",
       "4  0.028993 -0.071459  0.047445 -0.044927 -0.102735 -0.100472  \n",
       "\n",
       "[5 rows x 320 columns]"
      ]
     },
     "execution_count": 24,
     "metadata": {},
     "output_type": "execute_result"
    }
   ],
   "source": [
    "item_similarity_df.head()"
   ]
  },
  {
   "cell_type": "markdown",
   "metadata": {},
   "source": [
    "# Build nearest neighbor model"
   ]
  },
  {
   "cell_type": "code",
   "execution_count": 37,
   "metadata": {},
   "outputs": [],
   "source": [
    "from reco.recommend import get_similar\n",
    "from sklearn.neighbors import NearestNeighbors, VALID_METRICS\n",
    "import matplotlib.pyplot as plt\n",
    "import matplotlib.image as mpimg\n",
    "import PIL"
   ]
  },
  {
   "cell_type": "code",
   "execution_count": 42,
   "metadata": {},
   "outputs": [],
   "source": [
    "from sklearn.neighbors import NearestNeighbors\n",
    "from sklearn.metrics.pairwise import cosine_distances, cosine_similarity"
   ]
  },
  {
   "cell_type": "code",
   "execution_count": 50,
   "metadata": {},
   "outputs": [],
   "source": [
    "def get_similar(embedding, k):\n",
    "    model_similar_items = NearestNeighbors(n_neighbors=k, metric=\"cosine\",\n",
    "                                           algorithm=\"brute\").fit(embedding)\n",
    "    distances, indices = model_similar_items.kneighbors(embedding)\n",
    "    \n",
    "    return distances, indices"
   ]
  },
  {
   "cell_type": "code",
   "execution_count": 51,
   "metadata": {},
   "outputs": [
    {
     "name": "stdout",
     "output_type": "stream",
     "text": [
      "CPU times: user 272 ms, sys: 180 ms, total: 453 ms\n",
      "Wall time: 130 ms\n"
     ]
    }
   ],
   "source": [
    "%%time\n",
    "item_distances, item_similar_indices = get_similar(overview_embedding_df, 5)"
   ]
  },
  {
   "cell_type": "code",
   "execution_count": 52,
   "metadata": {},
   "outputs": [
    {
     "data": {
      "text/plain": [
       "array([[   0, 1605, 1215, 1366, 1417],\n",
       "       [   1,  228, 1604,  848,  773],\n",
       "       [   2,  976,  494, 1402,  451],\n",
       "       ...,\n",
       "       [1742, 1472, 1743, 1473,   35],\n",
       "       [1744, 1373,  746,   47,   25],\n",
       "       [1745,  975,  620, 1646, 1647]])"
      ]
     },
     "execution_count": 52,
     "metadata": {},
     "output_type": "execute_result"
    }
   ],
   "source": [
    "item_similar_indices"
   ]
  },
  {
   "cell_type": "code",
   "execution_count": 53,
   "metadata": {},
   "outputs": [],
   "source": [
    "def show_similar(item_index, item_similar_indices):\n",
    "        \n",
    "    movie_ids = item_similar_indices[item_index]\n",
    "    #movie_ids = item_encoder.inverse_transform(s)\n",
    "\n",
    "    images = []\n",
    "    for movie_id in movie_ids:\n",
    "        img_path = 'data/posters/' + str(movie_id+1) + '.jpg'\n",
    "        images.append(mpimg.imread(img_path))\n",
    "\n",
    "    plt.figure(figsize=(20,10))\n",
    "    columns = 5\n",
    "    for i, image in enumerate(images):\n",
    "        plt.subplot(len(images) / columns + 1, columns, i + 1)\n",
    "        plt.axis('off')\n",
    "        plt.imshow(image)"
   ]
  },
  {
   "cell_type": "code",
   "execution_count": 56,
   "metadata": {},
   "outputs": [
    {
     "data": {
      "image/png": "[encoded data removed]",
      "text/plain": [
       "<Figure size 1440x720 with 5 Axes>"
      ]
     },
     "metadata": {
      "needs_background": "light"
     },
     "output_type": "display_data"
    }
   ],
   "source": [
    "show_similar(2, item_similar_indices)"
   ]
  },
  {
   "cell_type": "code",
   "execution_count": null,
   "metadata": {},
   "outputs": [],
   "source": []
  },
  {
   "cell_type": "code",
   "execution_count": null,
   "metadata": {},
   "outputs": [],
   "source": []
  }
 ],
 "metadata": {
  "kernelspec": {
   "display_name": "Python 3",
   "language": "python",
   "name": "python3"
  },
  "language_info": {
   "codemirror_mode": {
    "name": "ipython",
    "version": 3
   },
   "file_extension": ".py",
   "mimetype": "text/x-python",
   "name": "python",
   "nbconvert_exporter": "python",
   "pygments_lexer": "ipython3",
   "version": "3.6.8"
  }
 },
 "nbformat": 4,
 "nbformat_minor": 4
}
