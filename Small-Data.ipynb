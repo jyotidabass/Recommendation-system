{
 "cells": [
  {
   "cell_type": "markdown",
   "metadata": {},
   "source": [
    "# Matrix Factorisation - Intuition"
   ]
  },
  {
   "cell_type": "code",
   "execution_count": 1,
   "metadata": {},
   "outputs": [],
   "source": [
    "import warnings\n",
    "warnings.filterwarnings(\"ignore\")"
   ]
  },
  {
   "cell_type": "code",
   "execution_count": 2,
   "metadata": {},
   "outputs": [],
   "source": [
    "import numpy as np\n",
    "import pandas as pd"
   ]
  },
  {
   "cell_type": "code",
   "execution_count": 3,
   "metadata": {},
   "outputs": [],
   "source": [
    "ratings = pd.read_csv(\"data/ratings.csv\")\n",
    "items = pd.read_csv(\"data/items.csv\")\n",
    "users = pd.read_csv(\"data/users.csv\")"
   ]
  },
  {
   "cell_type": "code",
   "execution_count": 4,
   "metadata": {},
   "outputs": [
    {
     "data": {
      "text/html": [
       "<div>\n",
       "<style scoped>\n",
       "    .dataframe tbody tr th:only-of-type {\n",
       "        vertical-align: middle;\n",
       "    }\n",
       "\n",
       "    .dataframe tbody tr th {\n",
       "        vertical-align: top;\n",
       "    }\n",
       "\n",
       "    .dataframe thead th {\n",
       "        text-align: right;\n",
       "    }\n",
       "</style>\n",
       "<table border=\"1\" class=\"dataframe\">\n",
       "  <thead>\n",
       "    <tr style=\"text-align: right;\">\n",
       "      <th></th>\n",
       "      <th>user_id</th>\n",
       "      <th>movie_id</th>\n",
       "      <th>rating</th>\n",
       "      <th>unix_timestamp</th>\n",
       "    </tr>\n",
       "  </thead>\n",
       "  <tbody>\n",
       "    <tr>\n",
       "      <td>0</td>\n",
       "      <td>196</td>\n",
       "      <td>242</td>\n",
       "      <td>3</td>\n",
       "      <td>881250949</td>\n",
       "    </tr>\n",
       "    <tr>\n",
       "      <td>1</td>\n",
       "      <td>186</td>\n",
       "      <td>302</td>\n",
       "      <td>3</td>\n",
       "      <td>891717742</td>\n",
       "    </tr>\n",
       "    <tr>\n",
       "      <td>2</td>\n",
       "      <td>22</td>\n",
       "      <td>377</td>\n",
       "      <td>1</td>\n",
       "      <td>878887116</td>\n",
       "    </tr>\n",
       "    <tr>\n",
       "      <td>3</td>\n",
       "      <td>244</td>\n",
       "      <td>51</td>\n",
       "      <td>2</td>\n",
       "      <td>880606923</td>\n",
       "    </tr>\n",
       "    <tr>\n",
       "      <td>4</td>\n",
       "      <td>166</td>\n",
       "      <td>346</td>\n",
       "      <td>1</td>\n",
       "      <td>886397596</td>\n",
       "    </tr>\n",
       "  </tbody>\n",
       "</table>\n",
       "</div>"
      ],
      "text/plain": [
       "   user_id  movie_id  rating  unix_timestamp\n",
       "0      196       242       3       881250949\n",
       "1      186       302       3       891717742\n",
       "2       22       377       1       878887116\n",
       "3      244        51       2       880606923\n",
       "4      166       346       1       886397596"
      ]
     },
     "execution_count": 4,
     "metadata": {},
     "output_type": "execute_result"
    }
   ],
   "source": [
    "ratings.head()"
   ]
  },
  {
   "cell_type": "markdown",
   "metadata": {},
   "source": [
    "## Small Data\n",
    "\n",
    "| movie_id | title                 |\n",
    "| -------: | :-------------------- |\n",
    "|      1   | Toy Story (1995)      |\n",
    "|     71   | Lion King, The (1994) |\n",
    "|     95   | Aladdin (1992)        |\n",
    "|     50   | Star Wars (1972)      |\n",
    "|    176   | Aliens (1986)         |\n",
    "|     82   | Jurassic Park (1993)  |\n"
   ]
  },
  {
   "cell_type": "code",
   "execution_count": 23,
   "metadata": {},
   "outputs": [],
   "source": [
    "from recoflow.datasets import SampleData"
   ]
  },
  {
   "cell_type": "code",
   "execution_count": 24,
   "metadata": {},
   "outputs": [],
   "source": [
    "sample_users, sample_items, sample_ratings = SampleData(users, items, ratings)"
   ]
  },
  {
   "cell_type": "code",
   "execution_count": 25,
   "metadata": {},
   "outputs": [],
   "source": [
    "from recoflow.preprocessing import EncodeUserItem"
   ]
  },
  {
   "cell_type": "code",
   "execution_count": 26,
   "metadata": {},
   "outputs": [
    {
     "name": "stdout",
     "output_type": "stream",
     "text": [
      "Number of users:  10\n",
      "Number of items:  6\n"
     ]
    }
   ],
   "source": [
    "interaction, n_users, n_items, user_encoder, item_encoder = EncodeUserItem(sample_ratings,\n",
    "                                                         \"user_id\", \"movie_id\", \"rating\", \"unix_timestamp\")"
   ]
  },
  {
   "cell_type": "code",
   "execution_count": 27,
   "metadata": {},
   "outputs": [
    {
     "data": {
      "text/html": [
       "<div>\n",
       "<style scoped>\n",
       "    .dataframe tbody tr th:only-of-type {\n",
       "        vertical-align: middle;\n",
       "    }\n",
       "\n",
       "    .dataframe tbody tr th {\n",
       "        vertical-align: top;\n",
       "    }\n",
       "\n",
       "    .dataframe thead th {\n",
       "        text-align: right;\n",
       "    }\n",
       "</style>\n",
       "<table border=\"1\" class=\"dataframe\">\n",
       "  <thead>\n",
       "    <tr style=\"text-align: right;\">\n",
       "      <th></th>\n",
       "      <th>user_id</th>\n",
       "      <th>movie_id</th>\n",
       "      <th>RATING</th>\n",
       "      <th>TIMESTAMP</th>\n",
       "      <th>USER</th>\n",
       "      <th>ITEM</th>\n",
       "    </tr>\n",
       "  </thead>\n",
       "  <tbody>\n",
       "    <tr>\n",
       "      <td>1052</td>\n",
       "      <td>2</td>\n",
       "      <td>50</td>\n",
       "      <td>5</td>\n",
       "      <td>888552084</td>\n",
       "      <td>1</td>\n",
       "      <td>1</td>\n",
       "    </tr>\n",
       "    <tr>\n",
       "      <td>1090</td>\n",
       "      <td>8</td>\n",
       "      <td>50</td>\n",
       "      <td>5</td>\n",
       "      <td>879362124</td>\n",
       "      <td>4</td>\n",
       "      <td>1</td>\n",
       "    </tr>\n",
       "    <tr>\n",
       "      <td>3672</td>\n",
       "      <td>6</td>\n",
       "      <td>95</td>\n",
       "      <td>2</td>\n",
       "      <td>883602133</td>\n",
       "      <td>2</td>\n",
       "      <td>4</td>\n",
       "    </tr>\n",
       "    <tr>\n",
       "      <td>4280</td>\n",
       "      <td>1</td>\n",
       "      <td>82</td>\n",
       "      <td>5</td>\n",
       "      <td>878542589</td>\n",
       "      <td>0</td>\n",
       "      <td>3</td>\n",
       "    </tr>\n",
       "    <tr>\n",
       "      <td>4596</td>\n",
       "      <td>12</td>\n",
       "      <td>82</td>\n",
       "      <td>4</td>\n",
       "      <td>879959610</td>\n",
       "      <td>6</td>\n",
       "      <td>3</td>\n",
       "    </tr>\n",
       "  </tbody>\n",
       "</table>\n",
       "</div>"
      ],
      "text/plain": [
       "      user_id  movie_id  RATING  TIMESTAMP  USER  ITEM\n",
       "1052        2        50       5  888552084     1     1\n",
       "1090        8        50       5  879362124     4     1\n",
       "3672        6        95       2  883602133     2     4\n",
       "4280        1        82       5  878542589     0     3\n",
       "4596       12        82       4  879959610     6     3"
      ]
     },
     "execution_count": 27,
     "metadata": {},
     "output_type": "execute_result"
    }
   ],
   "source": [
    "interaction.head()"
   ]
  },
  {
   "cell_type": "code",
   "execution_count": 57,
   "metadata": {},
   "outputs": [
    {
     "data": {
      "text/plain": [
       "(1, 5)"
      ]
     },
     "execution_count": 57,
     "metadata": {},
     "output_type": "execute_result"
    }
   ],
   "source": [
    "max_rating = interaction.RATING.max()\n",
    "min_rating = interaction.RATING.min()\n",
    "min_rating, max_rating"
   ]
  },
  {
   "cell_type": "code",
   "execution_count": 28,
   "metadata": {},
   "outputs": [],
   "source": [
    "from recoflow.vis import InteractionVis, TrainTestVis"
   ]
  },
  {
   "cell_type": "code",
   "execution_count": 29,
   "metadata": {},
   "outputs": [
    {
     "data": {
      "application/vnd.vegalite.v3+json": {
       "$schema": "https://vega.github.io/schema/vega-lite/v3.4.0.json",
       "config": {
        "axis": {
         "grid": false
        },
        "mark": {
         "tooltip": null
        },
        "view": {
         "height": 300,
         "width": 400
        }
       },
       "data": {
        "name": "data-9794fa2be47445e32b4fd83ae56e13cb"
       },
       "datasets": {
        "data-9794fa2be47445e32b4fd83ae56e13cb": [
         {
          "ITEM": 1,
          "RATING": 5,
          "TIMESTAMP": 888552084,
          "USER": 1,
          "movie_id": 50,
          "user_id": 2
         },
         {
          "ITEM": 1,
          "RATING": 5,
          "TIMESTAMP": 879362124,
          "USER": 4,
          "movie_id": 50,
          "user_id": 8
         },
         {
          "ITEM": 4,
          "RATING": 2,
          "TIMESTAMP": 883602133,
          "USER": 2,
          "movie_id": 95,
          "user_id": 6
         },
         {
          "ITEM": 3,
          "RATING": 5,
          "TIMESTAMP": 878542589,
          "USER": 0,
          "movie_id": 82,
          "user_id": 1
         },
         {
          "ITEM": 3,
          "RATING": 4,
          "TIMESTAMP": 879959610,
          "USER": 6,
          "movie_id": 82,
          "user_id": 12
         },
         {
          "ITEM": 2,
          "RATING": 4,
          "TIMESTAMP": 879959635,
          "USER": 6,
          "movie_id": 71,
          "user_id": 12
         },
         {
          "ITEM": 3,
          "RATING": 3,
          "TIMESTAMP": 891351471,
          "USER": 3,
          "movie_id": 82,
          "user_id": 7
         },
         {
          "ITEM": 2,
          "RATING": 4,
          "TIMESTAMP": 882398654,
          "USER": 7,
          "movie_id": 71,
          "user_id": 13
         },
         {
          "ITEM": 5,
          "RATING": 4,
          "TIMESTAMP": 877889130,
          "USER": 5,
          "movie_id": 176,
          "user_id": 10
         },
         {
          "ITEM": 5,
          "RATING": 1,
          "TIMESTAMP": 890881484,
          "USER": 8,
          "movie_id": 176,
          "user_id": 14
         },
         {
          "ITEM": 5,
          "RATING": 5,
          "TIMESTAMP": 879362233,
          "USER": 4,
          "movie_id": 176,
          "user_id": 8
         },
         {
          "ITEM": 1,
          "RATING": 5,
          "TIMESTAMP": 890881557,
          "USER": 8,
          "movie_id": 50,
          "user_id": 14
         },
         {
          "ITEM": 1,
          "RATING": 4,
          "TIMESTAMP": 879959044,
          "USER": 6,
          "movie_id": 50,
          "user_id": 12
         },
         {
          "ITEM": 0,
          "RATING": 4,
          "TIMESTAMP": 877888877,
          "USER": 5,
          "movie_id": 1,
          "user_id": 10
         },
         {
          "ITEM": 5,
          "RATING": 3,
          "TIMESTAMP": 891350782,
          "USER": 3,
          "movie_id": 176,
          "user_id": 7
         },
         {
          "ITEM": 3,
          "RATING": 4,
          "TIMESTAMP": 877886912,
          "USER": 5,
          "movie_id": 82,
          "user_id": 10
         },
         {
          "ITEM": 1,
          "RATING": 5,
          "TIMESTAMP": 877888545,
          "USER": 5,
          "movie_id": 50,
          "user_id": 10
         },
         {
          "ITEM": 5,
          "RATING": 5,
          "TIMESTAMP": 876892468,
          "USER": 0,
          "movie_id": 176,
          "user_id": 1
         },
         {
          "ITEM": 1,
          "RATING": 4,
          "TIMESTAMP": 883600842,
          "USER": 2,
          "movie_id": 50,
          "user_id": 6
         },
         {
          "ITEM": 4,
          "RATING": 5,
          "TIMESTAMP": 877728417,
          "USER": 9,
          "movie_id": 95,
          "user_id": 16
         },
         {
          "ITEM": 0,
          "RATING": 4,
          "TIMESTAMP": 888550871,
          "USER": 1,
          "movie_id": 1,
          "user_id": 2
         },
         {
          "ITEM": 4,
          "RATING": 5,
          "TIMESTAMP": 882140104,
          "USER": 7,
          "movie_id": 95,
          "user_id": 13
         },
         {
          "ITEM": 3,
          "RATING": 5,
          "TIMESTAMP": 879362356,
          "USER": 4,
          "movie_id": 82,
          "user_id": 8
         },
         {
          "ITEM": 0,
          "RATING": 3,
          "TIMESTAMP": 882140487,
          "USER": 7,
          "movie_id": 1,
          "user_id": 13
         },
         {
          "ITEM": 0,
          "RATING": 5,
          "TIMESTAMP": 874965758,
          "USER": 0,
          "movie_id": 1,
          "user_id": 1
         },
         {
          "ITEM": 0,
          "RATING": 5,
          "TIMESTAMP": 877717833,
          "USER": 9,
          "movie_id": 1,
          "user_id": 16
         },
         {
          "ITEM": 2,
          "RATING": 3,
          "TIMESTAMP": 876892425,
          "USER": 0,
          "movie_id": 71,
          "user_id": 1
         },
         {
          "ITEM": 2,
          "RATING": 4,
          "TIMESTAMP": 883601053,
          "USER": 2,
          "movie_id": 71,
          "user_id": 6
         },
         {
          "ITEM": 1,
          "RATING": 5,
          "TIMESTAMP": 874965954,
          "USER": 0,
          "movie_id": 50,
          "user_id": 1
         },
         {
          "ITEM": 3,
          "RATING": 2,
          "TIMESTAMP": 882397503,
          "USER": 7,
          "movie_id": 82,
          "user_id": 13
         },
         {
          "ITEM": 1,
          "RATING": 5,
          "TIMESTAMP": 882140001,
          "USER": 7,
          "movie_id": 50,
          "user_id": 13
         },
         {
          "ITEM": 0,
          "RATING": 4,
          "TIMESTAMP": 883599478,
          "USER": 2,
          "movie_id": 1,
          "user_id": 6
         },
         {
          "ITEM": 2,
          "RATING": 5,
          "TIMESTAMP": 877721071,
          "USER": 9,
          "movie_id": 71,
          "user_id": 16
         },
         {
          "ITEM": 2,
          "RATING": 5,
          "TIMESTAMP": 891352692,
          "USER": 3,
          "movie_id": 71,
          "user_id": 7
         },
         {
          "ITEM": 4,
          "RATING": 4,
          "TIMESTAMP": 875072303,
          "USER": 0,
          "movie_id": 95,
          "user_id": 1
         },
         {
          "ITEM": 5,
          "RATING": 3,
          "TIMESTAMP": 882140455,
          "USER": 7,
          "movie_id": 176,
          "user_id": 13
         },
         {
          "ITEM": 1,
          "RATING": 5,
          "TIMESTAMP": 891351042,
          "USER": 3,
          "movie_id": 50,
          "user_id": 7
         }
        ]
       },
       "encoding": {
        "color": {
         "field": "RATING",
         "legend": {
          "direction": "horizontal",
          "orient": "bottom",
          "tickCount": 5,
          "titleOrient": "top"
         },
         "scale": {
          "nice": true,
          "scheme": "yellowgreenblue",
          "type": "bin-ordinal"
         },
         "type": "quantitative"
        },
        "x": {
         "axis": {
          "labelAngle": 0,
          "orient": "top"
         },
         "field": "ITEM",
         "type": "nominal"
        },
        "y": {
         "axis": {
          "orient": "left"
         },
         "field": "USER",
         "type": "nominal"
        }
       },
       "height": 300,
       "mark": "rect",
       "width": 180
      },
      "image/png": "[encoded data removed]",
      "text/plain": [
       "<VegaLite 3 object>\n",
       "\n",
       "If you see this message, it means the renderer has not been properly enabled\n",
       "for the frontend that you are using. For more information, see\n",
       "https://altair-viz.github.io/user_guide/troubleshooting.html\n"
      ]
     },
     "execution_count": 29,
     "metadata": {},
     "output_type": "execute_result"
    }
   ],
   "source": [
    "InteractionVis(interaction)"
   ]
  },
  {
   "cell_type": "code",
   "execution_count": 30,
   "metadata": {},
   "outputs": [],
   "source": [
    "from recoflow.preprocessing import RandomSplit, StratifiedSplit, ChronoSplit"
   ]
  },
  {
   "cell_type": "code",
   "execution_count": 99,
   "metadata": {},
   "outputs": [],
   "source": [
    "train, test = RandomSplit(interaction, [0.6, 0.4])"
   ]
  },
  {
   "cell_type": "code",
   "execution_count": 100,
   "metadata": {},
   "outputs": [
    {
     "data": {
      "application/vnd.vegalite.v3+json": {
       "$schema": "https://vega.github.io/schema/vega-lite/v3.4.0.json",
       "config": {
        "axis": {
         "grid": false
        },
        "mark": {
         "tooltip": null
        },
        "view": {
         "height": 300,
         "width": 400
        }
       },
       "data": {
        "name": "data-72fd8a1dd6c8c9134511933e8d96f1fb"
       },
       "datasets": {
        "data-72fd8a1dd6c8c9134511933e8d96f1fb": [
         {
          "ITEM": 1,
          "RATING": 5,
          "SPLIT": "train",
          "TIMESTAMP": 888552084,
          "USER": 1,
          "movie_id": 50,
          "split_index": 0,
          "user_id": 2
         },
         {
          "ITEM": 1,
          "RATING": 5,
          "SPLIT": "train",
          "TIMESTAMP": 879362124,
          "USER": 4,
          "movie_id": 50,
          "split_index": 0,
          "user_id": 8
         },
         {
          "ITEM": 4,
          "RATING": 2,
          "SPLIT": "train",
          "TIMESTAMP": 883602133,
          "USER": 2,
          "movie_id": 95,
          "split_index": 0,
          "user_id": 6
         },
         {
          "ITEM": 3,
          "RATING": 5,
          "SPLIT": "train",
          "TIMESTAMP": 878542589,
          "USER": 0,
          "movie_id": 82,
          "split_index": 0,
          "user_id": 1
         },
         {
          "ITEM": 3,
          "RATING": 4,
          "SPLIT": "train",
          "TIMESTAMP": 879959610,
          "USER": 6,
          "movie_id": 82,
          "split_index": 0,
          "user_id": 12
         },
         {
          "ITEM": 2,
          "RATING": 4,
          "SPLIT": "train",
          "TIMESTAMP": 879959635,
          "USER": 6,
          "movie_id": 71,
          "split_index": 0,
          "user_id": 12
         },
         {
          "ITEM": 3,
          "RATING": 3,
          "SPLIT": "train",
          "TIMESTAMP": 891351471,
          "USER": 3,
          "movie_id": 82,
          "split_index": 0,
          "user_id": 7
         },
         {
          "ITEM": 2,
          "RATING": 4,
          "SPLIT": "train",
          "TIMESTAMP": 882398654,
          "USER": 7,
          "movie_id": 71,
          "split_index": 0,
          "user_id": 13
         },
         {
          "ITEM": 5,
          "RATING": 4,
          "SPLIT": "train",
          "TIMESTAMP": 877889130,
          "USER": 5,
          "movie_id": 176,
          "split_index": 0,
          "user_id": 10
         },
         {
          "ITEM": 5,
          "RATING": 1,
          "SPLIT": "train",
          "TIMESTAMP": 890881484,
          "USER": 8,
          "movie_id": 176,
          "split_index": 0,
          "user_id": 14
         },
         {
          "ITEM": 5,
          "RATING": 5,
          "SPLIT": "train",
          "TIMESTAMP": 879362233,
          "USER": 4,
          "movie_id": 176,
          "split_index": 0,
          "user_id": 8
         },
         {
          "ITEM": 1,
          "RATING": 5,
          "SPLIT": "train",
          "TIMESTAMP": 890881557,
          "USER": 8,
          "movie_id": 50,
          "split_index": 0,
          "user_id": 14
         },
         {
          "ITEM": 1,
          "RATING": 4,
          "SPLIT": "train",
          "TIMESTAMP": 879959044,
          "USER": 6,
          "movie_id": 50,
          "split_index": 0,
          "user_id": 12
         },
         {
          "ITEM": 0,
          "RATING": 4,
          "SPLIT": "train",
          "TIMESTAMP": 877888877,
          "USER": 5,
          "movie_id": 1,
          "split_index": 0,
          "user_id": 10
         },
         {
          "ITEM": 5,
          "RATING": 3,
          "SPLIT": "train",
          "TIMESTAMP": 891350782,
          "USER": 3,
          "movie_id": 176,
          "split_index": 0,
          "user_id": 7
         },
         {
          "ITEM": 3,
          "RATING": 4,
          "SPLIT": "train",
          "TIMESTAMP": 877886912,
          "USER": 5,
          "movie_id": 82,
          "split_index": 0,
          "user_id": 10
         },
         {
          "ITEM": 1,
          "RATING": 5,
          "SPLIT": "train",
          "TIMESTAMP": 877888545,
          "USER": 5,
          "movie_id": 50,
          "split_index": 0,
          "user_id": 10
         },
         {
          "ITEM": 5,
          "RATING": 5,
          "SPLIT": "train",
          "TIMESTAMP": 876892468,
          "USER": 0,
          "movie_id": 176,
          "split_index": 0,
          "user_id": 1
         },
         {
          "ITEM": 1,
          "RATING": 4,
          "SPLIT": "train",
          "TIMESTAMP": 883600842,
          "USER": 2,
          "movie_id": 50,
          "split_index": 0,
          "user_id": 6
         },
         {
          "ITEM": 4,
          "RATING": 5,
          "SPLIT": "train",
          "TIMESTAMP": 877728417,
          "USER": 9,
          "movie_id": 95,
          "split_index": 0,
          "user_id": 16
         },
         {
          "ITEM": 0,
          "RATING": 4,
          "SPLIT": "train",
          "TIMESTAMP": 888550871,
          "USER": 1,
          "movie_id": 1,
          "split_index": 0,
          "user_id": 2
         },
         {
          "ITEM": 4,
          "RATING": 5,
          "SPLIT": "train",
          "TIMESTAMP": 882140104,
          "USER": 7,
          "movie_id": 95,
          "split_index": 0,
          "user_id": 13
         },
         {
          "ITEM": 3,
          "RATING": 5,
          "SPLIT": "test",
          "TIMESTAMP": 879362356,
          "USER": 4,
          "movie_id": 82,
          "split_index": 1,
          "user_id": 8
         },
         {
          "ITEM": 0,
          "RATING": 3,
          "SPLIT": "test",
          "TIMESTAMP": 882140487,
          "USER": 7,
          "movie_id": 1,
          "split_index": 1,
          "user_id": 13
         },
         {
          "ITEM": 0,
          "RATING": 5,
          "SPLIT": "test",
          "TIMESTAMP": 874965758,
          "USER": 0,
          "movie_id": 1,
          "split_index": 1,
          "user_id": 1
         },
         {
          "ITEM": 0,
          "RATING": 5,
          "SPLIT": "test",
          "TIMESTAMP": 877717833,
          "USER": 9,
          "movie_id": 1,
          "split_index": 1,
          "user_id": 16
         },
         {
          "ITEM": 2,
          "RATING": 3,
          "SPLIT": "test",
          "TIMESTAMP": 876892425,
          "USER": 0,
          "movie_id": 71,
          "split_index": 1,
          "user_id": 1
         },
         {
          "ITEM": 2,
          "RATING": 4,
          "SPLIT": "test",
          "TIMESTAMP": 883601053,
          "USER": 2,
          "movie_id": 71,
          "split_index": 1,
          "user_id": 6
         },
         {
          "ITEM": 1,
          "RATING": 5,
          "SPLIT": "test",
          "TIMESTAMP": 874965954,
          "USER": 0,
          "movie_id": 50,
          "split_index": 1,
          "user_id": 1
         },
         {
          "ITEM": 3,
          "RATING": 2,
          "SPLIT": "test",
          "TIMESTAMP": 882397503,
          "USER": 7,
          "movie_id": 82,
          "split_index": 1,
          "user_id": 13
         },
         {
          "ITEM": 1,
          "RATING": 5,
          "SPLIT": "test",
          "TIMESTAMP": 882140001,
          "USER": 7,
          "movie_id": 50,
          "split_index": 1,
          "user_id": 13
         },
         {
          "ITEM": 0,
          "RATING": 4,
          "SPLIT": "test",
          "TIMESTAMP": 883599478,
          "USER": 2,
          "movie_id": 1,
          "split_index": 1,
          "user_id": 6
         },
         {
          "ITEM": 2,
          "RATING": 5,
          "SPLIT": "test",
          "TIMESTAMP": 877721071,
          "USER": 9,
          "movie_id": 71,
          "split_index": 1,
          "user_id": 16
         },
         {
          "ITEM": 2,
          "RATING": 5,
          "SPLIT": "test",
          "TIMESTAMP": 891352692,
          "USER": 3,
          "movie_id": 71,
          "split_index": 1,
          "user_id": 7
         },
         {
          "ITEM": 4,
          "RATING": 4,
          "SPLIT": "test",
          "TIMESTAMP": 875072303,
          "USER": 0,
          "movie_id": 95,
          "split_index": 1,
          "user_id": 1
         },
         {
          "ITEM": 5,
          "RATING": 3,
          "SPLIT": "test",
          "TIMESTAMP": 882140455,
          "USER": 7,
          "movie_id": 176,
          "split_index": 1,
          "user_id": 13
         },
         {
          "ITEM": 1,
          "RATING": 5,
          "SPLIT": "test",
          "TIMESTAMP": 891351042,
          "USER": 3,
          "movie_id": 50,
          "split_index": 1,
          "user_id": 7
         }
        ]
       },
       "encoding": {
        "color": {
         "field": "SPLIT",
         "legend": {
          "direction": "horizontal",
          "orient": "bottom",
          "tickCount": 5,
          "titleOrient": "top"
         },
         "scale": {
          "nice": true,
          "scheme": "darkred",
          "type": "ordinal"
         },
         "type": "ordinal"
        },
        "opacity": {
         "value": 1
        },
        "x": {
         "axis": {
          "labelAngle": 0,
          "orient": "top"
         },
         "field": "ITEM",
         "type": "nominal"
        },
        "y": {
         "axis": {
          "orient": "left"
         },
         "field": "USER",
         "type": "nominal"
        }
       },
       "height": 300,
       "mark": "rect",
       "width": 180
      },
      "image/png": "[encoded data removed]",
      "text/plain": [
       "<VegaLite 3 object>\n",
       "\n",
       "If you see this message, it means the renderer has not been properly enabled\n",
       "for the frontend that you are using. For more information, see\n",
       "https://altair-viz.github.io/user_guide/troubleshooting.html\n"
      ]
     },
     "execution_count": 100,
     "metadata": {},
     "output_type": "execute_result"
    }
   ],
   "source": [
    "TrainTestVis(train, test)"
   ]
  },
  {
   "cell_type": "markdown",
   "metadata": {},
   "source": [
    "## Build Model"
   ]
  },
  {
   "cell_type": "code",
   "execution_count": 101,
   "metadata": {},
   "outputs": [],
   "source": [
    "from recoflow.models import ExplicitMatrixFactorisationBias"
   ]
  },
  {
   "cell_type": "code",
   "execution_count": 155,
   "metadata": {},
   "outputs": [],
   "source": [
    "n_factors = 2\n",
    "model = ExplicitMatrixFactorisationBias(n_users, n_items, n_factors, max_rating, min_rating)"
   ]
  },
  {
   "cell_type": "code",
   "execution_count": 156,
   "metadata": {},
   "outputs": [
    {
     "name": "stdout",
     "output_type": "stream",
     "text": [
      "Model: \"ExplicitMatrixFactorisationBias\"\n",
      "__________________________________________________________________________________________________\n",
      "Layer (type)                    Output Shape         Param #     Connected to                     \n",
      "==================================================================================================\n",
      "Item (InputLayer)               (None, 1)            0                                            \n",
      "__________________________________________________________________________________________________\n",
      "User (InputLayer)               (None, 1)            0                                            \n",
      "__________________________________________________________________________________________________\n",
      "ItemEmbedding (Embedding)       (None, 1, 2)         12          Item[0][0]                       \n",
      "__________________________________________________________________________________________________\n",
      "UserEmbedding (Embedding)       (None, 1, 2)         20          User[0][0]                       \n",
      "__________________________________________________________________________________________________\n",
      "FlattenItemE (Flatten)          (None, 2)            0           ItemEmbedding[0][0]              \n",
      "__________________________________________________________________________________________________\n",
      "FlattenUserE (Flatten)          (None, 2)            0           UserEmbedding[0][0]              \n",
      "__________________________________________________________________________________________________\n",
      "ItemBias (Embedding)            (None, 1, 1)         6           Item[0][0]                       \n",
      "__________________________________________________________________________________________________\n",
      "UserBias (Embedding)            (None, 1, 1)         10          User[0][0]                       \n",
      "__________________________________________________________________________________________________\n",
      "DotProduct (Dot)                (None, 1)            0           FlattenItemE[0][0]               \n",
      "                                                                 FlattenUserE[0][0]               \n",
      "__________________________________________________________________________________________________\n",
      "FlattenItemBiasE (Flatten)      (None, 1)            0           ItemBias[0][0]                   \n",
      "__________________________________________________________________________________________________\n",
      "FlattenUserBiasE (Flatten)      (None, 1)            0           UserBias[0][0]                   \n",
      "__________________________________________________________________________________________________\n",
      "AddBias (Add)                   (None, 1)            0           DotProduct[0][0]                 \n",
      "                                                                 FlattenItemBiasE[0][0]           \n",
      "                                                                 FlattenUserBiasE[0][0]           \n",
      "__________________________________________________________________________________________________\n",
      "activation_3 (Activation)       (None, 1)            0           AddBias[0][0]                    \n",
      "__________________________________________________________________________________________________\n",
      "lambda_3 (Lambda)               (None, 1)            0           activation_3[0][0]               \n",
      "==================================================================================================\n",
      "Total params: 48\n",
      "Trainable params: 48\n",
      "Non-trainable params: 0\n",
      "__________________________________________________________________________________________________\n"
     ]
    }
   ],
   "source": [
    "model.summary()"
   ]
  },
  {
   "cell_type": "code",
   "execution_count": 157,
   "metadata": {},
   "outputs": [
    {
     "name": "stdout",
     "output_type": "stream",
     "text": [
      "CPU times: user 8.51 s, sys: 1.25 s, total: 9.75 s\n",
      "Wall time: 7.33 s\n"
     ]
    }
   ],
   "source": [
    "%%time\n",
    "output = model.fit([train.USER, train.ITEM], train.RATING, shuffle=True, batch_size=1, epochs=100, verbose=0, \n",
    "                   validation_data=([test.USER, test.ITEM], test.RATING))"
   ]
  },
  {
   "cell_type": "code",
   "execution_count": 158,
   "metadata": {},
   "outputs": [],
   "source": [
    "from recoflow.vis import MetricsVis"
   ]
  },
  {
   "cell_type": "code",
   "execution_count": 159,
   "metadata": {},
   "outputs": [
    {
     "data": {
      "application/vnd.vegalite.v3+json": {
       "$schema": "https://vega.github.io/schema/vega-lite/v3.4.0.json",
       "config": {
        "mark": {
         "tooltip": null
        },
        "view": {
         "height": 300,
         "width": 400
        }
       },
       "data": {
        "name": "data-39203a5615d02b19756b81aee8e0e06e"
       },
       "datasets": {
        "data-39203a5615d02b19756b81aee8e0e06e": [
         {
          "batch": 1,
          "metrics": "loss",
          "type": "validation",
          "value": 2.3595998018378546
         },
         {
          "batch": 2,
          "metrics": "loss",
          "type": "validation",
          "value": 2.3363067559810586
         },
         {
          "batch": 3,
          "metrics": "loss",
          "type": "validation",
          "value": 2.315473632500895
         },
         {
          "batch": 4,
          "metrics": "loss",
          "type": "validation",
          "value": 2.2899373012594877
         },
         {
          "batch": 5,
          "metrics": "loss",
          "type": "validation",
          "value": 2.2667550797419
         },
         {
          "batch": 6,
          "metrics": "loss",
          "type": "validation",
          "value": 2.2430516773834825
         },
         {
          "batch": 7,
          "metrics": "loss",
          "type": "validation",
          "value": 2.218928933485101
         },
         {
          "batch": 8,
          "metrics": "loss",
          "type": "validation",
          "value": 2.1971759140801925
         },
         {
          "batch": 9,
          "metrics": "loss",
          "type": "validation",
          "value": 2.1741403366749483
         },
         {
          "batch": 10,
          "metrics": "loss",
          "type": "validation",
          "value": 2.1512243054807185
         },
         {
          "batch": 11,
          "metrics": "loss",
          "type": "validation",
          "value": 2.1290950644140443
         },
         {
          "batch": 12,
          "metrics": "loss",
          "type": "validation",
          "value": 2.106534293293953
         },
         {
          "batch": 13,
          "metrics": "loss",
          "type": "validation",
          "value": 2.085305488482118
         },
         {
          "batch": 14,
          "metrics": "loss",
          "type": "validation",
          "value": 2.06608888382713
         },
         {
          "batch": 15,
          "metrics": "loss",
          "type": "validation",
          "value": 2.043294706195593
         },
         {
          "batch": 16,
          "metrics": "loss",
          "type": "validation",
          "value": 2.0227368257939817
         },
         {
          "batch": 17,
          "metrics": "loss",
          "type": "validation",
          "value": 2.001574547464649
         },
         {
          "batch": 18,
          "metrics": "loss",
          "type": "validation",
          "value": 1.9831479653716086
         },
         {
          "batch": 19,
          "metrics": "loss",
          "type": "validation",
          "value": 1.9637038740019004
         },
         {
          "batch": 20,
          "metrics": "loss",
          "type": "validation",
          "value": 1.9433827514449755
         },
         {
          "batch": 21,
          "metrics": "loss",
          "type": "validation",
          "value": 1.924477122972409
         },
         {
          "batch": 22,
          "metrics": "loss",
          "type": "validation",
          "value": 1.9084426052868366
         },
         {
          "batch": 23,
          "metrics": "loss",
          "type": "validation",
          "value": 1.888773933549722
         },
         {
          "batch": 24,
          "metrics": "loss",
          "type": "validation",
          "value": 1.8722489669919014
         },
         {
          "batch": 25,
          "metrics": "loss",
          "type": "validation",
          "value": 1.8554005096356074
         },
         {
          "batch": 26,
          "metrics": "loss",
          "type": "validation",
          "value": 1.837032686173916
         },
         {
          "batch": 27,
          "metrics": "loss",
          "type": "validation",
          "value": 1.8239056438207626
         },
         {
          "batch": 28,
          "metrics": "loss",
          "type": "validation",
          "value": 1.8072071557243665
         },
         {
          "batch": 29,
          "metrics": "loss",
          "type": "validation",
          "value": 1.7928590521216392
         },
         {
          "batch": 30,
          "metrics": "loss",
          "type": "validation",
          "value": 1.7798539206385613
         },
         {
          "batch": 31,
          "metrics": "loss",
          "type": "validation",
          "value": 1.76434163103501
         },
         {
          "batch": 32,
          "metrics": "loss",
          "type": "validation",
          "value": 1.7522001897295316
         },
         {
          "batch": 33,
          "metrics": "loss",
          "type": "validation",
          "value": 1.7383466030160586
         },
         {
          "batch": 34,
          "metrics": "loss",
          "type": "validation",
          "value": 1.7265618364016215
         },
         {
          "batch": 35,
          "metrics": "loss",
          "type": "validation",
          "value": 1.7133323887983958
         },
         {
          "batch": 36,
          "metrics": "loss",
          "type": "validation",
          "value": 1.7028594354788462
         },
         {
          "batch": 37,
          "metrics": "loss",
          "type": "validation",
          "value": 1.6935475885868072
         },
         {
          "batch": 38,
          "metrics": "loss",
          "type": "validation",
          "value": 1.6811999986569086
         },
         {
          "batch": 39,
          "metrics": "loss",
          "type": "validation",
          "value": 1.6694642623265585
         },
         {
          "batch": 40,
          "metrics": "loss",
          "type": "validation",
          "value": 1.6635905812184015
         },
         {
          "batch": 41,
          "metrics": "loss",
          "type": "validation",
          "value": 1.654229222238064
         },
         {
          "batch": 42,
          "metrics": "loss",
          "type": "validation",
          "value": 1.6444485902786254
         },
         {
          "batch": 43,
          "metrics": "loss",
          "type": "validation",
          "value": 1.639475513001283
         },
         {
          "batch": 44,
          "metrics": "loss",
          "type": "validation",
          "value": 1.6298139462868373
         },
         {
          "batch": 45,
          "metrics": "loss",
          "type": "validation",
          "value": 1.624733842164278
         },
         {
          "batch": 46,
          "metrics": "loss",
          "type": "validation",
          "value": 1.6165392364064852
         },
         {
          "batch": 47,
          "metrics": "loss",
          "type": "validation",
          "value": 1.611235468586286
         },
         {
          "batch": 48,
          "metrics": "loss",
          "type": "validation",
          "value": 1.6066598532100518
         },
         {
          "batch": 49,
          "metrics": "loss",
          "type": "validation",
          "value": 1.6010827884078025
         },
         {
          "batch": 50,
          "metrics": "loss",
          "type": "validation",
          "value": 1.593630864843726
         },
         {
          "batch": 51,
          "metrics": "loss",
          "type": "validation",
          "value": 1.5906035035848618
         },
         {
          "batch": 52,
          "metrics": "loss",
          "type": "validation",
          "value": 1.5869181635479133
         },
         {
          "batch": 53,
          "metrics": "loss",
          "type": "validation",
          "value": 1.5833799857646227
         },
         {
          "batch": 54,
          "metrics": "loss",
          "type": "validation",
          "value": 1.5794398999462524
         },
         {
          "batch": 55,
          "metrics": "loss",
          "type": "validation",
          "value": 1.5756570187707741
         },
         {
          "batch": 56,
          "metrics": "loss",
          "type": "validation",
          "value": 1.5735216255222138
         },
         {
          "batch": 57,
          "metrics": "loss",
          "type": "validation",
          "value": 1.5735630884300917
         },
         {
          "batch": 58,
          "metrics": "loss",
          "type": "validation",
          "value": 1.5709348098878158
         },
         {
          "batch": 59,
          "metrics": "loss",
          "type": "validation",
          "value": 1.5683452395838686
         },
         {
          "batch": 60,
          "metrics": "loss",
          "type": "validation",
          "value": 1.5700622662669048
         },
         {
          "batch": 61,
          "metrics": "loss",
          "type": "validation",
          "value": 1.5644863976320873
         },
         {
          "batch": 62,
          "metrics": "loss",
          "type": "validation",
          "value": 1.5676329120062291
         },
         {
          "batch": 63,
          "metrics": "loss",
          "type": "validation",
          "value": 1.5623399190604688
         },
         {
          "batch": 64,
          "metrics": "loss",
          "type": "validation",
          "value": 1.5654218966141342
         },
         {
          "batch": 65,
          "metrics": "loss",
          "type": "validation",
          "value": 1.5631119190404812
         },
         {
          "batch": 66,
          "metrics": "loss",
          "type": "validation",
          "value": 1.5612002942711114
         },
         {
          "batch": 67,
          "metrics": "loss",
          "type": "validation",
          "value": 1.5632244041810432
         },
         {
          "batch": 68,
          "metrics": "loss",
          "type": "validation",
          "value": 1.5652808836350838
         },
         {
          "batch": 69,
          "metrics": "loss",
          "type": "validation",
          "value": 1.5647269854942958
         },
         {
          "batch": 70,
          "metrics": "loss",
          "type": "validation",
          "value": 1.5628180871407191
         },
         {
          "batch": 71,
          "metrics": "loss",
          "type": "validation",
          "value": 1.567386752118667
         },
         {
          "batch": 72,
          "metrics": "loss",
          "type": "validation",
          "value": 1.5655802324414254
         },
         {
          "batch": 73,
          "metrics": "loss",
          "type": "validation",
          "value": 1.5678146824240684
         },
         {
          "batch": 74,
          "metrics": "loss",
          "type": "validation",
          "value": 1.5695800950129828
         },
         {
          "batch": 75,
          "metrics": "loss",
          "type": "validation",
          "value": 1.5684153576691946
         },
         {
          "batch": 76,
          "metrics": "loss",
          "type": "validation",
          "value": 1.569999777774016
         },
         {
          "batch": 77,
          "metrics": "loss",
          "type": "validation",
          "value": 1.572445565958818
         },
         {
          "batch": 78,
          "metrics": "loss",
          "type": "validation",
          "value": 1.5735840489466986
         },
         {
          "batch": 79,
          "metrics": "loss",
          "type": "validation",
          "value": 1.577104076743126
         },
         {
          "batch": 80,
          "metrics": "loss",
          "type": "validation",
          "value": 1.5781962886452674
         },
         {
          "batch": 81,
          "metrics": "loss",
          "type": "validation",
          "value": 1.5793609728415807
         },
         {
          "batch": 82,
          "metrics": "loss",
          "type": "validation",
          "value": 1.5824805667002997
         },
         {
          "batch": 83,
          "metrics": "loss",
          "type": "validation",
          "value": 1.5825329651435216
         },
         {
          "batch": 84,
          "metrics": "loss",
          "type": "validation",
          "value": 1.5856510122617087
         },
         {
          "batch": 85,
          "metrics": "loss",
          "type": "validation",
          "value": 1.5913439214229583
         },
         {
          "batch": 86,
          "metrics": "loss",
          "type": "validation",
          "value": 1.5906568348407746
         },
         {
          "batch": 87,
          "metrics": "loss",
          "type": "validation",
          "value": 1.5921064227819444
         },
         {
          "batch": 88,
          "metrics": "loss",
          "type": "validation",
          "value": 1.59596655468146
         },
         {
          "batch": 89,
          "metrics": "loss",
          "type": "validation",
          "value": 1.5947074751059214
         },
         {
          "batch": 90,
          "metrics": "loss",
          "type": "validation",
          "value": 1.6024138768513998
         },
         {
          "batch": 91,
          "metrics": "loss",
          "type": "validation",
          "value": 1.6013300826152166
         },
         {
          "batch": 92,
          "metrics": "loss",
          "type": "validation",
          "value": 1.6023160884777705
         },
         {
          "batch": 93,
          "metrics": "loss",
          "type": "validation",
          "value": 1.6072221239407858
         },
         {
          "batch": 94,
          "metrics": "loss",
          "type": "validation",
          "value": 1.6078603625297547
         },
         {
          "batch": 95,
          "metrics": "loss",
          "type": "validation",
          "value": 1.6109299659729004
         },
         {
          "batch": 96,
          "metrics": "loss",
          "type": "validation",
          "value": 1.6141657173633575
         },
         {
          "batch": 97,
          "metrics": "loss",
          "type": "validation",
          "value": 1.616324112812678
         },
         {
          "batch": 98,
          "metrics": "loss",
          "type": "validation",
          "value": 1.6181227246920267
         },
         {
          "batch": 99,
          "metrics": "loss",
          "type": "validation",
          "value": 1.6203107078870138
         },
         {
          "batch": 100,
          "metrics": "loss",
          "type": "validation",
          "value": 1.623794561624527
         },
         {
          "batch": 1,
          "metrics": "loss",
          "type": "training",
          "value": 2.3013224284090525
         },
         {
          "batch": 2,
          "metrics": "loss",
          "type": "training",
          "value": 2.2691161685877224
         },
         {
          "batch": 3,
          "metrics": "loss",
          "type": "training",
          "value": 2.2341159943316597
         },
         {
          "batch": 4,
          "metrics": "loss",
          "type": "training",
          "value": 2.203760811545759
         },
         {
          "batch": 5,
          "metrics": "loss",
          "type": "training",
          "value": 2.1704795408163178
         },
         {
          "batch": 6,
          "metrics": "loss",
          "type": "training",
          "value": 2.1365029863187703
         },
         {
          "batch": 7,
          "metrics": "loss",
          "type": "training",
          "value": 2.1033236294804905
         },
         {
          "batch": 8,
          "metrics": "loss",
          "type": "training",
          "value": 2.069763127849993
         },
         {
          "batch": 9,
          "metrics": "loss",
          "type": "training",
          "value": 2.0371861916750773
         },
         {
          "batch": 10,
          "metrics": "loss",
          "type": "training",
          "value": 2.0033635041376825
         },
         {
          "batch": 11,
          "metrics": "loss",
          "type": "training",
          "value": 1.9691003483562781
         },
         {
          "batch": 12,
          "metrics": "loss",
          "type": "training",
          "value": 1.9355594221280874
         },
         {
          "batch": 13,
          "metrics": "loss",
          "type": "training",
          "value": 1.9035805509718413
         },
         {
          "batch": 14,
          "metrics": "loss",
          "type": "training",
          "value": 1.8679192427643598
         },
         {
          "batch": 15,
          "metrics": "loss",
          "type": "training",
          "value": 1.8335105669033178
         },
         {
          "batch": 16,
          "metrics": "loss",
          "type": "training",
          "value": 1.8000174591606166
         },
         {
          "batch": 17,
          "metrics": "loss",
          "type": "training",
          "value": 1.7653345656144666
         },
         {
          "batch": 18,
          "metrics": "loss",
          "type": "training",
          "value": 1.73219833555843
         },
         {
          "batch": 19,
          "metrics": "loss",
          "type": "training",
          "value": 1.6959928275636313
         },
         {
          "batch": 20,
          "metrics": "loss",
          "type": "training",
          "value": 1.6622610920167062
         },
         {
          "batch": 21,
          "metrics": "loss",
          "type": "training",
          "value": 1.6293730689001016
         },
         {
          "batch": 22,
          "metrics": "loss",
          "type": "training",
          "value": 1.5932400203124748
         },
         {
          "batch": 23,
          "metrics": "loss",
          "type": "training",
          "value": 1.5625795236026698
         },
         {
          "batch": 24,
          "metrics": "loss",
          "type": "training",
          "value": 1.5275884610177441
         },
         {
          "batch": 25,
          "metrics": "loss",
          "type": "training",
          "value": 1.4957981174123811
         },
         {
          "batch": 26,
          "metrics": "loss",
          "type": "training",
          "value": 1.4626306768676096
         },
         {
          "batch": 27,
          "metrics": "loss",
          "type": "training",
          "value": 1.4303240630066616
         },
         {
          "batch": 28,
          "metrics": "loss",
          "type": "training",
          "value": 1.3991307412295348
         },
         {
          "batch": 29,
          "metrics": "loss",
          "type": "training",
          "value": 1.3650824895382605
         },
         {
          "batch": 30,
          "metrics": "loss",
          "type": "training",
          "value": 1.3361086200351233
         },
         {
          "batch": 31,
          "metrics": "loss",
          "type": "training",
          "value": 1.3057018805676224
         },
         {
          "batch": 32,
          "metrics": "loss",
          "type": "training",
          "value": 1.2730245234402404
         },
         {
          "batch": 33,
          "metrics": "loss",
          "type": "training",
          "value": 1.2449263978791847
         },
         {
          "batch": 34,
          "metrics": "loss",
          "type": "training",
          "value": 1.2153161489298905
         },
         {
          "batch": 35,
          "metrics": "loss",
          "type": "training",
          "value": 1.186723468370143
         },
         {
          "batch": 36,
          "metrics": "loss",
          "type": "training",
          "value": 1.1592918695162304
         },
         {
          "batch": 37,
          "metrics": "loss",
          "type": "training",
          "value": 1.13158595521765
         },
         {
          "batch": 38,
          "metrics": "loss",
          "type": "training",
          "value": 1.1042939537120136
         },
         {
          "batch": 39,
          "metrics": "loss",
          "type": "training",
          "value": 1.0796793720430948
         },
         {
          "batch": 40,
          "metrics": "loss",
          "type": "training",
          "value": 1.0515632095259868
         },
         {
          "batch": 41,
          "metrics": "loss",
          "type": "training",
          "value": 1.0279137744695286
         },
         {
          "batch": 42,
          "metrics": "loss",
          "type": "training",
          "value": 1.0010566421657463
         },
         {
          "batch": 43,
          "metrics": "loss",
          "type": "training",
          "value": 0.9789737980939787
         },
         {
          "batch": 44,
          "metrics": "loss",
          "type": "training",
          "value": 0.955364637140354
         },
         {
          "batch": 45,
          "metrics": "loss",
          "type": "training",
          "value": 0.9316545430232178
         },
         {
          "batch": 46,
          "metrics": "loss",
          "type": "training",
          "value": 0.909601031167602
         },
         {
          "batch": 47,
          "metrics": "loss",
          "type": "training",
          "value": 0.8862795671024783
         },
         {
          "batch": 48,
          "metrics": "loss",
          "type": "training",
          "value": 0.8666291014206681
         },
         {
          "batch": 49,
          "metrics": "loss",
          "type": "training",
          "value": 0.8444258130832829
         },
         {
          "batch": 50,
          "metrics": "loss",
          "type": "training",
          "value": 0.8238591416738927
         },
         {
          "batch": 51,
          "metrics": "loss",
          "type": "training",
          "value": 0.8036125224633989
         },
         {
          "batch": 52,
          "metrics": "loss",
          "type": "training",
          "value": 0.7869317274413664
         },
         {
          "batch": 53,
          "metrics": "loss",
          "type": "training",
          "value": 0.7650453148579056
         },
         {
          "batch": 54,
          "metrics": "loss",
          "type": "training",
          "value": 0.7484154609793966
         },
         {
          "batch": 55,
          "metrics": "loss",
          "type": "training",
          "value": 0.7296215512535789
         },
         {
          "batch": 56,
          "metrics": "loss",
          "type": "training",
          "value": 0.7118577251041477
         },
         {
          "batch": 57,
          "metrics": "loss",
          "type": "training",
          "value": 0.6963252412705597
         },
         {
          "batch": 58,
          "metrics": "loss",
          "type": "training",
          "value": 0.6780754934403707
         },
         {
          "batch": 59,
          "metrics": "loss",
          "type": "training",
          "value": 0.6632074401396412
         },
         {
          "batch": 60,
          "metrics": "loss",
          "type": "training",
          "value": 0.6474162024890326
         },
         {
          "batch": 61,
          "metrics": "loss",
          "type": "training",
          "value": 0.6317600892560388
         },
         {
          "batch": 62,
          "metrics": "loss",
          "type": "training",
          "value": 0.6178098538604734
         },
         {
          "batch": 63,
          "metrics": "loss",
          "type": "training",
          "value": 0.6023489313877441
         },
         {
          "batch": 64,
          "metrics": "loss",
          "type": "training",
          "value": 0.5892421014948261
         },
         {
          "batch": 65,
          "metrics": "loss",
          "type": "training",
          "value": 0.5744218029186331
         },
         {
          "batch": 66,
          "metrics": "loss",
          "type": "training",
          "value": 0.5624754370698859
         },
         {
          "batch": 67,
          "metrics": "loss",
          "type": "training",
          "value": 0.5483085986586296
         },
         {
          "batch": 68,
          "metrics": "loss",
          "type": "training",
          "value": 0.5358850668917925
         },
         {
          "batch": 69,
          "metrics": "loss",
          "type": "training",
          "value": 0.5238740804390379
         },
         {
          "batch": 70,
          "metrics": "loss",
          "type": "training",
          "value": 0.5121232129796144
         },
         {
          "batch": 71,
          "metrics": "loss",
          "type": "training",
          "value": 0.5000097611945503
         },
         {
          "batch": 72,
          "metrics": "loss",
          "type": "training",
          "value": 0.48871137060632464
         },
         {
          "batch": 73,
          "metrics": "loss",
          "type": "training",
          "value": 0.4776896297222596
         },
         {
          "batch": 74,
          "metrics": "loss",
          "type": "training",
          "value": 0.4665011755233453
         },
         {
          "batch": 75,
          "metrics": "loss",
          "type": "training",
          "value": 0.456456836232519
         },
         {
          "batch": 76,
          "metrics": "loss",
          "type": "training",
          "value": 0.4461300003081719
         },
         {
          "batch": 77,
          "metrics": "loss",
          "type": "training",
          "value": 0.43630195868602395
         },
         {
          "batch": 78,
          "metrics": "loss",
          "type": "training",
          "value": 0.4257433903674775
         },
         {
          "batch": 79,
          "metrics": "loss",
          "type": "training",
          "value": 0.4169131620040968
         },
         {
          "batch": 80,
          "metrics": "loss",
          "type": "training",
          "value": 0.4077998477044854
         },
         {
          "batch": 81,
          "metrics": "loss",
          "type": "training",
          "value": 0.3982865500146628
         },
         {
          "batch": 82,
          "metrics": "loss",
          "type": "training",
          "value": 0.39006410217949783
         },
         {
          "batch": 83,
          "metrics": "loss",
          "type": "training",
          "value": 0.38103121013992597
         },
         {
          "batch": 84,
          "metrics": "loss",
          "type": "training",
          "value": 0.3724134687621369
         },
         {
          "batch": 85,
          "metrics": "loss",
          "type": "training",
          "value": 0.3647224415349642
         },
         {
          "batch": 86,
          "metrics": "loss",
          "type": "training",
          "value": 0.3568251856406939
         },
         {
          "batch": 87,
          "metrics": "loss",
          "type": "training",
          "value": 0.3492895796291784
         },
         {
          "batch": 88,
          "metrics": "loss",
          "type": "training",
          "value": 0.34135424074404663
         },
         {
          "batch": 89,
          "metrics": "loss",
          "type": "training",
          "value": 0.33398595375712664
         },
         {
          "batch": 90,
          "metrics": "loss",
          "type": "training",
          "value": 0.32701790423280647
         },
         {
          "batch": 91,
          "metrics": "loss",
          "type": "training",
          "value": 0.3196979194485307
         },
         {
          "batch": 92,
          "metrics": "loss",
          "type": "training",
          "value": 0.31284893948891707
         },
         {
          "batch": 93,
          "metrics": "loss",
          "type": "training",
          "value": 0.3057792665891942
         },
         {
          "batch": 94,
          "metrics": "loss",
          "type": "training",
          "value": 0.2997834361383205
         },
         {
          "batch": 95,
          "metrics": "loss",
          "type": "training",
          "value": 0.29339530207190284
         },
         {
          "batch": 96,
          "metrics": "loss",
          "type": "training",
          "value": 0.2868938151295879
         },
         {
          "batch": 97,
          "metrics": "loss",
          "type": "training",
          "value": 0.2813592610959445
         },
         {
          "batch": 98,
          "metrics": "loss",
          "type": "training",
          "value": 0.27488395580175246
         },
         {
          "batch": 99,
          "metrics": "loss",
          "type": "training",
          "value": 0.2700864557882596
         },
         {
          "batch": 100,
          "metrics": "loss",
          "type": "training",
          "value": 0.2633903234015055
         }
        ]
       },
       "facet": {
        "column": {
         "field": "metrics",
         "type": "nominal"
        }
       },
       "resolve": {
        "scale": {
         "y": "independent"
        }
       },
       "spec": {
        "layer": [
         {
          "encoding": {
           "color": {
            "field": "type",
            "type": "nominal"
           },
           "tooltip": [
            {
             "field": "batch",
             "type": "quantitative"
            },
            {
             "field": "value",
             "type": "quantitative"
            }
           ],
           "x": {
            "field": "batch",
            "type": "quantitative"
           },
           "y": {
            "field": "value",
            "type": "quantitative"
           }
          },
          "height": 300,
          "mark": {
           "size": 50,
           "type": "circle"
          },
          "width": 300
         },
         {
          "encoding": {
           "color": {
            "field": "type",
            "type": "nominal"
           },
           "x": {
            "field": "batch",
            "type": "quantitative"
           },
           "y": {
            "field": "value",
            "type": "quantitative"
           }
          },
          "height": 300,
          "mark": "line",
          "width": 300
         }
        ]
       }
      },
      "image/png": "[encoded data removed]",
      "text/plain": [
       "<VegaLite 3 object>\n",
       "\n",
       "If you see this message, it means the renderer has not been properly enabled\n",
       "for the frontend that you are using. For more information, see\n",
       "https://altair-viz.github.io/user_guide/troubleshooting.html\n"
      ]
     },
     "execution_count": 159,
     "metadata": {},
     "output_type": "execute_result"
    }
   ],
   "source": [
    "MetricsVis(output.history)"
   ]
  },
  {
   "cell_type": "code",
   "execution_count": 160,
   "metadata": {},
   "outputs": [],
   "source": [
    "from recoflow.recommend import UserEmbedding, ItemEmbedding"
   ]
  },
  {
   "cell_type": "code",
   "execution_count": 161,
   "metadata": {},
   "outputs": [],
   "source": [
    "item_embedding = UserEmbedding(model, \"ItemEmbedding\")\n",
    "user_embedding = ItemEmbedding(model, \"UserEmbedding\")"
   ]
  },
  {
   "cell_type": "code",
   "execution_count": 162,
   "metadata": {},
   "outputs": [
    {
     "data": {
      "text/plain": [
       "array([[ 0.4266383 ,  0.43679917],\n",
       "       [ 0.7709527 ,  1.0180782 ],\n",
       "       [ 0.49435946, -0.35138014],\n",
       "       [ 0.72814727, -0.51169   ],\n",
       "       [ 0.80276716, -0.93691117],\n",
       "       [ 0.88108987, -0.6649029 ]], dtype=float32)"
      ]
     },
     "execution_count": 162,
     "metadata": {},
     "output_type": "execute_result"
    }
   ],
   "source": [
    "item_embedding"
   ]
  },
  {
   "cell_type": "code",
   "execution_count": 163,
   "metadata": {},
   "outputs": [
    {
     "data": {
      "text/plain": [
       "array([[ 0.7634384 , -0.7496685 ],\n",
       "       [ 0.5777171 ,  0.602675  ],\n",
       "       [-0.24383129,  0.75017303],\n",
       "       [-0.14105083,  0.05877911],\n",
       "       [ 0.85818356,  0.08425549],\n",
       "       [ 0.80780387,  0.36935842],\n",
       "       [ 0.5184164 , -0.15546027],\n",
       "       [ 0.5371777 , -0.62514496],\n",
       "       [-0.1534093 ,  0.8556748 ],\n",
       "       [ 0.5974195 , -0.5847428 ]], dtype=float32)"
      ]
     },
     "execution_count": 163,
     "metadata": {},
     "output_type": "execute_result"
    }
   ],
   "source": [
    "user_embedding"
   ]
  },
  {
   "cell_type": "code",
   "execution_count": 212,
   "metadata": {},
   "outputs": [
    {
     "ename": "ImportError",
     "evalue": "cannot import name 'EmbeddingVis' from 'recoflow.vis' (/Users/amitkaps/miniconda3/envs/ml/lib/python3.7/site-packages/recoflow/vis.py)",
     "output_type": "error",
     "traceback": [
      "\u001b[0;31m-----------------------------------------------------------------------\u001b[0m",
      "\u001b[0;31mImportError\u001b[0m                           Traceback (most recent call last)",
      "\u001b[0;32m<ipython-input-212-d6aa3bd8c158>\u001b[0m in \u001b[0;36m<module>\u001b[0;34m\u001b[0m\n\u001b[0;32m----> 1\u001b[0;31m \u001b[0;32mfrom\u001b[0m \u001b[0mrecoflow\u001b[0m\u001b[0;34m.\u001b[0m\u001b[0mvis\u001b[0m \u001b[0;32mimport\u001b[0m \u001b[0mEmbeddingVis\u001b[0m\u001b[0;34m\u001b[0m\u001b[0;34m\u001b[0m\u001b[0m\n\u001b[0m",
      "\u001b[0;31mImportError\u001b[0m: cannot import name 'EmbeddingVis' from 'recoflow.vis' (/Users/amitkaps/miniconda3/envs/ml/lib/python3.7/site-packages/recoflow/vis.py)"
     ]
    }
   ],
   "source": [
    "from recoflow.vis import EmbeddingVis"
   ]
  },
  {
   "cell_type": "code",
   "execution_count": 209,
   "metadata": {},
   "outputs": [
    {
     "data": {
      "application/vnd.vegalite.v3+json": {
       "$schema": "https://vega.github.io/schema/vega-lite/v3.4.0.json",
       "config": {
        "mark": {
         "tooltip": null
        },
        "view": {
         "height": 300,
         "width": 400
        }
       },
       "data": {
        "name": "data-3a162cda04c1558a214665aac001c2ca"
       },
       "datasets": {
        "data-3a162cda04c1558a214665aac001c2ca": [
         {
          "ITEM": 0,
          "dim": 0,
          "value": 0.42663830518722534
         },
         {
          "ITEM": 1,
          "dim": 0,
          "value": 0.7709527015686035
         },
         {
          "ITEM": 2,
          "dim": 0,
          "value": 0.49435946345329285
         },
         {
          "ITEM": 3,
          "dim": 0,
          "value": 0.7281472682952881
         },
         {
          "ITEM": 4,
          "dim": 0,
          "value": 0.8027671575546265
         },
         {
          "ITEM": 5,
          "dim": 0,
          "value": 0.8810898661613464
         },
         {
          "ITEM": 0,
          "dim": 1,
          "value": 0.43679916858673096
         },
         {
          "ITEM": 1,
          "dim": 1,
          "value": 1.0180782079696655
         },
         {
          "ITEM": 2,
          "dim": 1,
          "value": -0.3513801395893097
         },
         {
          "ITEM": 3,
          "dim": 1,
          "value": -0.5116900205612183
         },
         {
          "ITEM": 4,
          "dim": 1,
          "value": -0.9369111657142639
         },
         {
          "ITEM": 5,
          "dim": 1,
          "value": -0.664902925491333
         }
        ]
       },
       "encoding": {
        "color": {
         "field": "value",
         "legend": {
          "direction": "horizontal",
          "orient": "bottom",
          "tickCount": 5,
          "titleOrient": "top"
         },
         "scale": {
          "nice": true,
          "scheme": "yellowgreenblue",
          "type": "bin-ordinal"
         },
         "type": "quantitative"
        },
        "x": {
         "axis": {
          "labelAngle": 0,
          "orient": "top"
         },
         "field": "ITEM",
         "type": "nominal"
        },
        "y": {
         "axis": {
          "orient": "left"
         },
         "field": "dim",
         "type": "nominal"
        }
       },
       "height": 60,
       "mark": "rect",
       "width": 180
      },
      "image/png": "[encoded data removed]",
      "text/plain": [
       "<VegaLite 3 object>\n",
       "\n",
       "If you see this message, it means the renderer has not been properly enabled\n",
       "for the frontend that you are using. For more information, see\n",
       "https://altair-viz.github.io/user_guide/troubleshooting.html\n"
      ]
     },
     "execution_count": 209,
     "metadata": {},
     "output_type": "execute_result"
    }
   ],
   "source": [
    "EmbeddingVis(item_embedding, n_factors, \"ITEM\")"
   ]
  },
  {
   "cell_type": "code",
   "execution_count": 210,
   "metadata": {},
   "outputs": [
    {
     "data": {
      "application/vnd.vegalite.v3+json": {
       "$schema": "https://vega.github.io/schema/vega-lite/v3.4.0.json",
       "config": {
        "mark": {
         "tooltip": null
        },
        "view": {
         "height": 300,
         "width": 400
        }
       },
       "data": {
        "name": "data-e3e1ab306af7a6eb4a5ff1f9ae990b2b"
       },
       "datasets": {
        "data-e3e1ab306af7a6eb4a5ff1f9ae990b2b": [
         {
          "USER": 0,
          "dim": 0,
          "value": 0.7634384036064148
         },
         {
          "USER": 1,
          "dim": 0,
          "value": 0.577717125415802
         },
         {
          "USER": 2,
          "dim": 0,
          "value": -0.24383129179477692
         },
         {
          "USER": 3,
          "dim": 0,
          "value": -0.14105083048343658
         },
         {
          "USER": 4,
          "dim": 0,
          "value": 0.8581835627555847
         },
         {
          "USER": 5,
          "dim": 0,
          "value": 0.8078038692474365
         },
         {
          "USER": 6,
          "dim": 0,
          "value": 0.5184164047241211
         },
         {
          "USER": 7,
          "dim": 0,
          "value": 0.5371776819229126
         },
         {
          "USER": 8,
          "dim": 0,
          "value": -0.15340930223464966
         },
         {
          "USER": 9,
          "dim": 0,
          "value": 0.5974195003509521
         },
         {
          "USER": 0,
          "dim": 1,
          "value": -0.7496684789657593
         },
         {
          "USER": 1,
          "dim": 1,
          "value": 0.6026750206947327
         },
         {
          "USER": 2,
          "dim": 1,
          "value": 0.750173032283783
         },
         {
          "USER": 3,
          "dim": 1,
          "value": 0.05877910926938057
         },
         {
          "USER": 4,
          "dim": 1,
          "value": 0.08425549417734146
         },
         {
          "USER": 5,
          "dim": 1,
          "value": 0.3693584203720093
         },
         {
          "USER": 6,
          "dim": 1,
          "value": -0.15546026825904846
         },
         {
          "USER": 7,
          "dim": 1,
          "value": -0.6251449584960938
         },
         {
          "USER": 8,
          "dim": 1,
          "value": 0.8556748032569885
         },
         {
          "USER": 9,
          "dim": 1,
          "value": -0.5847427845001221
         }
        ]
       },
       "encoding": {
        "color": {
         "field": "value",
         "legend": {
          "direction": "horizontal",
          "orient": "bottom",
          "tickCount": 5,
          "titleOrient": "top"
         },
         "scale": {
          "nice": true,
          "scheme": "yellowgreenblue",
          "type": "bin-ordinal"
         },
         "type": "quantitative"
        },
        "x": {
         "axis": {
          "labelAngle": 0,
          "orient": "top"
         },
         "field": "dim",
         "type": "nominal"
        },
        "y": {
         "axis": {
          "orient": "left"
         },
         "field": "USER",
         "type": "nominal"
        }
       },
       "height": 300,
       "mark": "rect",
       "width": 60
      },
      "image/png": "[encoded data removed]",
      "text/plain": [
       "<VegaLite 3 object>\n",
       "\n",
       "If you see this message, it means the renderer has not been properly enabled\n",
       "for the frontend that you are using. For more information, see\n",
       "https://altair-viz.github.io/user_guide/troubleshooting.html\n"
      ]
     },
     "execution_count": 210,
     "metadata": {},
     "output_type": "execute_result"
    }
   ],
   "source": [
    "EmbeddingVis(user_embedding, n_factors, \"USER\")"
   ]
  },
  {
   "cell_type": "code",
   "execution_count": 211,
   "metadata": {},
   "outputs": [
    {
     "data": {
      "application/vnd.vegalite.v3+json": {
       "$schema": "https://vega.github.io/schema/vega-lite/v3.4.0.json",
       "config": {
        "mark": {
         "tooltip": null
        },
        "view": {
         "height": 300,
         "width": 400
        }
       },
       "datasets": {
        "data-3a162cda04c1558a214665aac001c2ca": [
         {
          "ITEM": 0,
          "dim": 0,
          "value": 0.42663830518722534
         },
         {
          "ITEM": 1,
          "dim": 0,
          "value": 0.7709527015686035
         },
         {
          "ITEM": 2,
          "dim": 0,
          "value": 0.49435946345329285
         },
         {
          "ITEM": 3,
          "dim": 0,
          "value": 0.7281472682952881
         },
         {
          "ITEM": 4,
          "dim": 0,
          "value": 0.8027671575546265
         },
         {
          "ITEM": 5,
          "dim": 0,
          "value": 0.8810898661613464
         },
         {
          "ITEM": 0,
          "dim": 1,
          "value": 0.43679916858673096
         },
         {
          "ITEM": 1,
          "dim": 1,
          "value": 1.0180782079696655
         },
         {
          "ITEM": 2,
          "dim": 1,
          "value": -0.3513801395893097
         },
         {
          "ITEM": 3,
          "dim": 1,
          "value": -0.5116900205612183
         },
         {
          "ITEM": 4,
          "dim": 1,
          "value": -0.9369111657142639
         },
         {
          "ITEM": 5,
          "dim": 1,
          "value": -0.664902925491333
         }
        ],
        "data-e3e1ab306af7a6eb4a5ff1f9ae990b2b": [
         {
          "USER": 0,
          "dim": 0,
          "value": 0.7634384036064148
         },
         {
          "USER": 1,
          "dim": 0,
          "value": 0.577717125415802
         },
         {
          "USER": 2,
          "dim": 0,
          "value": -0.24383129179477692
         },
         {
          "USER": 3,
          "dim": 0,
          "value": -0.14105083048343658
         },
         {
          "USER": 4,
          "dim": 0,
          "value": 0.8581835627555847
         },
         {
          "USER": 5,
          "dim": 0,
          "value": 0.8078038692474365
         },
         {
          "USER": 6,
          "dim": 0,
          "value": 0.5184164047241211
         },
         {
          "USER": 7,
          "dim": 0,
          "value": 0.5371776819229126
         },
         {
          "USER": 8,
          "dim": 0,
          "value": -0.15340930223464966
         },
         {
          "USER": 9,
          "dim": 0,
          "value": 0.5974195003509521
         },
         {
          "USER": 0,
          "dim": 1,
          "value": -0.7496684789657593
         },
         {
          "USER": 1,
          "dim": 1,
          "value": 0.6026750206947327
         },
         {
          "USER": 2,
          "dim": 1,
          "value": 0.750173032283783
         },
         {
          "USER": 3,
          "dim": 1,
          "value": 0.05877910926938057
         },
         {
          "USER": 4,
          "dim": 1,
          "value": 0.08425549417734146
         },
         {
          "USER": 5,
          "dim": 1,
          "value": 0.3693584203720093
         },
         {
          "USER": 6,
          "dim": 1,
          "value": -0.15546026825904846
         },
         {
          "USER": 7,
          "dim": 1,
          "value": -0.6251449584960938
         },
         {
          "USER": 8,
          "dim": 1,
          "value": 0.8556748032569885
         },
         {
          "USER": 9,
          "dim": 1,
          "value": -0.5847427845001221
         }
        ]
       },
       "hconcat": [
        {
         "data": {
          "name": "data-e3e1ab306af7a6eb4a5ff1f9ae990b2b"
         },
         "encoding": {
          "color": {
           "field": "value",
           "legend": {
            "direction": "horizontal",
            "orient": "bottom",
            "tickCount": 5,
            "titleOrient": "top"
           },
           "scale": {
            "nice": true,
            "scheme": "yellowgreenblue",
            "type": "bin-ordinal"
           },
           "type": "quantitative"
          },
          "x": {
           "axis": {
            "labelAngle": 0,
            "orient": "top"
           },
           "field": "dim",
           "type": "nominal"
          },
          "y": {
           "axis": {
            "orient": "left"
           },
           "field": "USER",
           "type": "nominal"
          }
         },
         "height": 300,
         "mark": "rect",
         "width": 60
        },
        {
         "data": {
          "name": "data-3a162cda04c1558a214665aac001c2ca"
         },
         "encoding": {
          "color": {
           "field": "value",
           "legend": {
            "direction": "horizontal",
            "orient": "bottom",
            "tickCount": 5,
            "titleOrient": "top"
           },
           "scale": {
            "nice": true,
            "scheme": "yellowgreenblue",
            "type": "bin-ordinal"
           },
           "type": "quantitative"
          },
          "x": {
           "axis": {
            "labelAngle": 0,
            "orient": "top"
           },
           "field": "ITEM",
           "type": "nominal"
          },
          "y": {
           "axis": {
            "orient": "left"
           },
           "field": "dim",
           "type": "nominal"
          }
         },
         "height": 60,
         "mark": "rect",
         "width": 180
        }
       ]
      },
      "image/png": "[encoded data removed]",
      "text/plain": [
       "<VegaLite 3 object>\n",
       "\n",
       "If you see this message, it means the renderer has not been properly enabled\n",
       "for the frontend that you are using. For more information, see\n",
       "https://altair-viz.github.io/user_guide/troubleshooting.html\n"
      ]
     },
     "execution_count": 211,
     "metadata": {},
     "output_type": "execute_result"
    }
   ],
   "source": [
    "EmbeddingVis(user_embedding, n_factors, \"USER\") | EmbeddingVis(item_embedding, n_factors, \"ITEM\") "
   ]
  },
  {
   "cell_type": "code",
   "execution_count": 213,
   "metadata": {},
   "outputs": [],
   "source": [
    "from recoflow.recommend import GetPredictions, GetRankingTopK"
   ]
  },
  {
   "cell_type": "code",
   "execution_count": 214,
   "metadata": {},
   "outputs": [],
   "source": [
    "predictions = GetPredictions(model, interaction)"
   ]
  },
  {
   "cell_type": "code",
   "execution_count": 216,
   "metadata": {},
   "outputs": [
    {
     "data": {
      "application/vnd.vegalite.v3+json": {
       "$schema": "https://vega.github.io/schema/vega-lite/v3.4.0.json",
       "config": {
        "axis": {
         "grid": false
        },
        "mark": {
         "tooltip": null
        },
        "view": {
         "height": 300,
         "width": 400
        }
       },
       "data": {
        "name": "data-030053414facf0c95d4c0916054f902f"
       },
       "datasets": {
        "data-030053414facf0c95d4c0916054f902f": [
         {
          "ITEM": 1,
          "RATING": 4.525042533874512,
          "USER": 1
         },
         {
          "ITEM": 4,
          "RATING": 3.4519119262695312,
          "USER": 1
         },
         {
          "ITEM": 3,
          "RATING": 3.758251905441284,
          "USER": 1
         },
         {
          "ITEM": 2,
          "RATING": 3.684328556060791,
          "USER": 1
         },
         {
          "ITEM": 5,
          "RATING": 3.5420827865600586,
          "USER": 1
         },
         {
          "ITEM": 0,
          "RATING": 3.9941534996032715,
          "USER": 1
         },
         {
          "ITEM": 1,
          "RATING": 4.457489967346191,
          "USER": 4
         },
         {
          "ITEM": 4,
          "RATING": 4.163325786590576,
          "USER": 4
         },
         {
          "ITEM": 3,
          "RATING": 4.225610733032227,
          "USER": 4
         },
         {
          "ITEM": 2,
          "RATING": 4.069202899932861,
          "USER": 4
         },
         {
          "ITEM": 5,
          "RATING": 4.148058891296387,
          "USER": 4
         },
         {
          "ITEM": 0,
          "RATING": 4.033124923706055,
          "USER": 4
         },
         {
          "ITEM": 1,
          "RATING": 3.9940121173858643,
          "USER": 2
         },
         {
          "ITEM": 4,
          "RATING": 2.267279624938965,
          "USER": 2
         },
         {
          "ITEM": 3,
          "RATING": 2.696197509765625,
          "USER": 2
         },
         {
          "ITEM": 2,
          "RATING": 2.8249964714050293,
          "USER": 2
         },
         {
          "ITEM": 5,
          "RATING": 2.3303346633911133,
          "USER": 2
         },
         {
          "ITEM": 0,
          "RATING": 3.3698816299438477,
          "USER": 2
         },
         {
          "ITEM": 1,
          "RATING": 3.859039306640625,
          "USER": 0
         },
         {
          "ITEM": 4,
          "RATING": 4.533079624176025,
          "USER": 0
         },
         {
          "ITEM": 3,
          "RATING": 4.419366836547852,
          "USER": 0
         },
         {
          "ITEM": 2,
          "RATING": 4.226285934448242,
          "USER": 0
         },
         {
          "ITEM": 5,
          "RATING": 4.416132926940918,
          "USER": 0
         },
         {
          "ITEM": 0,
          "RATING": 3.696733236312866,
          "USER": 0
         },
         {
          "ITEM": 1,
          "RATING": 4.084014892578125,
          "USER": 6
         },
         {
          "ITEM": 4,
          "RATING": 4.037803649902344,
          "USER": 6
         },
         {
          "ITEM": 3,
          "RATING": 4.052545070648193,
          "USER": 6
         },
         {
          "ITEM": 2,
          "RATING": 3.9062767028808594,
          "USER": 6
         },
         {
          "ITEM": 5,
          "RATING": 3.951486587524414,
          "USER": 6
         },
         {
          "ITEM": 0,
          "RATING": 3.726719617843628,
          "USER": 6
         },
         {
          "ITEM": 1,
          "RATING": 3.471980333328247,
          "USER": 3
         },
         {
          "ITEM": 4,
          "RATING": 2.9769163131713867,
          "USER": 3
         },
         {
          "ITEM": 3,
          "RATING": 3.137287139892578,
          "USER": 3
         },
         {
          "ITEM": 2,
          "RATING": 3.133159637451172,
          "USER": 3
         },
         {
          "ITEM": 5,
          "RATING": 2.868990421295166,
          "USER": 3
         },
         {
          "ITEM": 0,
          "RATING": 3.130906343460083,
          "USER": 3
         },
         {
          "ITEM": 1,
          "RATING": 3.757328510284424,
          "USER": 7
         },
         {
          "ITEM": 4,
          "RATING": 4.356379508972168,
          "USER": 7
         },
         {
          "ITEM": 3,
          "RATING": 4.252635955810547,
          "USER": 7
         },
         {
          "ITEM": 2,
          "RATING": 4.072903633117676,
          "USER": 7
         },
         {
          "ITEM": 5,
          "RATING": 4.21536922454834,
          "USER": 7
         },
         {
          "ITEM": 0,
          "RATING": 3.5927414894104004,
          "USER": 7
         },
         {
          "ITEM": 1,
          "RATING": 4.548954963684082,
          "USER": 5
         },
         {
          "ITEM": 4,
          "RATING": 3.9097957611083984,
          "USER": 5
         },
         {
          "ITEM": 3,
          "RATING": 4.076635360717773,
          "USER": 5
         },
         {
          "ITEM": 2,
          "RATING": 3.9456300735473633,
          "USER": 5
         },
         {
          "ITEM": 5,
          "RATING": 3.9495255947113037,
          "USER": 5
         },
         {
          "ITEM": 0,
          "RATING": 4.078114032745361,
          "USER": 5
         },
         {
          "ITEM": 1,
          "RATING": 4.136589527130127,
          "USER": 8
         },
         {
          "ITEM": 4,
          "RATING": 2.263800621032715,
          "USER": 8
         },
         {
          "ITEM": 3,
          "RATING": 2.7295868396759033,
          "USER": 8
         },
         {
          "ITEM": 2,
          "RATING": 2.854670524597168,
          "USER": 8
         },
         {
          "ITEM": 5,
          "RATING": 2.358680486679077,
          "USER": 8
         },
         {
          "ITEM": 0,
          "RATING": 3.472015619277954,
          "USER": 8
         },
         {
          "ITEM": 1,
          "RATING": 3.7849059104919434,
          "USER": 9
         },
         {
          "ITEM": 4,
          "RATING": 4.33188533782959,
          "USER": 9
         },
         {
          "ITEM": 3,
          "RATING": 4.232998847961426,
          "USER": 9
         },
         {
          "ITEM": 2,
          "RATING": 4.044402122497559,
          "USER": 9
         },
         {
          "ITEM": 5,
          "RATING": 4.196937561035156,
          "USER": 9
         },
         {
          "ITEM": 0,
          "RATING": 3.5819289684295654,
          "USER": 9
         }
        ]
       },
       "encoding": {
        "color": {
         "field": "RATING",
         "legend": {
          "direction": "horizontal",
          "orient": "bottom",
          "tickCount": 5,
          "titleOrient": "top"
         },
         "scale": {
          "nice": true,
          "scheme": "yellowgreenblue",
          "type": "bin-ordinal"
         },
         "type": "quantitative"
        },
        "x": {
         "axis": {
          "labelAngle": 0,
          "orient": "top"
         },
         "field": "ITEM",
         "type": "nominal"
        },
        "y": {
         "axis": {
          "orient": "left"
         },
         "field": "USER",
         "type": "nominal"
        }
       },
       "height": 300,
       "mark": "rect",
       "width": 180
      },
      "image/png": "[encoded data removed]",
      "text/plain": [
       "<VegaLite 3 object>\n",
       "\n",
       "If you see this message, it means the renderer has not been properly enabled\n",
       "for the frontend that you are using. For more information, see\n",
       "https://altair-viz.github.io/user_guide/troubleshooting.html\n"
      ]
     },
     "execution_count": 216,
     "metadata": {},
     "output_type": "execute_result"
    }
   ],
   "source": [
    "InteractionVis(predictions)"
   ]
  },
  {
   "cell_type": "code",
   "execution_count": 319,
   "metadata": {},
   "outputs": [],
   "source": [
    "def SimilarityVis(item_embedding, user_embedding):\n",
    "    \n",
    "    item_embedding_df_wide = pd.DataFrame(item_embedding)\n",
    "    user_embedding_df_wide = pd.DataFrame(user_embedding)\n",
    "\n",
    "    item_embedding_df_wide.reset_index(inplace=True)\n",
    "    item_embedding_df_wide[\"idx\"] = item_embedding_df_wide[\"index\"].apply(lambda x: \"I\" + str(x))\n",
    "    item_embedding_df_wide.columns = [\"index\", \"X0\", \"X1\", \"idx\" ]\n",
    "\n",
    "    user_embedding_df_wide.reset_index(inplace=True)\n",
    "    user_embedding_df_wide[\"idx\"] = user_embedding_df_wide[\"index\"].apply(lambda x: \"U\" + str(x))\n",
    "    user_embedding_df_wide.columns = [\"index\", \"X0\", \"X1\", \"idx\" ]\n",
    "\n",
    "    embedding_df_wide = pd.concat([item_embedding_df_wide, user_embedding_df_wide])\n",
    "    \n",
    "    base = alt.Chart(edf).encode(\n",
    "        alt.X(\"X0:Q\", axis = alt.Axis(bandPosition = 0.5)),\n",
    "        alt.Y(\"X1:Q\", axis = alt.Axis(bandPosition = 0.5))\n",
    "    )\n",
    "\n",
    "    vis = base.mark_point(size=0) + base.mark_text().encode(text=\"idx\")\n",
    "    \n",
    "    return vis"
   ]
  },
  {
   "cell_type": "code",
   "execution_count": 320,
   "metadata": {},
   "outputs": [
    {
     "data": {
      "application/vnd.vegalite.v3+json": {
       "$schema": "https://vega.github.io/schema/vega-lite/v3.4.0.json",
       "config": {
        "mark": {
         "tooltip": null
        },
        "view": {
         "height": 300,
         "width": 400
        }
       },
       "data": {
        "name": "data-be73b32a1f94598140b7129142a8488d"
       },
       "datasets": {
        "data-be73b32a1f94598140b7129142a8488d": [
         {
          "X0": 0.42663830518722534,
          "X1": 0.43679916858673096,
          "idx": "I0",
          "index": 0
         },
         {
          "X0": 0.7709527015686035,
          "X1": 1.0180782079696655,
          "idx": "I1",
          "index": 1
         },
         {
          "X0": 0.49435946345329285,
          "X1": -0.3513801395893097,
          "idx": "I2",
          "index": 2
         },
         {
          "X0": 0.7281472682952881,
          "X1": -0.5116900205612183,
          "idx": "I3",
          "index": 3
         },
         {
          "X0": 0.8027671575546265,
          "X1": -0.9369111657142639,
          "idx": "I4",
          "index": 4
         },
         {
          "X0": 0.8810898661613464,
          "X1": -0.664902925491333,
          "idx": "I5",
          "index": 5
         },
         {
          "X0": 0.7634384036064148,
          "X1": -0.7496684789657593,
          "idx": "U0",
          "index": 0
         },
         {
          "X0": 0.577717125415802,
          "X1": 0.6026750206947327,
          "idx": "U1",
          "index": 1
         },
         {
          "X0": -0.24383129179477692,
          "X1": 0.750173032283783,
          "idx": "U2",
          "index": 2
         },
         {
          "X0": -0.14105083048343658,
          "X1": 0.05877910926938057,
          "idx": "U3",
          "index": 3
         },
         {
          "X0": 0.8581835627555847,
          "X1": 0.08425549417734146,
          "idx": "U4",
          "index": 4
         },
         {
          "X0": 0.8078038692474365,
          "X1": 0.3693584203720093,
          "idx": "U5",
          "index": 5
         },
         {
          "X0": 0.5184164047241211,
          "X1": -0.15546026825904846,
          "idx": "U6",
          "index": 6
         },
         {
          "X0": 0.5371776819229126,
          "X1": -0.6251449584960938,
          "idx": "U7",
          "index": 7
         },
         {
          "X0": -0.15340930223464966,
          "X1": 0.8556748032569885,
          "idx": "U8",
          "index": 8
         },
         {
          "X0": 0.5974195003509521,
          "X1": -0.5847427845001221,
          "idx": "U9",
          "index": 9
         }
        ]
       },
       "layer": [
        {
         "encoding": {
          "x": {
           "axis": {
            "bandPosition": 0.5
           },
           "field": "X0",
           "type": "quantitative"
          },
          "y": {
           "axis": {
            "bandPosition": 0.5
           },
           "field": "X1",
           "type": "quantitative"
          }
         },
         "mark": {
          "size": 0,
          "type": "point"
         }
        },
        {
         "encoding": {
          "text": {
           "field": "idx",
           "type": "nominal"
          },
          "x": {
           "axis": {
            "bandPosition": 0.5
           },
           "field": "X0",
           "type": "quantitative"
          },
          "y": {
           "axis": {
            "bandPosition": 0.5
           },
           "field": "X1",
           "type": "quantitative"
          }
         },
         "mark": "text"
        }
       ]
      },
      "image/png": "[encoded data removed]",
      "text/plain": [
       "<VegaLite 3 object>\n",
       "\n",
       "If you see this message, it means the renderer has not been properly enabled\n",
       "for the frontend that you are using. For more information, see\n",
       "https://altair-viz.github.io/user_guide/troubleshooting.html\n"
      ]
     },
     "execution_count": 320,
     "metadata": {},
     "output_type": "execute_result"
    }
   ],
   "source": [
    "SimilarityVis(item_embedding, user_embedding)"
   ]
  },
  {
   "cell_type": "code",
   "execution_count": 299,
   "metadata": {},
   "outputs": [
    {
     "data": {
      "text/html": [
       "<div>\n",
       "<style scoped>\n",
       "    .dataframe tbody tr th:only-of-type {\n",
       "        vertical-align: middle;\n",
       "    }\n",
       "\n",
       "    .dataframe tbody tr th {\n",
       "        vertical-align: top;\n",
       "    }\n",
       "\n",
       "    .dataframe thead th {\n",
       "        text-align: right;\n",
       "    }\n",
       "</style>\n",
       "<table border=\"1\" class=\"dataframe\">\n",
       "  <thead>\n",
       "    <tr style=\"text-align: right;\">\n",
       "      <th></th>\n",
       "      <th>index</th>\n",
       "      <th>X0</th>\n",
       "      <th>X1</th>\n",
       "      <th>idx</th>\n",
       "    </tr>\n",
       "  </thead>\n",
       "  <tbody>\n",
       "    <tr>\n",
       "      <td>0</td>\n",
       "      <td>0</td>\n",
       "      <td>0.426638</td>\n",
       "      <td>0.436799</td>\n",
       "      <td>I0</td>\n",
       "    </tr>\n",
       "    <tr>\n",
       "      <td>1</td>\n",
       "      <td>1</td>\n",
       "      <td>0.770953</td>\n",
       "      <td>1.018078</td>\n",
       "      <td>I1</td>\n",
       "    </tr>\n",
       "    <tr>\n",
       "      <td>2</td>\n",
       "      <td>2</td>\n",
       "      <td>0.494359</td>\n",
       "      <td>-0.351380</td>\n",
       "      <td>I2</td>\n",
       "    </tr>\n",
       "    <tr>\n",
       "      <td>3</td>\n",
       "      <td>3</td>\n",
       "      <td>0.728147</td>\n",
       "      <td>-0.511690</td>\n",
       "      <td>I3</td>\n",
       "    </tr>\n",
       "    <tr>\n",
       "      <td>4</td>\n",
       "      <td>4</td>\n",
       "      <td>0.802767</td>\n",
       "      <td>-0.936911</td>\n",
       "      <td>I4</td>\n",
       "    </tr>\n",
       "  </tbody>\n",
       "</table>\n",
       "</div>"
      ],
      "text/plain": [
       "   index        X0        X1 idx\n",
       "0      0  0.426638  0.436799  I0\n",
       "1      1  0.770953  1.018078  I1\n",
       "2      2  0.494359 -0.351380  I2\n",
       "3      3  0.728147 -0.511690  I3\n",
       "4      4  0.802767 -0.936911  I4"
      ]
     },
     "execution_count": 299,
     "metadata": {},
     "output_type": "execute_result"
    }
   ],
   "source": [
    "edf.head()"
   ]
  },
  {
   "cell_type": "code",
   "execution_count": 316,
   "metadata": {},
   "outputs": [],
   "source": [
    "base = alt.Chart(edf).encode(\n",
    "    alt.X(\"X0:Q\", axis = alt.Axis(bandPosition = 0.5)),\n",
    "    alt.Y(\"X1:Q\", axis = alt.Axis(bandPosition = 0.5))\n",
    ")\n",
    "\n",
    "vis = base.mark_point(size=1) + base.mark_text().encode(text=\"idx\")"
   ]
  },
  {
   "cell_type": "code",
   "execution_count": null,
   "metadata": {},
   "outputs": [],
   "source": []
  }
 ],
 "metadata": {
  "kernelspec": {
   "display_name": "Python 3",
   "language": "python",
   "name": "python3"
  },
  "language_info": {
   "codemirror_mode": {
    "name": "ipython",
    "version": 3
   },
   "file_extension": ".py",
   "mimetype": "text/x-python",
   "name": "python",
   "nbconvert_exporter": "python",
   "pygments_lexer": "ipython3",
   "version": "3.7.3"
  }
 },
 "nbformat": 4,
 "nbformat_minor": 4
}
