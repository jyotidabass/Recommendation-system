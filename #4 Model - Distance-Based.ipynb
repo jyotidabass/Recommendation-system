{
 "cells": [
  {
   "cell_type": "markdown",
   "metadata": {},
   "source": [
    "# Model - Distance Based\n",
    "\n",
    "Distance based metrics are commonly used methods to create similiarity between two items. They have been used for a long time in Information Retrieval methods.\n",
    "\n",
    "Here is a good article on [Distance Metrics for Fun and Profit](http://www.benfrederickson.com/distance-metrics/) by Ben on better understanding of these metrics"
   ]
  },
  {
   "cell_type": "markdown",
   "metadata": {},
   "source": [
    "## Finding similiarity\n",
    "\n",
    "- Doc2Vec\n",
    "- Cosine Similarity"
   ]
  },
  {
   "cell_type": "code",
   "execution_count": 1,
   "metadata": {
    "collapsed": true
   },
   "outputs": [],
   "source": [
    "import pandas as pd"
   ]
  },
  {
   "cell_type": "code",
   "execution_count": 2,
   "metadata": {
    "collapsed": true
   },
   "outputs": [],
   "source": [
    "stories = pd.read_csv(\"data/stories.csv\", low_memory=False)"
   ]
  },
  {
   "cell_type": "code",
   "execution_count": 3,
   "metadata": {},
   "outputs": [
    {
     "data": {
      "text/html": [
       "<div>\n",
       "<style>\n",
       "    .dataframe thead tr:only-child th {\n",
       "        text-align: right;\n",
       "    }\n",
       "\n",
       "    .dataframe thead th {\n",
       "        text-align: left;\n",
       "    }\n",
       "\n",
       "    .dataframe tbody tr th {\n",
       "        vertical-align: top;\n",
       "    }\n",
       "</style>\n",
       "<table border=\"1\" class=\"dataframe\">\n",
       "  <thead>\n",
       "    <tr style=\"text-align: right;\">\n",
       "      <th></th>\n",
       "      <th>story</th>\n",
       "      <th>title</th>\n",
       "      <th>score</th>\n",
       "      <th>user</th>\n",
       "    </tr>\n",
       "  </thead>\n",
       "  <tbody>\n",
       "    <tr>\n",
       "      <th>0</th>\n",
       "      <td>14274033</td>\n",
       "      <td>Uber is valued at $70B, you can get it at $999</td>\n",
       "      <td>503</td>\n",
       "      <td>appoets</td>\n",
       "    </tr>\n",
       "    <tr>\n",
       "      <th>1</th>\n",
       "      <td>14107522</td>\n",
       "      <td>Jeff Bezos? Annual Letter</td>\n",
       "      <td>547</td>\n",
       "      <td>djyaz1200</td>\n",
       "    </tr>\n",
       "    <tr>\n",
       "      <th>2</th>\n",
       "      <td>13647190</td>\n",
       "      <td>India has banned disposable plastic in Delhi</td>\n",
       "      <td>671</td>\n",
       "      <td>SimplyUseless</td>\n",
       "    </tr>\n",
       "    <tr>\n",
       "      <th>3</th>\n",
       "      <td>13309610</td>\n",
       "      <td>Startup Puts Everything You Need for a Two-Acr...</td>\n",
       "      <td>511</td>\n",
       "      <td>kungfudoi</td>\n",
       "    </tr>\n",
       "    <tr>\n",
       "      <th>4</th>\n",
       "      <td>13860890</td>\n",
       "      <td>The Uber Bombshell About to Drop</td>\n",
       "      <td>1089</td>\n",
       "      <td>dantiberian</td>\n",
       "    </tr>\n",
       "  </tbody>\n",
       "</table>\n",
       "</div>"
      ],
      "text/plain": [
       "      story                                              title  score  \\\n",
       "0  14274033     Uber is valued at $70B, you can get it at $999    503   \n",
       "1  14107522                          Jeff Bezos? Annual Letter    547   \n",
       "2  13647190       India has banned disposable plastic in Delhi    671   \n",
       "3  13309610  Startup Puts Everything You Need for a Two-Acr...    511   \n",
       "4  13860890                   The Uber Bombshell About to Drop   1089   \n",
       "\n",
       "            user  \n",
       "0        appoets  \n",
       "1      djyaz1200  \n",
       "2  SimplyUseless  \n",
       "3      kungfudoi  \n",
       "4    dantiberian  "
      ]
     },
     "execution_count": 3,
     "metadata": {},
     "output_type": "execute_result"
    }
   ],
   "source": [
    "stories.head()"
   ]
  },
  {
   "cell_type": "markdown",
   "metadata": {},
   "source": [
    "## Creating More features from Title"
   ]
  },
  {
   "cell_type": "code",
   "execution_count": 23,
   "metadata": {
    "collapsed": true
   },
   "outputs": [],
   "source": [
    "#! pip install spacy"
   ]
  },
  {
   "cell_type": "code",
   "execution_count": 26,
   "metadata": {
    "collapsed": true
   },
   "outputs": [],
   "source": [
    "#! python -m spacy download en"
   ]
  },
  {
   "cell_type": "code",
   "execution_count": 4,
   "metadata": {},
   "outputs": [],
   "source": [
    "# Lets use spact\n",
    "import spacy\n",
    "nlp = spacy.load('en')"
   ]
  },
  {
   "cell_type": "code",
   "execution_count": 6,
   "metadata": {},
   "outputs": [],
   "source": [
    "title0 = nlp(stories.title[0])\n",
    "title1 = nlp(stories.title[1])"
   ]
  },
  {
   "cell_type": "code",
   "execution_count": 7,
   "metadata": {},
   "outputs": [
    {
     "data": {
      "text/plain": [
       "(Uber is valued at $70B, you can get it at $999, Jeff Bezos? Annual Letter)"
      ]
     },
     "execution_count": 7,
     "metadata": {},
     "output_type": "execute_result"
    }
   ],
   "source": [
    "title0, title1 "
   ]
  },
  {
   "cell_type": "code",
   "execution_count": 8,
   "metadata": {},
   "outputs": [
    {
     "data": {
      "text/plain": [
       "(384, 384)"
      ]
     },
     "execution_count": 8,
     "metadata": {},
     "output_type": "execute_result"
    }
   ],
   "source": [
    "len(title0.vector), len(title1.vector)"
   ]
  },
  {
   "cell_type": "code",
   "execution_count": 10,
   "metadata": {},
   "outputs": [
    {
     "data": {
      "text/plain": [
       "-8.1985350679048196e-22"
      ]
     },
     "execution_count": 10,
     "metadata": {},
     "output_type": "execute_result"
    }
   ],
   "source": [
    "title0.similarity(title1)"
   ]
  },
  {
   "cell_type": "code",
   "execution_count": 13,
   "metadata": {
    "collapsed": true
   },
   "outputs": [],
   "source": [
    "story_similarity = []"
   ]
  },
  {
   "cell_type": "markdown",
   "metadata": {},
   "source": [
    "The below code is time consuming - and so, we will run it only for the first 100 titles"
   ]
  },
  {
   "cell_type": "code",
   "execution_count": 15,
   "metadata": {},
   "outputs": [],
   "source": [
    "%%time \n",
    "\n",
    "for story_row in stories.title[:100]:\n",
    "    for story_column in stories.title[:100]:\n",
    "        story_sim = nlp(story_row).similarity(nlp(story_column))\n",
    "        story_similarity.append([story_row, story_column, story_sim])"
   ]
  },
  {
   "cell_type": "code",
   "execution_count": 24,
   "metadata": {},
   "outputs": [],
   "source": [
    "story_similarity = pd.DataFrame(story_similarity,\n",
    "                               columns = [\"story1\", \"story2\", \"similarity\"] )"
   ]
  },
  {
   "cell_type": "code",
   "execution_count": 25,
   "metadata": {},
   "outputs": [
    {
     "data": {
      "text/html": [
       "<div>\n",
       "<style>\n",
       "    .dataframe thead tr:only-child th {\n",
       "        text-align: right;\n",
       "    }\n",
       "\n",
       "    .dataframe thead th {\n",
       "        text-align: left;\n",
       "    }\n",
       "\n",
       "    .dataframe tbody tr th {\n",
       "        vertical-align: top;\n",
       "    }\n",
       "</style>\n",
       "<table border=\"1\" class=\"dataframe\">\n",
       "  <thead>\n",
       "    <tr style=\"text-align: right;\">\n",
       "      <th></th>\n",
       "      <th>story1</th>\n",
       "      <th>story2</th>\n",
       "      <th>similarity</th>\n",
       "    </tr>\n",
       "  </thead>\n",
       "  <tbody>\n",
       "    <tr>\n",
       "      <th>0</th>\n",
       "      <td>Uber is valued at $70B, you can get it at $999</td>\n",
       "      <td>Uber is valued at $70B, you can get it at $999</td>\n",
       "      <td>0.000000e+00</td>\n",
       "    </tr>\n",
       "    <tr>\n",
       "      <th>1</th>\n",
       "      <td>Uber is valued at $70B, you can get it at $999</td>\n",
       "      <td>Jeff Bezos? Annual Letter</td>\n",
       "      <td>-8.198535e-22</td>\n",
       "    </tr>\n",
       "    <tr>\n",
       "      <th>2</th>\n",
       "      <td>Uber is valued at $70B, you can get it at $999</td>\n",
       "      <td>India has banned disposable plastic in Delhi</td>\n",
       "      <td>3.723083e+17</td>\n",
       "    </tr>\n",
       "    <tr>\n",
       "      <th>3</th>\n",
       "      <td>Uber is valued at $70B, you can get it at $999</td>\n",
       "      <td>Startup Puts Everything You Need for a Two-Acr...</td>\n",
       "      <td>2.046476e-02</td>\n",
       "    </tr>\n",
       "    <tr>\n",
       "      <th>4</th>\n",
       "      <td>Uber is valued at $70B, you can get it at $999</td>\n",
       "      <td>The Uber Bombshell About to Drop</td>\n",
       "      <td>0.000000e+00</td>\n",
       "    </tr>\n",
       "  </tbody>\n",
       "</table>\n",
       "</div>"
      ],
      "text/plain": [
       "                                           story1  \\\n",
       "0  Uber is valued at $70B, you can get it at $999   \n",
       "1  Uber is valued at $70B, you can get it at $999   \n",
       "2  Uber is valued at $70B, you can get it at $999   \n",
       "3  Uber is valued at $70B, you can get it at $999   \n",
       "4  Uber is valued at $70B, you can get it at $999   \n",
       "\n",
       "                                              story2    similarity  \n",
       "0     Uber is valued at $70B, you can get it at $999  0.000000e+00  \n",
       "1                          Jeff Bezos? Annual Letter -8.198535e-22  \n",
       "2       India has banned disposable plastic in Delhi  3.723083e+17  \n",
       "3  Startup Puts Everything You Need for a Two-Acr...  2.046476e-02  \n",
       "4                   The Uber Bombshell About to Drop  0.000000e+00  "
      ]
     },
     "execution_count": 25,
     "metadata": {},
     "output_type": "execute_result"
    }
   ],
   "source": [
    "story_similarity.head()"
   ]
  },
  {
   "cell_type": "code",
   "execution_count": 53,
   "metadata": {},
   "outputs": [],
   "source": [
    "similarity_matrix = pd.pivot(story_similarity.story1,\n",
    "        story_similarity.story2,\n",
    "        story_similarity.similarity)"
   ]
  },
  {
   "cell_type": "code",
   "execution_count": 51,
   "metadata": {},
   "outputs": [
    {
     "data": {
      "text/html": [
       "<div>\n",
       "<style>\n",
       "    .dataframe thead tr:only-child th {\n",
       "        text-align: right;\n",
       "    }\n",
       "\n",
       "    .dataframe thead th {\n",
       "        text-align: left;\n",
       "    }\n",
       "\n",
       "    .dataframe tbody tr th {\n",
       "        vertical-align: top;\n",
       "    }\n",
       "</style>\n",
       "<table border=\"1\" class=\"dataframe\">\n",
       "  <thead>\n",
       "    <tr style=\"text-align: right;\">\n",
       "      <th>story2</th>\n",
       "      <th>1Password Travel Mode: Protect your data when crossing borders</th>\n",
       "      <th>94-year-old Lithium-Ion Battery Inventor Introduces Solid State Battery</th>\n",
       "      <th>?Startup? asks internship applicant to build their app before phone screen</th>\n",
       "      <th>?The moon blew up without warning and for no apparent reason?</th>\n",
       "      <th>A crashed advertisement reveals logs of a facial recognition system</th>\n",
       "      <th>A lawsuit over Costco golf balls</th>\n",
       "      <th>A rising sentiment that IBM?s Watson can?t deliver on its promises</th>\n",
       "      <th>AMA: NY AG Schneiderman on net neutrality and protecting our voice in government</th>\n",
       "      <th>Accidentally destroyed production database on first day of a job</th>\n",
       "      <th>Afraid of Makefiles? Don't be</th>\n",
       "      <th>...</th>\n",
       "      <th>Welcome, ACLU</th>\n",
       "      <th>What Is Ethereum?</th>\n",
       "      <th>What the CIA WikiLeaks Dump Tells Us: Encryption Works</th>\n",
       "      <th>Whistleblower uncovers London police hacking of journalists and protestors</th>\n",
       "      <th>Why F.E.A.R.?s AI is still the best in first-person shooters</th>\n",
       "      <th>Why Should I Start a Startup?</th>\n",
       "      <th>Why Slack is inappropriate for open source communications</th>\n",
       "      <th>Why We Must Fight for the Right to Repair Our Electronics</th>\n",
       "      <th>Why do many math books have so much detail and so little enlightenment? (2010)</th>\n",
       "      <th>YC will hold interviews in Vancouver for founders who can?t get US visas</th>\n",
       "    </tr>\n",
       "    <tr>\n",
       "      <th>story1</th>\n",
       "      <th></th>\n",
       "      <th></th>\n",
       "      <th></th>\n",
       "      <th></th>\n",
       "      <th></th>\n",
       "      <th></th>\n",
       "      <th></th>\n",
       "      <th></th>\n",
       "      <th></th>\n",
       "      <th></th>\n",
       "      <th></th>\n",
       "      <th></th>\n",
       "      <th></th>\n",
       "      <th></th>\n",
       "      <th></th>\n",
       "      <th></th>\n",
       "      <th></th>\n",
       "      <th></th>\n",
       "      <th></th>\n",
       "      <th></th>\n",
       "      <th></th>\n",
       "    </tr>\n",
       "  </thead>\n",
       "  <tbody>\n",
       "    <tr>\n",
       "      <th>1Password Travel Mode: Protect your data when crossing borders</th>\n",
       "      <td>0.0000e+00</td>\n",
       "      <td>-2.1966e+17</td>\n",
       "      <td>0.0000e+00</td>\n",
       "      <td>0.0000e+00</td>\n",
       "      <td>0.0000e+00</td>\n",
       "      <td>0.0000e+00</td>\n",
       "      <td>0.0000e+00</td>\n",
       "      <td>0.0000e+00</td>\n",
       "      <td>0.0000e+00</td>\n",
       "      <td>0.0000e+00</td>\n",
       "      <td>...</td>\n",
       "      <td>0.0000e+00</td>\n",
       "      <td>2.5531e+17</td>\n",
       "      <td>-2.9869e+17</td>\n",
       "      <td>0.0000e+00</td>\n",
       "      <td>-3.4295e+17</td>\n",
       "      <td>0.0000e+00</td>\n",
       "      <td>0.0000e+00</td>\n",
       "      <td>0.0</td>\n",
       "      <td>0.0000e+00</td>\n",
       "      <td>0.0000e+00</td>\n",
       "    </tr>\n",
       "    <tr>\n",
       "      <th>94-year-old Lithium-Ion Battery Inventor Introduces Solid State Battery</th>\n",
       "      <td>-2.1966e+17</td>\n",
       "      <td>-1.5766e+17</td>\n",
       "      <td>0.0000e+00</td>\n",
       "      <td>0.0000e+00</td>\n",
       "      <td>0.0000e+00</td>\n",
       "      <td>-1.8643e+17</td>\n",
       "      <td>0.0000e+00</td>\n",
       "      <td>-2.1692e+17</td>\n",
       "      <td>0.0000e+00</td>\n",
       "      <td>0.0000e+00</td>\n",
       "      <td>...</td>\n",
       "      <td>0.0000e+00</td>\n",
       "      <td>0.0000e+00</td>\n",
       "      <td>0.0000e+00</td>\n",
       "      <td>0.0000e+00</td>\n",
       "      <td>0.0000e+00</td>\n",
       "      <td>0.0000e+00</td>\n",
       "      <td>0.0000e+00</td>\n",
       "      <td>0.0</td>\n",
       "      <td>0.0000e+00</td>\n",
       "      <td>0.0000e+00</td>\n",
       "    </tr>\n",
       "    <tr>\n",
       "      <th>?Startup? asks internship applicant to build their app before phone screen</th>\n",
       "      <td>0.0000e+00</td>\n",
       "      <td>0.0000e+00</td>\n",
       "      <td>0.0000e+00</td>\n",
       "      <td>0.0000e+00</td>\n",
       "      <td>0.0000e+00</td>\n",
       "      <td>0.0000e+00</td>\n",
       "      <td>0.0000e+00</td>\n",
       "      <td>0.0000e+00</td>\n",
       "      <td>0.0000e+00</td>\n",
       "      <td>0.0000e+00</td>\n",
       "      <td>...</td>\n",
       "      <td>0.0000e+00</td>\n",
       "      <td>0.0000e+00</td>\n",
       "      <td>0.0000e+00</td>\n",
       "      <td>-3.2323e+17</td>\n",
       "      <td>0.0000e+00</td>\n",
       "      <td>0.0000e+00</td>\n",
       "      <td>0.0000e+00</td>\n",
       "      <td>0.0</td>\n",
       "      <td>0.0000e+00</td>\n",
       "      <td>0.0000e+00</td>\n",
       "    </tr>\n",
       "    <tr>\n",
       "      <th>?The moon blew up without warning and for no apparent reason?</th>\n",
       "      <td>0.0000e+00</td>\n",
       "      <td>0.0000e+00</td>\n",
       "      <td>0.0000e+00</td>\n",
       "      <td>0.0000e+00</td>\n",
       "      <td>0.0000e+00</td>\n",
       "      <td>-2.8854e+17</td>\n",
       "      <td>0.0000e+00</td>\n",
       "      <td>0.0000e+00</td>\n",
       "      <td>0.0000e+00</td>\n",
       "      <td>0.0000e+00</td>\n",
       "      <td>...</td>\n",
       "      <td>0.0000e+00</td>\n",
       "      <td>0.0000e+00</td>\n",
       "      <td>0.0000e+00</td>\n",
       "      <td>0.0000e+00</td>\n",
       "      <td>0.0000e+00</td>\n",
       "      <td>3.2432e+17</td>\n",
       "      <td>0.0000e+00</td>\n",
       "      <td>0.0</td>\n",
       "      <td>0.0000e+00</td>\n",
       "      <td>0.0000e+00</td>\n",
       "    </tr>\n",
       "    <tr>\n",
       "      <th>A crashed advertisement reveals logs of a facial recognition system</th>\n",
       "      <td>0.0000e+00</td>\n",
       "      <td>0.0000e+00</td>\n",
       "      <td>0.0000e+00</td>\n",
       "      <td>0.0000e+00</td>\n",
       "      <td>0.0000e+00</td>\n",
       "      <td>0.0000e+00</td>\n",
       "      <td>0.0000e+00</td>\n",
       "      <td>2.7176e+17</td>\n",
       "      <td>-2.5067e+17</td>\n",
       "      <td>0.0000e+00</td>\n",
       "      <td>...</td>\n",
       "      <td>0.0000e+00</td>\n",
       "      <td>0.0000e+00</td>\n",
       "      <td>0.0000e+00</td>\n",
       "      <td>2.4399e+17</td>\n",
       "      <td>0.0000e+00</td>\n",
       "      <td>0.0000e+00</td>\n",
       "      <td>0.0000e+00</td>\n",
       "      <td>0.0</td>\n",
       "      <td>0.0000e+00</td>\n",
       "      <td>-2.8151e+17</td>\n",
       "    </tr>\n",
       "  </tbody>\n",
       "</table>\n",
       "<p>5 rows × 100 columns</p>\n",
       "</div>"
      ],
      "text/plain": [
       "story2        1Password Travel Mode: Protect your data when crossing borders  \\\n",
       "story1                                                                         \n",
       "1Password...   0.0000e+00                                                      \n",
       "94-year-o...  -2.1966e+17                                                      \n",
       "?Startup?...   0.0000e+00                                                      \n",
       "?The moon...   0.0000e+00                                                      \n",
       "A crashed...   0.0000e+00                                                      \n",
       "\n",
       "story2        94-year-old Lithium-Ion Battery Inventor Introduces Solid State Battery  \\\n",
       "story1                                                                                  \n",
       "1Password...  -2.1966e+17                                                               \n",
       "94-year-o...  -1.5766e+17                                                               \n",
       "?Startup?...   0.0000e+00                                                               \n",
       "?The moon...   0.0000e+00                                                               \n",
       "A crashed...   0.0000e+00                                                               \n",
       "\n",
       "story2        ?Startup? asks internship applicant to build their app before phone screen  \\\n",
       "story1                                                                                     \n",
       "1Password...   0.0000e+00                                                                  \n",
       "94-year-o...   0.0000e+00                                                                  \n",
       "?Startup?...   0.0000e+00                                                                  \n",
       "?The moon...   0.0000e+00                                                                  \n",
       "A crashed...   0.0000e+00                                                                  \n",
       "\n",
       "story2        ?The moon blew up without warning and for no apparent reason?  \\\n",
       "story1                                                                        \n",
       "1Password...   0.0000e+00                                                     \n",
       "94-year-o...   0.0000e+00                                                     \n",
       "?Startup?...   0.0000e+00                                                     \n",
       "?The moon...   0.0000e+00                                                     \n",
       "A crashed...   0.0000e+00                                                     \n",
       "\n",
       "story2        A crashed advertisement reveals logs of a facial recognition system  \\\n",
       "story1                                                                              \n",
       "1Password...   0.0000e+00                                                           \n",
       "94-year-o...   0.0000e+00                                                           \n",
       "?Startup?...   0.0000e+00                                                           \n",
       "?The moon...   0.0000e+00                                                           \n",
       "A crashed...   0.0000e+00                                                           \n",
       "\n",
       "story2        A lawsuit over Costco golf balls  \\\n",
       "story1                                           \n",
       "1Password...   0.0000e+00                        \n",
       "94-year-o...  -1.8643e+17                        \n",
       "?Startup?...   0.0000e+00                        \n",
       "?The moon...  -2.8854e+17                        \n",
       "A crashed...   0.0000e+00                        \n",
       "\n",
       "story2        A rising sentiment that IBM?s Watson can?t deliver on its promises  \\\n",
       "story1                                                                             \n",
       "1Password...   0.0000e+00                                                          \n",
       "94-year-o...   0.0000e+00                                                          \n",
       "?Startup?...   0.0000e+00                                                          \n",
       "?The moon...   0.0000e+00                                                          \n",
       "A crashed...   0.0000e+00                                                          \n",
       "\n",
       "story2        AMA: NY AG Schneiderman on net neutrality and protecting our voice in government  \\\n",
       "story1                                                                                           \n",
       "1Password...   0.0000e+00                                                                        \n",
       "94-year-o...  -2.1692e+17                                                                        \n",
       "?Startup?...   0.0000e+00                                                                        \n",
       "?The moon...   0.0000e+00                                                                        \n",
       "A crashed...   2.7176e+17                                                                        \n",
       "\n",
       "story2        Accidentally destroyed production database on first day of a job  \\\n",
       "story1                                                                           \n",
       "1Password...   0.0000e+00                                                        \n",
       "94-year-o...   0.0000e+00                                                        \n",
       "?Startup?...   0.0000e+00                                                        \n",
       "?The moon...   0.0000e+00                                                        \n",
       "A crashed...  -2.5067e+17                                                        \n",
       "\n",
       "story2        Afraid of Makefiles? Don't be  \\\n",
       "story1                                        \n",
       "1Password...   0.0000e+00                     \n",
       "94-year-o...   0.0000e+00                     \n",
       "?Startup?...   0.0000e+00                     \n",
       "?The moon...   0.0000e+00                     \n",
       "A crashed...   0.0000e+00                     \n",
       "\n",
       "story2                                          ...                                     \\\n",
       "story1                                          ...                                      \n",
       "1Password...                                    ...                                      \n",
       "94-year-o...                                    ...                                      \n",
       "?Startup?...                                    ...                                      \n",
       "?The moon...                                    ...                                      \n",
       "A crashed...                                    ...                                      \n",
       "\n",
       "story2        Welcome, ACLU  What Is Ethereum?  \\\n",
       "story1                                           \n",
       "1Password...   0.0000e+00     2.5531e+17         \n",
       "94-year-o...   0.0000e+00     0.0000e+00         \n",
       "?Startup?...   0.0000e+00     0.0000e+00         \n",
       "?The moon...   0.0000e+00     0.0000e+00         \n",
       "A crashed...   0.0000e+00     0.0000e+00         \n",
       "\n",
       "story2        What the CIA WikiLeaks Dump Tells Us: Encryption Works  \\\n",
       "story1                                                                 \n",
       "1Password...  -2.9869e+17                                              \n",
       "94-year-o...   0.0000e+00                                              \n",
       "?Startup?...   0.0000e+00                                              \n",
       "?The moon...   0.0000e+00                                              \n",
       "A crashed...   0.0000e+00                                              \n",
       "\n",
       "story2        Whistleblower uncovers London police hacking of journalists and protestors  \\\n",
       "story1                                                                                     \n",
       "1Password...   0.0000e+00                                                                  \n",
       "94-year-o...   0.0000e+00                                                                  \n",
       "?Startup?...  -3.2323e+17                                                                  \n",
       "?The moon...   0.0000e+00                                                                  \n",
       "A crashed...   2.4399e+17                                                                  \n",
       "\n",
       "story2        Why F.E.A.R.?s AI is still the best in first-person shooters  \\\n",
       "story1                                                                       \n",
       "1Password...  -3.4295e+17                                                    \n",
       "94-year-o...   0.0000e+00                                                    \n",
       "?Startup?...   0.0000e+00                                                    \n",
       "?The moon...   0.0000e+00                                                    \n",
       "A crashed...   0.0000e+00                                                    \n",
       "\n",
       "story2        Why Should I Start a Startup?  \\\n",
       "story1                                        \n",
       "1Password...   0.0000e+00                     \n",
       "94-year-o...   0.0000e+00                     \n",
       "?Startup?...   0.0000e+00                     \n",
       "?The moon...   3.2432e+17                     \n",
       "A crashed...   0.0000e+00                     \n",
       "\n",
       "story2        Why Slack is inappropriate for open source communications  \\\n",
       "story1                                                                    \n",
       "1Password...   0.0000e+00                                                 \n",
       "94-year-o...   0.0000e+00                                                 \n",
       "?Startup?...   0.0000e+00                                                 \n",
       "?The moon...   0.0000e+00                                                 \n",
       "A crashed...   0.0000e+00                                                 \n",
       "\n",
       "story2        Why We Must Fight for the Right to Repair Our Electronics  \\\n",
       "story1                                                                    \n",
       "1Password...          0.0                                                 \n",
       "94-year-o...          0.0                                                 \n",
       "?Startup?...          0.0                                                 \n",
       "?The moon...          0.0                                                 \n",
       "A crashed...          0.0                                                 \n",
       "\n",
       "story2        Why do many math books have so much detail and so little enlightenment? (2010)  \\\n",
       "story1                                                                                         \n",
       "1Password...   0.0000e+00                                                                      \n",
       "94-year-o...   0.0000e+00                                                                      \n",
       "?Startup?...   0.0000e+00                                                                      \n",
       "?The moon...   0.0000e+00                                                                      \n",
       "A crashed...   0.0000e+00                                                                      \n",
       "\n",
       "story2        YC will hold interviews in Vancouver for founders who can?t get US visas  \n",
       "story1                                                                                  \n",
       "1Password...   0.0000e+00                                                               \n",
       "94-year-o...   0.0000e+00                                                               \n",
       "?Startup?...   0.0000e+00                                                               \n",
       "?The moon...   0.0000e+00                                                               \n",
       "A crashed...  -2.8151e+17                                                               \n",
       "\n",
       "[5 rows x 100 columns]"
      ]
     },
     "execution_count": 51,
     "metadata": {},
     "output_type": "execute_result"
    }
   ],
   "source": [
    "similarity_matrix.head()"
   ]
  },
  {
   "cell_type": "code",
   "execution_count": 56,
   "metadata": {
    "collapsed": true
   },
   "outputs": [],
   "source": []
  },
  {
   "cell_type": "code",
   "execution_count": null,
   "metadata": {
    "collapsed": true,
    "jupyter": {
     "outputs_hidden": true
    }
   },
   "outputs": [],
   "source": []
  }
 ],
 "metadata": {
  "anaconda-cloud": {},
  "kernelspec": {
   "display_name": "Python 3",
   "language": "python",
   "name": "python3"
  },
  "language_info": {
   "codemirror_mode": {
    "name": "ipython",
    "version": 3
   },
   "file_extension": ".py",
   "mimetype": "text/x-python",
   "name": "python",
   "nbconvert_exporter": "python",
   "pygments_lexer": "ipython3",
   "version": "3.7.3"
  }
 },
 "nbformat": 4,
 "nbformat_minor": 4
}
